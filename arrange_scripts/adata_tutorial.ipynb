{
 "cells": [
  {
   "cell_type": "markdown",
   "id": "32c75d5b",
   "metadata": {},
   "source": [
    "# Loading Packages and Datasets"
   ]
  },
  {
   "cell_type": "code",
   "execution_count": 45,
   "id": "52780c6e",
   "metadata": {},
   "outputs": [],
   "source": [
    "import numpy as np\n",
    "import pandas as pd\n",
    "import scanpy as sc\n",
    "import scrublet as scr\n",
    "import scipy.io\n",
    "from scipy import io\n",
    "import matplotlib.pyplot as plt\n",
    "import os\n",
    "import bbknn as bk\n",
    "import scvelo as scv\n",
    "import harmonypy as hm\n",
    "from matplotlib.pyplot import rc_context\n",
    "import anndata\n"
   ]
  },
  {
   "cell_type": "code",
   "execution_count": 46,
   "id": "2a427abe",
   "metadata": {},
   "outputs": [],
   "source": [
    "sc.settings.set_figure_params(dpi=150,fontsize=8) #change global figure resolution\n"
   ]
  },
  {
   "cell_type": "code",
   "execution_count": 47,
   "id": "3c8d7e31",
   "metadata": {},
   "outputs": [],
   "source": [
    "#load all dataset\n",
    "\n",
    "donor1_r1 = sc.read_h5ad(r'/home/user/abhay/scTE_gonads/GSE112013/donor/GSE112013_SRR6860519_Donor1_rep1.h5ad')\n",
    "donor1_r2 = sc.read_h5ad(r'/home/user/abhay/scTE_gonads/GSE112013/donor/GSE112013_SRR6860520_Donor1_rep2.h5ad')\n",
    "donor2_r1 = sc.read_h5ad(r'/home/user/abhay/scTE_gonads/GSE112013/donor/GSE112013_SRR6860521_Donor2_rep1.h5ad')\n",
    "donor2_r2 = sc.read_h5ad(r'/home/user/abhay/scTE_gonads/GSE112013/donor/GSE112013_SRR6860522_Donor2_rep2.h5ad')\n",
    "donor3_r1 = sc.read_h5ad(r'/home/user/abhay/scTE_gonads/GSE112013/donor/GSE112013_SRR6860523_Donor3_rep1.h5ad')\n",
    "donor3_r2 = sc.read_h5ad(r'/home/user/abhay/scTE_gonads/GSE112013/donor/GSE112013_SRR6860524_Donor3_rep2.h5ad')\n"
   ]
  },
  {
   "cell_type": "code",
   "execution_count": 48,
   "id": "22c10bff",
   "metadata": {},
   "outputs": [],
   "source": [
    "adata=donor1_r1.concatenate(donor1_r2,donor2_r1,donor2_r2,donor3_r1,donor3_r2,\n",
    "                            join=\"outer\",\n",
    "                            batch_categories=['Donor1_r1', 'Donor1_r2', 'Donor2_r1',\n",
    "                                              'Donor2_r2', 'Donor3_r1', 'Donor3_r2'],\n",
    "                           batch_key = \"samples\")"
   ]
  },
  {
   "cell_type": "code",
   "execution_count": null,
   "id": "ab23165f",
   "metadata": {},
   "outputs": [],
   "source": []
  },
  {
   "cell_type": "markdown",
   "id": "11eff03a",
   "metadata": {},
   "source": [
    "# Add column for TE elements"
   ]
  },
  {
   "cell_type": "code",
   "execution_count": 49,
   "id": "4f49d531",
   "metadata": {},
   "outputs": [],
   "source": [
    "#load list of human TEs\n",
    "df = pd.read_csv('/home/user/abhay/scTE_gonads/Ancestrial_TE.csv')"
   ]
  },
  {
   "cell_type": "code",
   "execution_count": 50,
   "id": "4e3ceb95",
   "metadata": {},
   "outputs": [
    {
     "data": {
      "text/plain": [
       "667"
      ]
     },
     "execution_count": 50,
     "metadata": {},
     "output_type": "execute_result"
    }
   ],
   "source": [
    "tename = list(df.iloc[:, 0])\n",
    "tename = [k for k in tename if k in adata.var.index]\n",
    "len(tename)"
   ]
  },
  {
   "cell_type": "code",
   "execution_count": 54,
   "id": "256f52af",
   "metadata": {},
   "outputs": [
    {
     "data": {
      "text/plain": [
       "58389"
      ]
     },
     "execution_count": 54,
     "metadata": {},
     "output_type": "execute_result"
    }
   ],
   "source": [
    "Alu = adata.var_names.str.startswith('Alu')\n",
    "AluY = adata.var_names.str.startswith('AluY')\n"
   ]
  },
  {
   "cell_type": "code",
   "execution_count": 55,
   "id": "8033c6b2",
   "metadata": {},
   "outputs": [
    {
     "ename": "AttributeError",
     "evalue": "'list' object has no attribute 'str'",
     "output_type": "error",
     "traceback": [
      "\u001b[0;31m---------------------------------------------------------------------------\u001b[0m",
      "\u001b[0;31mAttributeError\u001b[0m                            Traceback (most recent call last)",
      "Input \u001b[0;32mIn [55]\u001b[0m, in \u001b[0;36m<cell line: 1>\u001b[0;34m()\u001b[0m\n\u001b[0;32m----> 1\u001b[0m Alu1 \u001b[38;5;241m=\u001b[39m \u001b[43mtename\u001b[49m\u001b[38;5;241;43m.\u001b[39;49m\u001b[43mstr\u001b[49m\u001b[38;5;241m.\u001b[39mstratswith(\u001b[38;5;124m'\u001b[39m\u001b[38;5;124mAlu\u001b[39m\u001b[38;5;124m'\u001b[39m)\n",
      "\u001b[0;31mAttributeError\u001b[0m: 'list' object has no attribute 'str'"
     ]
    }
   ],
   "source": [
    "Alu1 = tename.str.stratswith('Alu')"
   ]
  },
  {
   "cell_type": "markdown",
   "id": "af1002ea",
   "metadata": {},
   "source": [
    "# Calculating QC "
   ]
  },
  {
   "cell_type": "code",
   "execution_count": 24,
   "id": "11981af9",
   "metadata": {},
   "outputs": [],
   "source": [
    "sc.pp.filter_cells(adata, min_genes=500)\n",
    "sc.pp.filter_genes(adata, min_cells=3)"
   ]
  },
  {
   "cell_type": "code",
   "execution_count": 25,
   "id": "dd436dfc",
   "metadata": {},
   "outputs": [],
   "source": [
    "mito_genes = adata.var_names.str.startswith('MT-')\n",
    "adata.obs['percent_mito'] = np.sum(adata[:, mito_genes].X, axis=1).A1 / np.sum(adata.X, axis=1).A1"
   ]
  },
  {
   "cell_type": "code",
   "execution_count": 26,
   "id": "5c9f6d00",
   "metadata": {},
   "outputs": [],
   "source": [
    "ribo_genes = adata.var_names.str.startswith('RBS','RPL')\n",
    "adata.obs['percent_ribo'] = np.sum(adata[:, ribo_genes].X, axis=1).A1 / np.sum(adata.X, axis=1).A1"
   ]
  },
  {
   "cell_type": "code",
   "execution_count": 27,
   "id": "b9341983",
   "metadata": {},
   "outputs": [],
   "source": [
    "sc.pp.calculate_qc_metrics(adata, percent_top=None, log1p=False, inplace=True)"
   ]
  },
  {
   "cell_type": "code",
   "execution_count": 30,
   "id": "a9c020dc",
   "metadata": {},
   "outputs": [
    {
     "data": {
      "text/html": [
       "<div>\n",
       "<style scoped>\n",
       "    .dataframe tbody tr th:only-of-type {\n",
       "        vertical-align: middle;\n",
       "    }\n",
       "\n",
       "    .dataframe tbody tr th {\n",
       "        vertical-align: top;\n",
       "    }\n",
       "\n",
       "    .dataframe thead th {\n",
       "        text-align: right;\n",
       "    }\n",
       "</style>\n",
       "<table border=\"1\" class=\"dataframe\">\n",
       "  <thead>\n",
       "    <tr style=\"text-align: right;\">\n",
       "      <th></th>\n",
       "      <th>n_cells</th>\n",
       "      <th>n_cells_by_counts</th>\n",
       "      <th>mean_counts</th>\n",
       "      <th>pct_dropout_by_counts</th>\n",
       "      <th>total_counts</th>\n",
       "    </tr>\n",
       "  </thead>\n",
       "  <tbody>\n",
       "    <tr>\n",
       "      <th>(CATTC)n</th>\n",
       "      <td>436</td>\n",
       "      <td>436</td>\n",
       "      <td>0.087004</td>\n",
       "      <td>98.176266</td>\n",
       "      <td>2080.0</td>\n",
       "    </tr>\n",
       "    <tr>\n",
       "      <th>(GAATG)n</th>\n",
       "      <td>455</td>\n",
       "      <td>455</td>\n",
       "      <td>0.040197</td>\n",
       "      <td>98.096792</td>\n",
       "      <td>961.0</td>\n",
       "    </tr>\n",
       "    <tr>\n",
       "      <th>A1BG</th>\n",
       "      <td>562</td>\n",
       "      <td>562</td>\n",
       "      <td>0.027900</td>\n",
       "      <td>97.649224</td>\n",
       "      <td>667.0</td>\n",
       "    </tr>\n",
       "    <tr>\n",
       "      <th>A1BG-AS1</th>\n",
       "      <td>128</td>\n",
       "      <td>128</td>\n",
       "      <td>0.005480</td>\n",
       "      <td>99.464592</td>\n",
       "      <td>131.0</td>\n",
       "    </tr>\n",
       "    <tr>\n",
       "      <th>A1CF</th>\n",
       "      <td>45</td>\n",
       "      <td>45</td>\n",
       "      <td>0.002259</td>\n",
       "      <td>99.811771</td>\n",
       "      <td>54.0</td>\n",
       "    </tr>\n",
       "    <tr>\n",
       "      <th>...</th>\n",
       "      <td>...</td>\n",
       "      <td>...</td>\n",
       "      <td>...</td>\n",
       "      <td>...</td>\n",
       "      <td>...</td>\n",
       "    </tr>\n",
       "    <tr>\n",
       "      <th>Zaphod</th>\n",
       "      <td>4855</td>\n",
       "      <td>4855</td>\n",
       "      <td>0.422219</td>\n",
       "      <td>79.692140</td>\n",
       "      <td>10094.0</td>\n",
       "    </tr>\n",
       "    <tr>\n",
       "      <th>Zaphod2</th>\n",
       "      <td>2115</td>\n",
       "      <td>2115</td>\n",
       "      <td>0.122182</td>\n",
       "      <td>91.153219</td>\n",
       "      <td>2921.0</td>\n",
       "    </tr>\n",
       "    <tr>\n",
       "      <th>Zaphod3</th>\n",
       "      <td>3349</td>\n",
       "      <td>3349</td>\n",
       "      <td>0.211152</td>\n",
       "      <td>85.991551</td>\n",
       "      <td>5048.0</td>\n",
       "    </tr>\n",
       "    <tr>\n",
       "      <th>hAT-16_Crp</th>\n",
       "      <td>8</td>\n",
       "      <td>8</td>\n",
       "      <td>0.000335</td>\n",
       "      <td>99.966537</td>\n",
       "      <td>8.0</td>\n",
       "    </tr>\n",
       "    <tr>\n",
       "      <th>hAT-N1_Mam</th>\n",
       "      <td>1990</td>\n",
       "      <td>1990</td>\n",
       "      <td>0.107584</td>\n",
       "      <td>91.676078</td>\n",
       "      <td>2572.0</td>\n",
       "    </tr>\n",
       "  </tbody>\n",
       "</table>\n",
       "<p>44354 rows × 5 columns</p>\n",
       "</div>"
      ],
      "text/plain": [
       "            n_cells  n_cells_by_counts  mean_counts  pct_dropout_by_counts  \\\n",
       "(CATTC)n        436                436     0.087004              98.176266   \n",
       "(GAATG)n        455                455     0.040197              98.096792   \n",
       "A1BG            562                562     0.027900              97.649224   \n",
       "A1BG-AS1        128                128     0.005480              99.464592   \n",
       "A1CF             45                 45     0.002259              99.811771   \n",
       "...             ...                ...          ...                    ...   \n",
       "Zaphod         4855               4855     0.422219              79.692140   \n",
       "Zaphod2        2115               2115     0.122182              91.153219   \n",
       "Zaphod3        3349               3349     0.211152              85.991551   \n",
       "hAT-16_Crp        8                  8     0.000335              99.966537   \n",
       "hAT-N1_Mam     1990               1990     0.107584              91.676078   \n",
       "\n",
       "            total_counts  \n",
       "(CATTC)n          2080.0  \n",
       "(GAATG)n           961.0  \n",
       "A1BG               667.0  \n",
       "A1BG-AS1           131.0  \n",
       "A1CF                54.0  \n",
       "...                  ...  \n",
       "Zaphod           10094.0  \n",
       "Zaphod2           2921.0  \n",
       "Zaphod3           5048.0  \n",
       "hAT-16_Crp           8.0  \n",
       "hAT-N1_Mam        2572.0  \n",
       "\n",
       "[44354 rows x 5 columns]"
      ]
     },
     "execution_count": 30,
     "metadata": {},
     "output_type": "execute_result"
    }
   ],
   "source": [
    "adata.var\n"
   ]
  },
  {
   "cell_type": "code",
   "execution_count": 35,
   "id": "8f7f72c7",
   "metadata": {},
   "outputs": [],
   "source": [
    "adata.obs['percent_TE'] = np.sum(adata[:, tename].X, axis=1).A1 / np.sum(adata.X, axis=1).A1"
   ]
  },
  {
   "cell_type": "code",
   "execution_count": 36,
   "id": "cf4aaa0d",
   "metadata": {},
   "outputs": [],
   "source": [
    "adata.obs['percent_Alu'] = np.sum(adata[:, Alu].X, axis=1).A1 / np.sum(adata.X, axis=1).A1"
   ]
  },
  {
   "cell_type": "code",
   "execution_count": 37,
   "id": "e0e007bb",
   "metadata": {},
   "outputs": [],
   "source": [
    "adata.obs['percent_AluY'] = np.sum(adata[:, AluY].X, axis=1).A1 / np.sum(adata.X, axis=1).A1"
   ]
  },
  {
   "cell_type": "code",
   "execution_count": null,
   "id": "13009bd6",
   "metadata": {},
   "outputs": [],
   "source": []
  },
  {
   "cell_type": "code",
   "execution_count": null,
   "id": "60f70b54",
   "metadata": {},
   "outputs": [],
   "source": []
  },
  {
   "cell_type": "markdown",
   "id": "5ecb7b31",
   "metadata": {},
   "source": [
    "# AnnData Tutorial"
   ]
  },
  {
   "cell_type": "code",
   "execution_count": 22,
   "id": "025ba349",
   "metadata": {},
   "outputs": [],
   "source": [
    "df = adata.to_df()"
   ]
  },
  {
   "cell_type": "code",
   "execution_count": 39,
   "id": "7f719cf4",
   "metadata": {},
   "outputs": [
    {
     "data": {
      "text/html": [
       "<div>\n",
       "<style scoped>\n",
       "    .dataframe tbody tr th:only-of-type {\n",
       "        vertical-align: middle;\n",
       "    }\n",
       "\n",
       "    .dataframe tbody tr th {\n",
       "        vertical-align: top;\n",
       "    }\n",
       "\n",
       "    .dataframe thead th {\n",
       "        text-align: right;\n",
       "    }\n",
       "</style>\n",
       "<table border=\"1\" class=\"dataframe\">\n",
       "  <thead>\n",
       "    <tr style=\"text-align: right;\">\n",
       "      <th></th>\n",
       "      <th>n_cells</th>\n",
       "      <th>n_cells_by_counts</th>\n",
       "      <th>mean_counts</th>\n",
       "      <th>pct_dropout_by_counts</th>\n",
       "      <th>total_counts</th>\n",
       "    </tr>\n",
       "  </thead>\n",
       "  <tbody>\n",
       "    <tr>\n",
       "      <th>GAPDH</th>\n",
       "      <td>16167</td>\n",
       "      <td>16167</td>\n",
       "      <td>3.382817</td>\n",
       "      <td>32.375455</td>\n",
       "      <td>80873.0</td>\n",
       "    </tr>\n",
       "  </tbody>\n",
       "</table>\n",
       "</div>"
      ],
      "text/plain": [
       "       n_cells  n_cells_by_counts  mean_counts  pct_dropout_by_counts  \\\n",
       "GAPDH    16167              16167     3.382817              32.375455   \n",
       "\n",
       "       total_counts  \n",
       "GAPDH       80873.0  "
      ]
     },
     "execution_count": 39,
     "metadata": {},
     "output_type": "execute_result"
    }
   ],
   "source": [
    "adata[:,[\"GAPDH\"]].var"
   ]
  },
  {
   "cell_type": "code",
   "execution_count": 38,
   "id": "c3c71b4f",
   "metadata": {},
   "outputs": [
    {
     "data": {
      "text/html": [
       "<div>\n",
       "<style scoped>\n",
       "    .dataframe tbody tr th:only-of-type {\n",
       "        vertical-align: middle;\n",
       "    }\n",
       "\n",
       "    .dataframe tbody tr th {\n",
       "        vertical-align: top;\n",
       "    }\n",
       "\n",
       "    .dataframe thead th {\n",
       "        text-align: right;\n",
       "    }\n",
       "</style>\n",
       "<table border=\"1\" class=\"dataframe\">\n",
       "  <thead>\n",
       "    <tr style=\"text-align: right;\">\n",
       "      <th></th>\n",
       "      <th>n_cells</th>\n",
       "      <th>n_cells_by_counts</th>\n",
       "      <th>mean_counts</th>\n",
       "      <th>pct_dropout_by_counts</th>\n",
       "      <th>total_counts</th>\n",
       "    </tr>\n",
       "  </thead>\n",
       "  <tbody>\n",
       "    <tr>\n",
       "      <th>AluYa5</th>\n",
       "      <td>16103</td>\n",
       "      <td>16103</td>\n",
       "      <td>7.400427</td>\n",
       "      <td>32.643159</td>\n",
       "      <td>176922.0</td>\n",
       "    </tr>\n",
       "    <tr>\n",
       "      <th>AluYb8</th>\n",
       "      <td>13173</td>\n",
       "      <td>13173</td>\n",
       "      <td>4.515372</td>\n",
       "      <td>44.898984</td>\n",
       "      <td>107949.0</td>\n",
       "    </tr>\n",
       "    <tr>\n",
       "      <th>AluYb9</th>\n",
       "      <td>6194</td>\n",
       "      <td>6194</td>\n",
       "      <td>0.526791</td>\n",
       "      <td>74.091270</td>\n",
       "      <td>12594.0</td>\n",
       "    </tr>\n",
       "    <tr>\n",
       "      <th>BLACKJACK</th>\n",
       "      <td>4748</td>\n",
       "      <td>4748</td>\n",
       "      <td>0.397624</td>\n",
       "      <td>80.139708</td>\n",
       "      <td>9506.0</td>\n",
       "    </tr>\n",
       "  </tbody>\n",
       "</table>\n",
       "</div>"
      ],
      "text/plain": [
       "           n_cells  n_cells_by_counts  mean_counts  pct_dropout_by_counts  \\\n",
       "AluYa5       16103              16103     7.400427              32.643159   \n",
       "AluYb8       13173              13173     4.515372              44.898984   \n",
       "AluYb9        6194               6194     0.526791              74.091270   \n",
       "BLACKJACK     4748               4748     0.397624              80.139708   \n",
       "\n",
       "           total_counts  \n",
       "AluYa5         176922.0  \n",
       "AluYb8         107949.0  \n",
       "AluYb9          12594.0  \n",
       "BLACKJACK        9506.0  "
      ]
     },
     "execution_count": 38,
     "metadata": {},
     "output_type": "execute_result"
    }
   ],
   "source": [
    "adata[:,[\"AluYa5\",\"AluYb8\",\"AluYb9\",\"BLACKJACK\"]].var"
   ]
  },
  {
   "cell_type": "code",
   "execution_count": 40,
   "id": "6b2e4d6c",
   "metadata": {
    "scrolled": true
   },
   "outputs": [
    {
     "data": {
      "text/html": [
       "<div>\n",
       "<style scoped>\n",
       "    .dataframe tbody tr th:only-of-type {\n",
       "        vertical-align: middle;\n",
       "    }\n",
       "\n",
       "    .dataframe tbody tr th {\n",
       "        vertical-align: top;\n",
       "    }\n",
       "\n",
       "    .dataframe thead th {\n",
       "        text-align: right;\n",
       "    }\n",
       "</style>\n",
       "<table border=\"1\" class=\"dataframe\">\n",
       "  <thead>\n",
       "    <tr style=\"text-align: right;\">\n",
       "      <th></th>\n",
       "      <th>samples</th>\n",
       "      <th>n_genes</th>\n",
       "      <th>percent_mito</th>\n",
       "      <th>percent_ribo</th>\n",
       "      <th>n_genes_by_counts</th>\n",
       "      <th>total_counts</th>\n",
       "      <th>percent_TE</th>\n",
       "      <th>percent_Alu</th>\n",
       "      <th>percent_AluY</th>\n",
       "    </tr>\n",
       "  </thead>\n",
       "  <tbody>\n",
       "    <tr>\n",
       "      <th>AAACCTGAGAAACCTA-1-Donor1_r1</th>\n",
       "      <td>Donor1_r1</td>\n",
       "      <td>5493</td>\n",
       "      <td>0.054094</td>\n",
       "      <td>0.00005</td>\n",
       "      <td>5493</td>\n",
       "      <td>20076.0</td>\n",
       "      <td>0.310769</td>\n",
       "      <td>0.220711</td>\n",
       "      <td>0.039550</td>\n",
       "    </tr>\n",
       "    <tr>\n",
       "      <th>AAACCTGAGAAAGTGG-1-Donor1_r1</th>\n",
       "      <td>Donor1_r1</td>\n",
       "      <td>2923</td>\n",
       "      <td>0.032753</td>\n",
       "      <td>0.00000</td>\n",
       "      <td>2923</td>\n",
       "      <td>10686.0</td>\n",
       "      <td>0.158619</td>\n",
       "      <td>0.113045</td>\n",
       "      <td>0.014879</td>\n",
       "    </tr>\n",
       "    <tr>\n",
       "      <th>AAACCTGAGATCCTGT-1-Donor1_r1</th>\n",
       "      <td>Donor1_r1</td>\n",
       "      <td>1488</td>\n",
       "      <td>0.025659</td>\n",
       "      <td>0.00000</td>\n",
       "      <td>1488</td>\n",
       "      <td>2845.0</td>\n",
       "      <td>0.111072</td>\n",
       "      <td>0.065378</td>\n",
       "      <td>0.003163</td>\n",
       "    </tr>\n",
       "    <tr>\n",
       "      <th>AAACCTGAGATGGGTC-1-Donor1_r1</th>\n",
       "      <td>Donor1_r1</td>\n",
       "      <td>1684</td>\n",
       "      <td>0.133518</td>\n",
       "      <td>0.00000</td>\n",
       "      <td>1684</td>\n",
       "      <td>3243.0</td>\n",
       "      <td>0.061363</td>\n",
       "      <td>0.045945</td>\n",
       "      <td>0.002467</td>\n",
       "    </tr>\n",
       "    <tr>\n",
       "      <th>AAACCTGAGGTGCACA-1-Donor1_r1</th>\n",
       "      <td>Donor1_r1</td>\n",
       "      <td>574</td>\n",
       "      <td>0.436893</td>\n",
       "      <td>0.00000</td>\n",
       "      <td>574</td>\n",
       "      <td>2678.0</td>\n",
       "      <td>0.069828</td>\n",
       "      <td>0.050784</td>\n",
       "      <td>0.005601</td>\n",
       "    </tr>\n",
       "    <tr>\n",
       "      <th>...</th>\n",
       "      <td>...</td>\n",
       "      <td>...</td>\n",
       "      <td>...</td>\n",
       "      <td>...</td>\n",
       "      <td>...</td>\n",
       "      <td>...</td>\n",
       "      <td>...</td>\n",
       "      <td>...</td>\n",
       "      <td>...</td>\n",
       "    </tr>\n",
       "    <tr>\n",
       "      <th>TTTGTCACACCAGCAC-1-Donor3_r2</th>\n",
       "      <td>Donor3_r2</td>\n",
       "      <td>1351</td>\n",
       "      <td>0.094779</td>\n",
       "      <td>0.00000</td>\n",
       "      <td>1351</td>\n",
       "      <td>3007.0</td>\n",
       "      <td>0.143665</td>\n",
       "      <td>0.090123</td>\n",
       "      <td>0.011640</td>\n",
       "    </tr>\n",
       "    <tr>\n",
       "      <th>TTTGTCACAGGTGCCT-1-Donor3_r2</th>\n",
       "      <td>Donor3_r2</td>\n",
       "      <td>557</td>\n",
       "      <td>0.111374</td>\n",
       "      <td>0.00000</td>\n",
       "      <td>556</td>\n",
       "      <td>1266.0</td>\n",
       "      <td>0.328594</td>\n",
       "      <td>0.201422</td>\n",
       "      <td>0.030016</td>\n",
       "    </tr>\n",
       "    <tr>\n",
       "      <th>TTTGTCAGTTCGGCAC-1-Donor3_r2</th>\n",
       "      <td>Donor3_r2</td>\n",
       "      <td>685</td>\n",
       "      <td>0.116505</td>\n",
       "      <td>0.00000</td>\n",
       "      <td>685</td>\n",
       "      <td>1339.0</td>\n",
       "      <td>0.230022</td>\n",
       "      <td>0.144137</td>\n",
       "      <td>0.023152</td>\n",
       "    </tr>\n",
       "    <tr>\n",
       "      <th>TTTGTCATCCTGCCAT-1-Donor3_r2</th>\n",
       "      <td>Donor3_r2</td>\n",
       "      <td>761</td>\n",
       "      <td>0.159218</td>\n",
       "      <td>0.00000</td>\n",
       "      <td>761</td>\n",
       "      <td>2148.0</td>\n",
       "      <td>0.266294</td>\n",
       "      <td>0.179702</td>\n",
       "      <td>0.023277</td>\n",
       "    </tr>\n",
       "    <tr>\n",
       "      <th>TTTGTCATCGTGGGAA-1-Donor3_r2</th>\n",
       "      <td>Donor3_r2</td>\n",
       "      <td>558</td>\n",
       "      <td>0.083755</td>\n",
       "      <td>0.00000</td>\n",
       "      <td>558</td>\n",
       "      <td>1385.0</td>\n",
       "      <td>0.037545</td>\n",
       "      <td>0.019495</td>\n",
       "      <td>0.001444</td>\n",
       "    </tr>\n",
       "  </tbody>\n",
       "</table>\n",
       "<p>23907 rows × 9 columns</p>\n",
       "</div>"
      ],
      "text/plain": [
       "                                samples  n_genes  percent_mito  percent_ribo  \\\n",
       "AAACCTGAGAAACCTA-1-Donor1_r1  Donor1_r1     5493      0.054094       0.00005   \n",
       "AAACCTGAGAAAGTGG-1-Donor1_r1  Donor1_r1     2923      0.032753       0.00000   \n",
       "AAACCTGAGATCCTGT-1-Donor1_r1  Donor1_r1     1488      0.025659       0.00000   \n",
       "AAACCTGAGATGGGTC-1-Donor1_r1  Donor1_r1     1684      0.133518       0.00000   \n",
       "AAACCTGAGGTGCACA-1-Donor1_r1  Donor1_r1      574      0.436893       0.00000   \n",
       "...                                 ...      ...           ...           ...   \n",
       "TTTGTCACACCAGCAC-1-Donor3_r2  Donor3_r2     1351      0.094779       0.00000   \n",
       "TTTGTCACAGGTGCCT-1-Donor3_r2  Donor3_r2      557      0.111374       0.00000   \n",
       "TTTGTCAGTTCGGCAC-1-Donor3_r2  Donor3_r2      685      0.116505       0.00000   \n",
       "TTTGTCATCCTGCCAT-1-Donor3_r2  Donor3_r2      761      0.159218       0.00000   \n",
       "TTTGTCATCGTGGGAA-1-Donor3_r2  Donor3_r2      558      0.083755       0.00000   \n",
       "\n",
       "                              n_genes_by_counts  total_counts  percent_TE  \\\n",
       "AAACCTGAGAAACCTA-1-Donor1_r1               5493       20076.0    0.310769   \n",
       "AAACCTGAGAAAGTGG-1-Donor1_r1               2923       10686.0    0.158619   \n",
       "AAACCTGAGATCCTGT-1-Donor1_r1               1488        2845.0    0.111072   \n",
       "AAACCTGAGATGGGTC-1-Donor1_r1               1684        3243.0    0.061363   \n",
       "AAACCTGAGGTGCACA-1-Donor1_r1                574        2678.0    0.069828   \n",
       "...                                         ...           ...         ...   \n",
       "TTTGTCACACCAGCAC-1-Donor3_r2               1351        3007.0    0.143665   \n",
       "TTTGTCACAGGTGCCT-1-Donor3_r2                556        1266.0    0.328594   \n",
       "TTTGTCAGTTCGGCAC-1-Donor3_r2                685        1339.0    0.230022   \n",
       "TTTGTCATCCTGCCAT-1-Donor3_r2                761        2148.0    0.266294   \n",
       "TTTGTCATCGTGGGAA-1-Donor3_r2                558        1385.0    0.037545   \n",
       "\n",
       "                              percent_Alu  percent_AluY  \n",
       "AAACCTGAGAAACCTA-1-Donor1_r1     0.220711      0.039550  \n",
       "AAACCTGAGAAAGTGG-1-Donor1_r1     0.113045      0.014879  \n",
       "AAACCTGAGATCCTGT-1-Donor1_r1     0.065378      0.003163  \n",
       "AAACCTGAGATGGGTC-1-Donor1_r1     0.045945      0.002467  \n",
       "AAACCTGAGGTGCACA-1-Donor1_r1     0.050784      0.005601  \n",
       "...                                   ...           ...  \n",
       "TTTGTCACACCAGCAC-1-Donor3_r2     0.090123      0.011640  \n",
       "TTTGTCACAGGTGCCT-1-Donor3_r2     0.201422      0.030016  \n",
       "TTTGTCAGTTCGGCAC-1-Donor3_r2     0.144137      0.023152  \n",
       "TTTGTCATCCTGCCAT-1-Donor3_r2     0.179702      0.023277  \n",
       "TTTGTCATCGTGGGAA-1-Donor3_r2     0.019495      0.001444  \n",
       "\n",
       "[23907 rows x 9 columns]"
      ]
     },
     "execution_count": 40,
     "metadata": {},
     "output_type": "execute_result"
    }
   ],
   "source": [
    "adata.obs"
   ]
  },
  {
   "cell_type": "code",
   "execution_count": 41,
   "id": "4f430136",
   "metadata": {},
   "outputs": [
    {
     "data": {
      "text/plain": [
       "OverloadedDict, wrapping:\n",
       "\tOrderedDict()\n",
       "With overloaded keys:\n",
       "\t['neighbors']."
      ]
     },
     "execution_count": 41,
     "metadata": {},
     "output_type": "execute_result"
    }
   ],
   "source": [
    "adata.uns"
   ]
  },
  {
   "cell_type": "code",
   "execution_count": null,
   "id": "b8248fc9",
   "metadata": {},
   "outputs": [],
   "source": []
  },
  {
   "cell_type": "code",
   "execution_count": null,
   "id": "b2b8de16",
   "metadata": {},
   "outputs": [],
   "source": [
    "# Calculating QC "
   ]
  },
  {
   "cell_type": "code",
   "execution_count": null,
   "id": "cc493343",
   "metadata": {},
   "outputs": [],
   "source": []
  },
  {
   "cell_type": "code",
   "execution_count": null,
   "id": "540cf82e",
   "metadata": {},
   "outputs": [],
   "source": []
  },
  {
   "cell_type": "code",
   "execution_count": null,
   "id": "e091419c",
   "metadata": {},
   "outputs": [],
   "source": []
  },
  {
   "cell_type": "code",
   "execution_count": null,
   "id": "9159d7f1",
   "metadata": {},
   "outputs": [],
   "source": []
  }
 ],
 "metadata": {
  "kernelspec": {
   "display_name": "Python 3",
   "language": "python",
   "name": "python3"
  },
  "language_info": {
   "codemirror_mode": {
    "name": "ipython",
    "version": 3
   },
   "file_extension": ".py",
   "mimetype": "text/x-python",
   "name": "python",
   "nbconvert_exporter": "python",
   "pygments_lexer": "ipython3",
   "version": "3.7.0"
  }
 },
 "nbformat": 4,
 "nbformat_minor": 5
}
