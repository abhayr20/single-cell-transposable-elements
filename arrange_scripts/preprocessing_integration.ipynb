{
 "cells": [
  {
   "cell_type": "code",
   "execution_count": 1,
   "id": "530db783",
   "metadata": {
    "scrolled": true
   },
   "outputs": [
    {
     "name": "stderr",
     "output_type": "stream",
     "text": [
      "Global seed set to 0\n"
     ]
    }
   ],
   "source": [
    "import scanpy as sc\n",
    "import scvi\n",
    "import os\n",
    "import seaborn as sns\n",
    "import pandas as pd\n",
    "import numpy as np\n"
   ]
  },
  {
   "cell_type": "code",
   "execution_count": 2,
   "id": "f207111f",
   "metadata": {},
   "outputs": [],
   "source": [
    "# adata = sc.read_h5ad('/nfs_master/prakrithi/abhay/testis_allfiles/GSE112013_SRR6860519_Donor1_rep1.h5ad')"
   ]
  },
  {
   "cell_type": "code",
   "execution_count": 3,
   "id": "6d89343e",
   "metadata": {},
   "outputs": [],
   "source": [
    "ribo_url = \"http://software.broadinstitute.org/gsea/msigdb/download_geneset.jsp?geneSetName=KEGG_RIBOSOME&fileType=txt\"\n"
   ]
  },
  {
   "cell_type": "code",
   "execution_count": 4,
   "id": "5b07d8a2",
   "metadata": {},
   "outputs": [],
   "source": [
    "ribo_genes = pd.read_table(ribo_url, skiprows=2, header = None)"
   ]
  },
  {
   "cell_type": "code",
   "execution_count": 5,
   "id": "fc712b2b",
   "metadata": {},
   "outputs": [],
   "source": [
    "def pp(data_path):\n",
    "    adata = sc.read_h5ad(data_path)\n",
    "    sc.pp.filter_genes(adata, min_cells = 10)\n",
    "    sc.pp.highly_variable_genes(adata, n_top_genes = 2000, subset = True, flavor = 'seurat_v3')\n",
    "    scvi.model.SCVI.setup_anndata(adata)\n",
    "    vae = scvi.model.SCVI(adata)\n",
    "    vae.train()\n",
    "    solo = scvi.external.SOLO.from_scvi_model(vae)\n",
    "    solo.train()\n",
    "    df = solo.predict()\n",
    "    df['prediction'] = solo.predict(soft = False)\n",
    "    df.index = df.index.map(lambda x: x[:-2])\n",
    "    df['dif'] = df.doublet - df.singlet\n",
    "    doublets = df[(df.prediction == 'doublet') & (df.dif > 1)]\n",
    "    \n",
    "    adata = sc.read_h5ad(data_path)\n",
    "    adata.obs['Sample'] = data_path.split('.')[0] #'raw_counts/GSM5226574_C51ctr_raw_counts.csv'\n",
    "    \n",
    "    adata.obs['doublet'] = adata.obs.index.isin(doublets.index)\n",
    "    adata = adata[~adata.obs.doublet]\n",
    "    \n",
    "    \n",
    "    sc.pp.filter_cells(adata, min_genes=200) #get rid of cells with fewer than 200 genes\n",
    "    #sc.pp.filter_genes(adata, min_cells=3) #get rid of genes that are found in fewer than 3 cells\n",
    "    adata.var['mt'] = adata.var_names.str.startswith('mt-')  # annotate the group of mitochondrial genes as 'mt'\n",
    "    adata.var['ribo'] = adata.var_names.isin(ribo_genes[0].values)\n",
    "    sc.pp.calculate_qc_metrics(adata, qc_vars=['mt', 'ribo'], percent_top=None, log1p=False, inplace=True)\n",
    "    upper_lim = np.quantile(adata.obs.n_genes_by_counts.values, .98)\n",
    "    adata = adata[adata.obs.n_genes_by_counts < upper_lim]\n",
    "    adata = adata[adata.obs.pct_counts_mt < 20]\n",
    "    adata = adata[adata.obs.pct_counts_ribo < 2]\n",
    "\n",
    "    return adata"
   ]
  },
  {
   "cell_type": "code",
   "execution_count": 6,
   "id": "41d0c4cb",
   "metadata": {
    "collapsed": true
   },
   "outputs": [
    {
     "data": {
      "text/plain": [
       "['GSE154535_SRR12234213_Donor_OA.h5ad',\n",
       " 'GSE153947_SRR12164935_Normal_3.h5ad',\n",
       " 'GSE112013_SRR6860523_Donor3_rep1.h5ad',\n",
       " 'GSE112013_SRR6860521_Donor2_rep1.h5ad',\n",
       " 'GSE153947_SRR12164933_Normal_1.h5ad',\n",
       " 'GSE153947_SRR12164938_Crypto_3.h5ad',\n",
       " 'GSE154535_SRR12234211_Donor2_iNOA.h5ad',\n",
       " 'GSE153947_SRR12164934_Normal_2.h5ad',\n",
       " 'GSE112013_SRR6860524_Donor3_rep2.h5ad',\n",
       " 'GSE154535_SRR12234212_Donor3_iNOA.h5ad',\n",
       " 'GSE112013_SRR6860522_Donor2_rep2.h5ad',\n",
       " 'GSE112013_SRR6860519_Donor1_rep1.h5ad',\n",
       " 'GSE154535_SRR12234210_Donor1_iNOA.h5ad',\n",
       " 'GSE112013_SRR6860520_Donor1_rep2.h5ad',\n",
       " 'GSE153947_SRR12164936_Crypto_1.h5ad',\n",
       " 'GSE153947_SRR12164937_Crypto_2.h5ad']"
      ]
     },
     "execution_count": 6,
     "metadata": {},
     "output_type": "execute_result"
    }
   ],
   "source": [
    "os.listdir('/nfs_master/prakrithi/abhay/testis_allfiles/')"
   ]
  },
  {
   "cell_type": "code",
   "execution_count": 7,
   "id": "3244d31e",
   "metadata": {
    "collapsed": true
   },
   "outputs": [
    {
     "name": "stderr",
     "output_type": "stream",
     "text": [
      "GPU available: True, used: True\n",
      "TPU available: False, using: 0 TPU cores\n",
      "IPU available: False, using: 0 IPUs\n",
      "HPU available: False, using: 0 HPUs\n",
      "LOCAL_RANK: 0 - CUDA_VISIBLE_DEVICES: [0,1]\n",
      "/home/prakrithi/miniconda3/envs/scTE2/lib/python3.7/site-packages/pytorch_lightning/trainer/trainer.py:1937: PossibleUserWarning: The number of training batches (9) is smaller than the logging interval Trainer(log_every_n_steps=10). Set a lower value for log_every_n_steps if you want to see logs for the training epoch.\n",
      "  category=PossibleUserWarning,\n"
     ]
    },
    {
     "name": "stdout",
     "output_type": "stream",
     "text": [
      "Epoch 400/400: 100%|████████████████████████████████████████████████████████████████| 400/400 [00:38<00:00, 10.48it/s, loss=527, v_num=1]\n",
      "\u001b[34mINFO    \u001b[0m Creating doublets, preparing SOLO model.                                            \n"
     ]
    },
    {
     "name": "stderr",
     "output_type": "stream",
     "text": [
      "/home/prakrithi/miniconda3/envs/scTE2/lib/python3.7/site-packages/anndata/_core/anndata.py:1785: FutureWarning: X.dtype being converted to np.float32 from float64. In the next version of anndata (0.9) conversion will not be automatic. Pass dtype explicitly to avoid this warning. Pass `AnnData(X, dtype=X.dtype, ...)` to get the future behavour.\n",
      "  [AnnData(sparse.csr_matrix(a.shape), obs=a.obs) for a in all_adatas],\n",
      "GPU available: True, used: True\n",
      "TPU available: False, using: 0 TPU cores\n",
      "IPU available: False, using: 0 IPUs\n",
      "HPU available: False, using: 0 HPUs\n",
      "LOCAL_RANK: 0 - CUDA_VISIBLE_DEVICES: [0,1]\n"
     ]
    },
    {
     "name": "stdout",
     "output_type": "stream",
     "text": [
      "Epoch 131/400:  33%|████████████████████▎                                         | 131/400 [00:11<00:22, 11.75it/s, loss=0.468, v_num=1]\n",
      "Monitored metric validation_loss did not improve in the last 30 records. Best score: 0.485. Signaling Trainer to stop.\n"
     ]
    },
    {
     "name": "stderr",
     "output_type": "stream",
     "text": [
      "/home/prakrithi/miniconda3/envs/scTE2/lib/python3.7/site-packages/scanpy/preprocessing/_simple.py:140: ImplicitModificationWarning: Trying to modify attribute `.obs` of view, initializing view as actual.\n",
      "  adata.obs['n_genes'] = number\n",
      "GPU available: True, used: True\n",
      "TPU available: False, using: 0 TPU cores\n",
      "IPU available: False, using: 0 IPUs\n",
      "HPU available: False, using: 0 HPUs\n",
      "LOCAL_RANK: 0 - CUDA_VISIBLE_DEVICES: [0,1]\n"
     ]
    },
    {
     "name": "stdout",
     "output_type": "stream",
     "text": [
      "Epoch 400/400: 100%|████████████████████████████████████████████████████████████████| 400/400 [04:29<00:00,  1.49it/s, loss=872, v_num=1]\n",
      "\u001b[34mINFO    \u001b[0m Creating doublets, preparing SOLO model.                                            \n"
     ]
    },
    {
     "name": "stderr",
     "output_type": "stream",
     "text": [
      "/home/prakrithi/miniconda3/envs/scTE2/lib/python3.7/site-packages/anndata/_core/anndata.py:1785: FutureWarning: X.dtype being converted to np.float32 from float64. In the next version of anndata (0.9) conversion will not be automatic. Pass dtype explicitly to avoid this warning. Pass `AnnData(X, dtype=X.dtype, ...)` to get the future behavour.\n",
      "  [AnnData(sparse.csr_matrix(a.shape), obs=a.obs) for a in all_adatas],\n",
      "GPU available: True, used: True\n",
      "TPU available: False, using: 0 TPU cores\n",
      "IPU available: False, using: 0 IPUs\n",
      "HPU available: False, using: 0 HPUs\n",
      "LOCAL_RANK: 0 - CUDA_VISIBLE_DEVICES: [0,1]\n"
     ]
    },
    {
     "name": "stdout",
     "output_type": "stream",
     "text": [
      "Epoch 358/400:  90%|███████████████████████████████████████████████████████▍      | 358/400 [03:56<00:27,  1.52it/s, loss=0.253, v_num=1]\n",
      "Monitored metric validation_loss did not improve in the last 30 records. Best score: 0.221. Signaling Trainer to stop.\n"
     ]
    },
    {
     "name": "stderr",
     "output_type": "stream",
     "text": [
      "/home/prakrithi/miniconda3/envs/scTE2/lib/python3.7/site-packages/scanpy/preprocessing/_simple.py:140: ImplicitModificationWarning: Trying to modify attribute `.obs` of view, initializing view as actual.\n",
      "  adata.obs['n_genes'] = number\n",
      "GPU available: True, used: True\n",
      "TPU available: False, using: 0 TPU cores\n",
      "IPU available: False, using: 0 IPUs\n",
      "HPU available: False, using: 0 HPUs\n",
      "LOCAL_RANK: 0 - CUDA_VISIBLE_DEVICES: [0,1]\n"
     ]
    },
    {
     "name": "stdout",
     "output_type": "stream",
     "text": [
      "Epoch 400/400: 100%|████████████████████████████████████████████████████████████████| 400/400 [03:02<00:00,  2.19it/s, loss=336, v_num=1]\n",
      "\u001b[34mINFO    \u001b[0m Creating doublets, preparing SOLO model.                                            \n"
     ]
    },
    {
     "name": "stderr",
     "output_type": "stream",
     "text": [
      "/home/prakrithi/miniconda3/envs/scTE2/lib/python3.7/site-packages/anndata/_core/anndata.py:1785: FutureWarning: X.dtype being converted to np.float32 from float64. In the next version of anndata (0.9) conversion will not be automatic. Pass dtype explicitly to avoid this warning. Pass `AnnData(X, dtype=X.dtype, ...)` to get the future behavour.\n",
      "  [AnnData(sparse.csr_matrix(a.shape), obs=a.obs) for a in all_adatas],\n",
      "GPU available: True, used: True\n",
      "TPU available: False, using: 0 TPU cores\n",
      "IPU available: False, using: 0 IPUs\n",
      "HPU available: False, using: 0 HPUs\n",
      "LOCAL_RANK: 0 - CUDA_VISIBLE_DEVICES: [0,1]\n"
     ]
    },
    {
     "name": "stdout",
     "output_type": "stream",
     "text": [
      "Epoch 333/400:  83%|████████████████████████████████████████████████████▍          | 333/400 [02:29<00:30,  2.22it/s, loss=0.35, v_num=1]\n",
      "Monitored metric validation_loss did not improve in the last 30 records. Best score: 0.341. Signaling Trainer to stop.\n"
     ]
    },
    {
     "name": "stderr",
     "output_type": "stream",
     "text": [
      "/home/prakrithi/miniconda3/envs/scTE2/lib/python3.7/site-packages/scanpy/preprocessing/_simple.py:140: ImplicitModificationWarning: Trying to modify attribute `.obs` of view, initializing view as actual.\n",
      "  adata.obs['n_genes'] = number\n",
      "GPU available: True, used: True\n",
      "TPU available: False, using: 0 TPU cores\n",
      "IPU available: False, using: 0 IPUs\n",
      "HPU available: False, using: 0 HPUs\n",
      "LOCAL_RANK: 0 - CUDA_VISIBLE_DEVICES: [0,1]\n"
     ]
    },
    {
     "name": "stdout",
     "output_type": "stream",
     "text": [
      "Epoch 400/400: 100%|████████████████████████████████████████████████████████████████| 400/400 [02:20<00:00,  2.85it/s, loss=410, v_num=1]\n",
      "\u001b[34mINFO    \u001b[0m Creating doublets, preparing SOLO model.                                            \n"
     ]
    },
    {
     "name": "stderr",
     "output_type": "stream",
     "text": [
      "/home/prakrithi/miniconda3/envs/scTE2/lib/python3.7/site-packages/anndata/_core/anndata.py:1785: FutureWarning: X.dtype being converted to np.float32 from float64. In the next version of anndata (0.9) conversion will not be automatic. Pass dtype explicitly to avoid this warning. Pass `AnnData(X, dtype=X.dtype, ...)` to get the future behavour.\n",
      "  [AnnData(sparse.csr_matrix(a.shape), obs=a.obs) for a in all_adatas],\n",
      "GPU available: True, used: True\n",
      "TPU available: False, using: 0 TPU cores\n",
      "IPU available: False, using: 0 IPUs\n",
      "HPU available: False, using: 0 HPUs\n",
      "LOCAL_RANK: 0 - CUDA_VISIBLE_DEVICES: [0,1]\n"
     ]
    },
    {
     "name": "stdout",
     "output_type": "stream",
     "text": [
      "Epoch 289/400:  72%|████████████████████████████████████████████▊                 | 289/400 [01:38<00:37,  2.94it/s, loss=0.404, v_num=1]\n",
      "Monitored metric validation_loss did not improve in the last 30 records. Best score: 0.371. Signaling Trainer to stop.\n"
     ]
    },
    {
     "name": "stderr",
     "output_type": "stream",
     "text": [
      "/home/prakrithi/miniconda3/envs/scTE2/lib/python3.7/site-packages/scanpy/preprocessing/_simple.py:140: ImplicitModificationWarning: Trying to modify attribute `.obs` of view, initializing view as actual.\n",
      "  adata.obs['n_genes'] = number\n",
      "GPU available: True, used: True\n",
      "TPU available: False, using: 0 TPU cores\n",
      "IPU available: False, using: 0 IPUs\n",
      "HPU available: False, using: 0 HPUs\n",
      "LOCAL_RANK: 0 - CUDA_VISIBLE_DEVICES: [0,1]\n"
     ]
    },
    {
     "name": "stdout",
     "output_type": "stream",
     "text": [
      "Epoch 400/400: 100%|████████████████████████████████████████████████████████████████| 400/400 [04:37<00:00,  1.44it/s, loss=841, v_num=1]\n",
      "\u001b[34mINFO    \u001b[0m Creating doublets, preparing SOLO model.                                            \n"
     ]
    },
    {
     "name": "stderr",
     "output_type": "stream",
     "text": [
      "/home/prakrithi/miniconda3/envs/scTE2/lib/python3.7/site-packages/anndata/_core/anndata.py:1785: FutureWarning: X.dtype being converted to np.float32 from float64. In the next version of anndata (0.9) conversion will not be automatic. Pass dtype explicitly to avoid this warning. Pass `AnnData(X, dtype=X.dtype, ...)` to get the future behavour.\n",
      "  [AnnData(sparse.csr_matrix(a.shape), obs=a.obs) for a in all_adatas],\n",
      "GPU available: True, used: True\n",
      "TPU available: False, using: 0 TPU cores\n",
      "IPU available: False, using: 0 IPUs\n",
      "HPU available: False, using: 0 HPUs\n",
      "LOCAL_RANK: 0 - CUDA_VISIBLE_DEVICES: [0,1]\n"
     ]
    },
    {
     "name": "stdout",
     "output_type": "stream",
     "text": [
      "Epoch 246/400:  62%|██████████████████████████████████████▏                       | 246/400 [02:43<01:42,  1.51it/s, loss=0.183, v_num=1]\n",
      "Monitored metric validation_loss did not improve in the last 30 records. Best score: 0.171. Signaling Trainer to stop.\n"
     ]
    },
    {
     "name": "stderr",
     "output_type": "stream",
     "text": [
      "/home/prakrithi/miniconda3/envs/scTE2/lib/python3.7/site-packages/scanpy/preprocessing/_simple.py:140: ImplicitModificationWarning: Trying to modify attribute `.obs` of view, initializing view as actual.\n",
      "  adata.obs['n_genes'] = number\n",
      "GPU available: True, used: True\n",
      "TPU available: False, using: 0 TPU cores\n",
      "IPU available: False, using: 0 IPUs\n",
      "HPU available: False, using: 0 HPUs\n",
      "LOCAL_RANK: 0 - CUDA_VISIBLE_DEVICES: [0,1]\n"
     ]
    },
    {
     "name": "stdout",
     "output_type": "stream",
     "text": [
      "Epoch 400/400: 100%|████████████████████████████████████████████████████████████████| 400/400 [04:39<00:00,  1.43it/s, loss=550, v_num=1]\n",
      "\u001b[34mINFO    \u001b[0m Creating doublets, preparing SOLO model.                                            \n"
     ]
    },
    {
     "name": "stderr",
     "output_type": "stream",
     "text": [
      "/home/prakrithi/miniconda3/envs/scTE2/lib/python3.7/site-packages/anndata/_core/anndata.py:1785: FutureWarning: X.dtype being converted to np.float32 from float64. In the next version of anndata (0.9) conversion will not be automatic. Pass dtype explicitly to avoid this warning. Pass `AnnData(X, dtype=X.dtype, ...)` to get the future behavour.\n",
      "  [AnnData(sparse.csr_matrix(a.shape), obs=a.obs) for a in all_adatas],\n",
      "GPU available: True, used: True\n",
      "TPU available: False, using: 0 TPU cores\n",
      "IPU available: False, using: 0 IPUs\n",
      "HPU available: False, using: 0 HPUs\n",
      "LOCAL_RANK: 0 - CUDA_VISIBLE_DEVICES: [0,1]\n"
     ]
    },
    {
     "name": "stdout",
     "output_type": "stream",
     "text": [
      "Epoch 274/400:  68%|██████████████████████████████████████████▍                   | 274/400 [03:07<01:26,  1.46it/s, loss=0.241, v_num=1]\n",
      "Monitored metric validation_loss did not improve in the last 30 records. Best score: 0.216. Signaling Trainer to stop.\n"
     ]
    },
    {
     "name": "stderr",
     "output_type": "stream",
     "text": [
      "/home/prakrithi/miniconda3/envs/scTE2/lib/python3.7/site-packages/scanpy/preprocessing/_simple.py:140: ImplicitModificationWarning: Trying to modify attribute `.obs` of view, initializing view as actual.\n",
      "  adata.obs['n_genes'] = number\n",
      "GPU available: True, used: True\n",
      "TPU available: False, using: 0 TPU cores\n",
      "IPU available: False, using: 0 IPUs\n",
      "HPU available: False, using: 0 HPUs\n",
      "LOCAL_RANK: 0 - CUDA_VISIBLE_DEVICES: [0,1]\n",
      "/home/prakrithi/miniconda3/envs/scTE2/lib/python3.7/site-packages/pytorch_lightning/trainer/trainer.py:1937: PossibleUserWarning: The number of training batches (6) is smaller than the logging interval Trainer(log_every_n_steps=10). Set a lower value for log_every_n_steps if you want to see logs for the training epoch.\n",
      "  category=PossibleUserWarning,\n"
     ]
    },
    {
     "name": "stdout",
     "output_type": "stream",
     "text": [
      "Epoch 400/400: 100%|███████████████████████████████████████████████████████████| 400/400 [00:26<00:00, 15.36it/s, loss=1.01e+03, v_num=1]\n",
      "\u001b[34mINFO    \u001b[0m Creating doublets, preparing SOLO model.                                            \n"
     ]
    },
    {
     "name": "stderr",
     "output_type": "stream",
     "text": [
      "/home/prakrithi/miniconda3/envs/scTE2/lib/python3.7/site-packages/anndata/_core/anndata.py:1785: FutureWarning: X.dtype being converted to np.float32 from float64. In the next version of anndata (0.9) conversion will not be automatic. Pass dtype explicitly to avoid this warning. Pass `AnnData(X, dtype=X.dtype, ...)` to get the future behavour.\n",
      "  [AnnData(sparse.csr_matrix(a.shape), obs=a.obs) for a in all_adatas],\n",
      "GPU available: True, used: True\n",
      "TPU available: False, using: 0 TPU cores\n",
      "IPU available: False, using: 0 IPUs\n",
      "HPU available: False, using: 0 HPUs\n",
      "LOCAL_RANK: 0 - CUDA_VISIBLE_DEVICES: [0,1]\n"
     ]
    },
    {
     "name": "stdout",
     "output_type": "stream",
     "text": [
      "Epoch 208/400:  52%|████████████████████████████████▏                             | 208/400 [00:12<00:11, 16.97it/s, loss=0.378, v_num=1]\n",
      "Monitored metric validation_loss did not improve in the last 30 records. Best score: 0.433. Signaling Trainer to stop.\n"
     ]
    },
    {
     "name": "stderr",
     "output_type": "stream",
     "text": [
      "/home/prakrithi/miniconda3/envs/scTE2/lib/python3.7/site-packages/scanpy/preprocessing/_simple.py:140: ImplicitModificationWarning: Trying to modify attribute `.obs` of view, initializing view as actual.\n",
      "  adata.obs['n_genes'] = number\n",
      "GPU available: True, used: True\n",
      "TPU available: False, using: 0 TPU cores\n",
      "IPU available: False, using: 0 IPUs\n",
      "HPU available: False, using: 0 HPUs\n",
      "LOCAL_RANK: 0 - CUDA_VISIBLE_DEVICES: [0,1]\n"
     ]
    },
    {
     "name": "stdout",
     "output_type": "stream",
     "text": [
      "Epoch 400/400: 100%|████████████████████████████████████████████████████████████████| 400/400 [04:52<00:00,  1.37it/s, loss=870, v_num=1]\n",
      "\u001b[34mINFO    \u001b[0m Creating doublets, preparing SOLO model.                                            \n"
     ]
    },
    {
     "name": "stderr",
     "output_type": "stream",
     "text": [
      "/home/prakrithi/miniconda3/envs/scTE2/lib/python3.7/site-packages/anndata/_core/anndata.py:1785: FutureWarning: X.dtype being converted to np.float32 from float64. In the next version of anndata (0.9) conversion will not be automatic. Pass dtype explicitly to avoid this warning. Pass `AnnData(X, dtype=X.dtype, ...)` to get the future behavour.\n",
      "  [AnnData(sparse.csr_matrix(a.shape), obs=a.obs) for a in all_adatas],\n",
      "GPU available: True, used: True\n",
      "TPU available: False, using: 0 TPU cores\n",
      "IPU available: False, using: 0 IPUs\n",
      "HPU available: False, using: 0 HPUs\n",
      "LOCAL_RANK: 0 - CUDA_VISIBLE_DEVICES: [0,1]\n"
     ]
    },
    {
     "name": "stdout",
     "output_type": "stream",
     "text": [
      "Epoch 279/400:  70%|███████████████████████████████████████████▏                  | 279/400 [03:15<01:24,  1.43it/s, loss=0.231, v_num=1]\n",
      "Monitored metric validation_loss did not improve in the last 30 records. Best score: 0.207. Signaling Trainer to stop.\n"
     ]
    },
    {
     "name": "stderr",
     "output_type": "stream",
     "text": [
      "/home/prakrithi/miniconda3/envs/scTE2/lib/python3.7/site-packages/scanpy/preprocessing/_simple.py:140: ImplicitModificationWarning: Trying to modify attribute `.obs` of view, initializing view as actual.\n",
      "  adata.obs['n_genes'] = number\n",
      "GPU available: True, used: True\n",
      "TPU available: False, using: 0 TPU cores\n",
      "IPU available: False, using: 0 IPUs\n",
      "HPU available: False, using: 0 HPUs\n",
      "LOCAL_RANK: 0 - CUDA_VISIBLE_DEVICES: [0,1]\n"
     ]
    },
    {
     "name": "stdout",
     "output_type": "stream",
     "text": [
      "Epoch 400/400: 100%|████████████████████████████████████████████████████████████████| 400/400 [05:10<00:00,  1.29it/s, loss=287, v_num=1]\n",
      "\u001b[34mINFO    \u001b[0m Creating doublets, preparing SOLO model.                                            \n"
     ]
    },
    {
     "name": "stderr",
     "output_type": "stream",
     "text": [
      "/home/prakrithi/miniconda3/envs/scTE2/lib/python3.7/site-packages/anndata/_core/anndata.py:1785: FutureWarning: X.dtype being converted to np.float32 from float64. In the next version of anndata (0.9) conversion will not be automatic. Pass dtype explicitly to avoid this warning. Pass `AnnData(X, dtype=X.dtype, ...)` to get the future behavour.\n",
      "  [AnnData(sparse.csr_matrix(a.shape), obs=a.obs) for a in all_adatas],\n",
      "GPU available: True, used: True\n",
      "TPU available: False, using: 0 TPU cores\n",
      "IPU available: False, using: 0 IPUs\n",
      "HPU available: False, using: 0 HPUs\n",
      "LOCAL_RANK: 0 - CUDA_VISIBLE_DEVICES: [0,1]\n"
     ]
    },
    {
     "name": "stdout",
     "output_type": "stream",
     "text": [
      "Epoch 272/400:  68%|██████████████████████████████████████████▏                   | 272/400 [03:16<01:32,  1.38it/s, loss=0.379, v_num=1]\n",
      "Monitored metric validation_loss did not improve in the last 30 records. Best score: 0.366. Signaling Trainer to stop.\n"
     ]
    },
    {
     "name": "stderr",
     "output_type": "stream",
     "text": [
      "/home/prakrithi/miniconda3/envs/scTE2/lib/python3.7/site-packages/scanpy/preprocessing/_simple.py:140: ImplicitModificationWarning: Trying to modify attribute `.obs` of view, initializing view as actual.\n",
      "  adata.obs['n_genes'] = number\n",
      "GPU available: True, used: True\n",
      "TPU available: False, using: 0 TPU cores\n",
      "IPU available: False, using: 0 IPUs\n",
      "HPU available: False, using: 0 HPUs\n",
      "LOCAL_RANK: 0 - CUDA_VISIBLE_DEVICES: [0,1]\n"
     ]
    },
    {
     "name": "stdout",
     "output_type": "stream",
     "text": [
      "Epoch 400/400: 100%|████████████████████████████████████████████████████████████████| 400/400 [04:54<00:00,  1.36it/s, loss=448, v_num=1]\n",
      "\u001b[34mINFO    \u001b[0m Creating doublets, preparing SOLO model.                                            \n"
     ]
    },
    {
     "name": "stderr",
     "output_type": "stream",
     "text": [
      "/home/prakrithi/miniconda3/envs/scTE2/lib/python3.7/site-packages/anndata/_core/anndata.py:1785: FutureWarning: X.dtype being converted to np.float32 from float64. In the next version of anndata (0.9) conversion will not be automatic. Pass dtype explicitly to avoid this warning. Pass `AnnData(X, dtype=X.dtype, ...)` to get the future behavour.\n",
      "  [AnnData(sparse.csr_matrix(a.shape), obs=a.obs) for a in all_adatas],\n",
      "GPU available: True, used: True\n",
      "TPU available: False, using: 0 TPU cores\n",
      "IPU available: False, using: 0 IPUs\n",
      "HPU available: False, using: 0 HPUs\n",
      "LOCAL_RANK: 0 - CUDA_VISIBLE_DEVICES: [0,1]\n"
     ]
    },
    {
     "name": "stdout",
     "output_type": "stream",
     "text": [
      "Epoch 171/400:  43%|██████████████████████████▌                                   | 171/400 [01:55<02:34,  1.49it/s, loss=0.271, v_num=1]\n",
      "Monitored metric validation_loss did not improve in the last 30 records. Best score: 0.235. Signaling Trainer to stop.\n"
     ]
    },
    {
     "name": "stderr",
     "output_type": "stream",
     "text": [
      "/home/prakrithi/miniconda3/envs/scTE2/lib/python3.7/site-packages/scanpy/preprocessing/_simple.py:140: ImplicitModificationWarning: Trying to modify attribute `.obs` of view, initializing view as actual.\n",
      "  adata.obs['n_genes'] = number\n",
      "GPU available: True, used: True\n",
      "TPU available: False, using: 0 TPU cores\n",
      "IPU available: False, using: 0 IPUs\n",
      "HPU available: False, using: 0 HPUs\n",
      "LOCAL_RANK: 0 - CUDA_VISIBLE_DEVICES: [0,1]\n"
     ]
    },
    {
     "name": "stdout",
     "output_type": "stream",
     "text": [
      "Epoch 400/400: 100%|████████████████████████████████████████████████████████████████| 400/400 [02:48<00:00,  2.38it/s, loss=386, v_num=1]\n",
      "\u001b[34mINFO    \u001b[0m Creating doublets, preparing SOLO model.                                            \n"
     ]
    },
    {
     "name": "stderr",
     "output_type": "stream",
     "text": [
      "/home/prakrithi/miniconda3/envs/scTE2/lib/python3.7/site-packages/anndata/_core/anndata.py:1785: FutureWarning: X.dtype being converted to np.float32 from float64. In the next version of anndata (0.9) conversion will not be automatic. Pass dtype explicitly to avoid this warning. Pass `AnnData(X, dtype=X.dtype, ...)` to get the future behavour.\n",
      "  [AnnData(sparse.csr_matrix(a.shape), obs=a.obs) for a in all_adatas],\n",
      "GPU available: True, used: True\n",
      "TPU available: False, using: 0 TPU cores\n",
      "IPU available: False, using: 0 IPUs\n",
      "HPU available: False, using: 0 HPUs\n",
      "LOCAL_RANK: 0 - CUDA_VISIBLE_DEVICES: [0,1]\n"
     ]
    },
    {
     "name": "stdout",
     "output_type": "stream",
     "text": [
      "Epoch 400/400: 100%|██████████████████████████████████████████████████████████████| 400/400 [02:46<00:00,  2.40it/s, loss=0.374, v_num=1]\n"
     ]
    },
    {
     "name": "stderr",
     "output_type": "stream",
     "text": [
      "/home/prakrithi/miniconda3/envs/scTE2/lib/python3.7/site-packages/scanpy/preprocessing/_simple.py:140: ImplicitModificationWarning: Trying to modify attribute `.obs` of view, initializing view as actual.\n",
      "  adata.obs['n_genes'] = number\n",
      "GPU available: True, used: True\n",
      "TPU available: False, using: 0 TPU cores\n",
      "IPU available: False, using: 0 IPUs\n",
      "HPU available: False, using: 0 HPUs\n",
      "LOCAL_RANK: 0 - CUDA_VISIBLE_DEVICES: [0,1]\n"
     ]
    },
    {
     "name": "stdout",
     "output_type": "stream",
     "text": [
      "Epoch 400/400: 100%|████████████████████████████████████████████████████████████████| 400/400 [04:57<00:00,  1.34it/s, loss=269, v_num=1]\n",
      "\u001b[34mINFO    \u001b[0m Creating doublets, preparing SOLO model.                                            \n"
     ]
    },
    {
     "name": "stderr",
     "output_type": "stream",
     "text": [
      "/home/prakrithi/miniconda3/envs/scTE2/lib/python3.7/site-packages/anndata/_core/anndata.py:1785: FutureWarning: X.dtype being converted to np.float32 from float64. In the next version of anndata (0.9) conversion will not be automatic. Pass dtype explicitly to avoid this warning. Pass `AnnData(X, dtype=X.dtype, ...)` to get the future behavour.\n",
      "  [AnnData(sparse.csr_matrix(a.shape), obs=a.obs) for a in all_adatas],\n",
      "GPU available: True, used: True\n",
      "TPU available: False, using: 0 TPU cores\n",
      "IPU available: False, using: 0 IPUs\n",
      "HPU available: False, using: 0 HPUs\n",
      "LOCAL_RANK: 0 - CUDA_VISIBLE_DEVICES: [0,1]\n"
     ]
    },
    {
     "name": "stdout",
     "output_type": "stream",
     "text": [
      "Epoch 282/400:  70%|███████████████████████████████████████████▋                  | 282/400 [03:20<01:23,  1.41it/s, loss=0.251, v_num=1]\n",
      "Monitored metric validation_loss did not improve in the last 30 records. Best score: 0.249. Signaling Trainer to stop.\n"
     ]
    },
    {
     "name": "stderr",
     "output_type": "stream",
     "text": [
      "/home/prakrithi/miniconda3/envs/scTE2/lib/python3.7/site-packages/scanpy/preprocessing/_simple.py:140: ImplicitModificationWarning: Trying to modify attribute `.obs` of view, initializing view as actual.\n",
      "  adata.obs['n_genes'] = number\n",
      "GPU available: True, used: True\n",
      "TPU available: False, using: 0 TPU cores\n",
      "IPU available: False, using: 0 IPUs\n",
      "HPU available: False, using: 0 HPUs\n",
      "LOCAL_RANK: 0 - CUDA_VISIBLE_DEVICES: [0,1]\n"
     ]
    },
    {
     "name": "stdout",
     "output_type": "stream",
     "text": [
      "Epoch 400/400: 100%|████████████████████████████████████████████████████████████████| 400/400 [00:48<00:00,  8.19it/s, loss=652, v_num=1]\n",
      "\u001b[34mINFO    \u001b[0m Creating doublets, preparing SOLO model.                                            \n"
     ]
    },
    {
     "name": "stderr",
     "output_type": "stream",
     "text": [
      "/home/prakrithi/miniconda3/envs/scTE2/lib/python3.7/site-packages/anndata/_core/anndata.py:1785: FutureWarning: X.dtype being converted to np.float32 from float64. In the next version of anndata (0.9) conversion will not be automatic. Pass dtype explicitly to avoid this warning. Pass `AnnData(X, dtype=X.dtype, ...)` to get the future behavour.\n",
      "  [AnnData(sparse.csr_matrix(a.shape), obs=a.obs) for a in all_adatas],\n",
      "GPU available: True, used: True\n",
      "TPU available: False, using: 0 TPU cores\n",
      "IPU available: False, using: 0 IPUs\n",
      "HPU available: False, using: 0 HPUs\n",
      "LOCAL_RANK: 0 - CUDA_VISIBLE_DEVICES: [0,1]\n"
     ]
    },
    {
     "name": "stdout",
     "output_type": "stream",
     "text": [
      "Epoch 306/400:  76%|███████████████████████████████████████████████▍              | 306/400 [00:35<00:10,  8.70it/s, loss=0.401, v_num=1]\n",
      "Monitored metric validation_loss did not improve in the last 30 records. Best score: 0.422. Signaling Trainer to stop.\n"
     ]
    },
    {
     "name": "stderr",
     "output_type": "stream",
     "text": [
      "/home/prakrithi/miniconda3/envs/scTE2/lib/python3.7/site-packages/scanpy/preprocessing/_simple.py:140: ImplicitModificationWarning: Trying to modify attribute `.obs` of view, initializing view as actual.\n",
      "  adata.obs['n_genes'] = number\n",
      "GPU available: True, used: True\n",
      "TPU available: False, using: 0 TPU cores\n",
      "IPU available: False, using: 0 IPUs\n",
      "HPU available: False, using: 0 HPUs\n",
      "LOCAL_RANK: 0 - CUDA_VISIBLE_DEVICES: [0,1]\n"
     ]
    },
    {
     "name": "stdout",
     "output_type": "stream",
     "text": [
      "Epoch 400/400: 100%|████████████████████████████████████████████████████████████████| 400/400 [03:45<00:00,  1.77it/s, loss=370, v_num=1]\n",
      "\u001b[34mINFO    \u001b[0m Creating doublets, preparing SOLO model.                                            \n"
     ]
    },
    {
     "name": "stderr",
     "output_type": "stream",
     "text": [
      "/home/prakrithi/miniconda3/envs/scTE2/lib/python3.7/site-packages/anndata/_core/anndata.py:1785: FutureWarning: X.dtype being converted to np.float32 from float64. In the next version of anndata (0.9) conversion will not be automatic. Pass dtype explicitly to avoid this warning. Pass `AnnData(X, dtype=X.dtype, ...)` to get the future behavour.\n",
      "  [AnnData(sparse.csr_matrix(a.shape), obs=a.obs) for a in all_adatas],\n",
      "GPU available: True, used: True\n",
      "TPU available: False, using: 0 TPU cores\n",
      "IPU available: False, using: 0 IPUs\n",
      "HPU available: False, using: 0 HPUs\n",
      "LOCAL_RANK: 0 - CUDA_VISIBLE_DEVICES: [0,1]\n"
     ]
    },
    {
     "name": "stdout",
     "output_type": "stream",
     "text": [
      "Epoch 130/400:  32%|████████████████████▍                                          | 130/400 [01:07<02:20,  1.92it/s, loss=0.31, v_num=1]\n",
      "Monitored metric validation_loss did not improve in the last 30 records. Best score: 0.270. Signaling Trainer to stop.\n"
     ]
    },
    {
     "name": "stderr",
     "output_type": "stream",
     "text": [
      "/home/prakrithi/miniconda3/envs/scTE2/lib/python3.7/site-packages/scanpy/preprocessing/_simple.py:140: ImplicitModificationWarning: Trying to modify attribute `.obs` of view, initializing view as actual.\n",
      "  adata.obs['n_genes'] = number\n",
      "GPU available: True, used: True\n",
      "TPU available: False, using: 0 TPU cores\n",
      "IPU available: False, using: 0 IPUs\n",
      "HPU available: False, using: 0 HPUs\n",
      "LOCAL_RANK: 0 - CUDA_VISIBLE_DEVICES: [0,1]\n"
     ]
    },
    {
     "name": "stdout",
     "output_type": "stream",
     "text": [
      "Epoch 400/400: 100%|████████████████████████████████████████████████████████████████| 400/400 [03:13<00:00,  2.07it/s, loss=711, v_num=1]\n",
      "\u001b[34mINFO    \u001b[0m Creating doublets, preparing SOLO model.                                            \n"
     ]
    },
    {
     "name": "stderr",
     "output_type": "stream",
     "text": [
      "/home/prakrithi/miniconda3/envs/scTE2/lib/python3.7/site-packages/anndata/_core/anndata.py:1785: FutureWarning: X.dtype being converted to np.float32 from float64. In the next version of anndata (0.9) conversion will not be automatic. Pass dtype explicitly to avoid this warning. Pass `AnnData(X, dtype=X.dtype, ...)` to get the future behavour.\n",
      "  [AnnData(sparse.csr_matrix(a.shape), obs=a.obs) for a in all_adatas],\n",
      "GPU available: True, used: True\n",
      "TPU available: False, using: 0 TPU cores\n",
      "IPU available: False, using: 0 IPUs\n",
      "HPU available: False, using: 0 HPUs\n",
      "LOCAL_RANK: 0 - CUDA_VISIBLE_DEVICES: [0,1]\n"
     ]
    },
    {
     "name": "stdout",
     "output_type": "stream",
     "text": [
      "Epoch 356/400:  89%|███████████████████████████████████████████████████████▏      | 356/400 [02:45<00:20,  2.15it/s, loss=0.219, v_num=1]\n",
      "Monitored metric validation_loss did not improve in the last 30 records. Best score: 0.210. Signaling Trainer to stop.\n"
     ]
    },
    {
     "name": "stderr",
     "output_type": "stream",
     "text": [
      "/home/prakrithi/miniconda3/envs/scTE2/lib/python3.7/site-packages/scanpy/preprocessing/_simple.py:140: ImplicitModificationWarning: Trying to modify attribute `.obs` of view, initializing view as actual.\n",
      "  adata.obs['n_genes'] = number\n",
      "GPU available: True, used: True\n",
      "TPU available: False, using: 0 TPU cores\n",
      "IPU available: False, using: 0 IPUs\n",
      "HPU available: False, using: 0 HPUs\n",
      "LOCAL_RANK: 0 - CUDA_VISIBLE_DEVICES: [0,1]\n"
     ]
    },
    {
     "name": "stdout",
     "output_type": "stream",
     "text": [
      "Epoch 400/400: 100%|████████████████████████████████████████████████████████████████| 400/400 [05:08<00:00,  1.30it/s, loss=357, v_num=1]\n",
      "\u001b[34mINFO    \u001b[0m Creating doublets, preparing SOLO model.                                            \n"
     ]
    },
    {
     "name": "stderr",
     "output_type": "stream",
     "text": [
      "/home/prakrithi/miniconda3/envs/scTE2/lib/python3.7/site-packages/anndata/_core/anndata.py:1785: FutureWarning: X.dtype being converted to np.float32 from float64. In the next version of anndata (0.9) conversion will not be automatic. Pass dtype explicitly to avoid this warning. Pass `AnnData(X, dtype=X.dtype, ...)` to get the future behavour.\n",
      "  [AnnData(sparse.csr_matrix(a.shape), obs=a.obs) for a in all_adatas],\n",
      "GPU available: True, used: True\n",
      "TPU available: False, using: 0 TPU cores\n",
      "IPU available: False, using: 0 IPUs\n",
      "HPU available: False, using: 0 HPUs\n",
      "LOCAL_RANK: 0 - CUDA_VISIBLE_DEVICES: [0,1]\n"
     ]
    },
    {
     "name": "stdout",
     "output_type": "stream",
     "text": [
      "Epoch 351/400:  88%|██████████████████████████████████████████████████████▍       | 351/400 [03:16<00:27,  1.79it/s, loss=0.379, v_num=1]\n",
      "Monitored metric validation_loss did not improve in the last 30 records. Best score: 0.349. Signaling Trainer to stop.\n"
     ]
    },
    {
     "name": "stderr",
     "output_type": "stream",
     "text": [
      "/home/prakrithi/miniconda3/envs/scTE2/lib/python3.7/site-packages/scanpy/preprocessing/_simple.py:140: ImplicitModificationWarning: Trying to modify attribute `.obs` of view, initializing view as actual.\n",
      "  adata.obs['n_genes'] = number\n"
     ]
    }
   ],
   "source": [
    "#will take 2-3 hours on HPC\n",
    "\n",
    "path = '/nfs_master/prakrithi/abhay/testis_allfiles/'\n",
    "out = []\n",
    "\n",
    "for file in os.listdir(path):\n",
    "    out.append(pp(path + file))"
   ]
  },
  {
   "cell_type": "code",
   "execution_count": 20,
   "id": "ee61eb0c",
   "metadata": {},
   "outputs": [
    {
     "data": {
      "text/plain": [
       "View of AnnData object with n_obs × n_vars = 1010 × 58389\n",
       "    obs: 'Sample', 'doublet', 'n_genes', 'n_genes_by_counts', 'total_counts', 'total_counts_mt', 'pct_counts_mt', 'total_counts_ribo', 'pct_counts_ribo'\n",
       "    var: 'mt', 'ribo', 'n_cells_by_counts', 'mean_counts', 'pct_dropout_by_counts', 'total_counts'"
      ]
     },
     "execution_count": 20,
     "metadata": {},
     "output_type": "execute_result"
    }
   ],
   "source": [
    "out[10]\n"
   ]
  },
  {
   "cell_type": "code",
   "execution_count": 21,
   "id": "e968687d",
   "metadata": {},
   "outputs": [
    {
     "name": "stderr",
     "output_type": "stream",
     "text": [
      "/home/prakrithi/miniconda3/envs/scTE2/lib/python3.7/site-packages/anndata/_core/anndata.py:1828: UserWarning: Observation names are not unique. To make them unique, call `.obs_names_make_unique`.\n",
      "  utils.warn_names_duplicates(\"obs\")\n"
     ]
    }
   ],
   "source": [
    "adata = sc.concat(out)"
   ]
  },
  {
   "cell_type": "code",
   "execution_count": 22,
   "id": "924d6b12",
   "metadata": {},
   "outputs": [
    {
     "data": {
      "text/plain": [
       "AnnData object with n_obs × n_vars = 12183 × 58389\n",
       "    obs: 'Sample', 'doublet', 'n_genes', 'n_genes_by_counts', 'total_counts', 'total_counts_mt', 'pct_counts_mt', 'total_counts_ribo', 'pct_counts_ribo'"
      ]
     },
     "execution_count": 22,
     "metadata": {},
     "output_type": "execute_result"
    }
   ],
   "source": [
    "adata"
   ]
  },
  {
   "cell_type": "code",
   "execution_count": 23,
   "id": "5ed9942b",
   "metadata": {},
   "outputs": [
    {
     "data": {
      "text/html": [
       "<div>\n",
       "<style scoped>\n",
       "    .dataframe tbody tr th:only-of-type {\n",
       "        vertical-align: middle;\n",
       "    }\n",
       "\n",
       "    .dataframe tbody tr th {\n",
       "        vertical-align: top;\n",
       "    }\n",
       "\n",
       "    .dataframe thead th {\n",
       "        text-align: right;\n",
       "    }\n",
       "</style>\n",
       "<table border=\"1\" class=\"dataframe\">\n",
       "  <thead>\n",
       "    <tr style=\"text-align: right;\">\n",
       "      <th></th>\n",
       "      <th>Sample</th>\n",
       "      <th>doublet</th>\n",
       "      <th>n_genes</th>\n",
       "      <th>n_genes_by_counts</th>\n",
       "      <th>total_counts</th>\n",
       "      <th>total_counts_mt</th>\n",
       "      <th>pct_counts_mt</th>\n",
       "      <th>total_counts_ribo</th>\n",
       "      <th>pct_counts_ribo</th>\n",
       "    </tr>\n",
       "  </thead>\n",
       "  <tbody>\n",
       "    <tr>\n",
       "      <th>AAACGGGGTCTGGAGA-1</th>\n",
       "      <td>/nfs_master/prakrithi/abhay/testis_allfiles/GS...</td>\n",
       "      <td>False</td>\n",
       "      <td>460</td>\n",
       "      <td>460</td>\n",
       "      <td>1021.0</td>\n",
       "      <td>0.0</td>\n",
       "      <td>0.0</td>\n",
       "      <td>12.0</td>\n",
       "      <td>1.175318</td>\n",
       "    </tr>\n",
       "    <tr>\n",
       "      <th>AACACGTGTCGAACAG-1</th>\n",
       "      <td>/nfs_master/prakrithi/abhay/testis_allfiles/GS...</td>\n",
       "      <td>False</td>\n",
       "      <td>862</td>\n",
       "      <td>862</td>\n",
       "      <td>1407.0</td>\n",
       "      <td>0.0</td>\n",
       "      <td>0.0</td>\n",
       "      <td>25.0</td>\n",
       "      <td>1.776830</td>\n",
       "    </tr>\n",
       "    <tr>\n",
       "      <th>AACCGCGAGGAGTACC-1</th>\n",
       "      <td>/nfs_master/prakrithi/abhay/testis_allfiles/GS...</td>\n",
       "      <td>False</td>\n",
       "      <td>840</td>\n",
       "      <td>840</td>\n",
       "      <td>2247.0</td>\n",
       "      <td>0.0</td>\n",
       "      <td>0.0</td>\n",
       "      <td>22.0</td>\n",
       "      <td>0.979083</td>\n",
       "    </tr>\n",
       "    <tr>\n",
       "      <th>AACCGCGCAGACAAAT-1</th>\n",
       "      <td>/nfs_master/prakrithi/abhay/testis_allfiles/GS...</td>\n",
       "      <td>False</td>\n",
       "      <td>863</td>\n",
       "      <td>863</td>\n",
       "      <td>1367.0</td>\n",
       "      <td>0.0</td>\n",
       "      <td>0.0</td>\n",
       "      <td>22.0</td>\n",
       "      <td>1.609364</td>\n",
       "    </tr>\n",
       "    <tr>\n",
       "      <th>AACGTTGTCCTATGTT-1</th>\n",
       "      <td>/nfs_master/prakrithi/abhay/testis_allfiles/GS...</td>\n",
       "      <td>False</td>\n",
       "      <td>386</td>\n",
       "      <td>386</td>\n",
       "      <td>733.0</td>\n",
       "      <td>0.0</td>\n",
       "      <td>0.0</td>\n",
       "      <td>10.0</td>\n",
       "      <td>1.364256</td>\n",
       "    </tr>\n",
       "    <tr>\n",
       "      <th>...</th>\n",
       "      <td>...</td>\n",
       "      <td>...</td>\n",
       "      <td>...</td>\n",
       "      <td>...</td>\n",
       "      <td>...</td>\n",
       "      <td>...</td>\n",
       "      <td>...</td>\n",
       "      <td>...</td>\n",
       "      <td>...</td>\n",
       "    </tr>\n",
       "    <tr>\n",
       "      <th>TTCTTAGGTGGAAAGA-1</th>\n",
       "      <td>/nfs_master/prakrithi/abhay/testis_allfiles/GS...</td>\n",
       "      <td>False</td>\n",
       "      <td>1239</td>\n",
       "      <td>1239</td>\n",
       "      <td>4738.0</td>\n",
       "      <td>0.0</td>\n",
       "      <td>0.0</td>\n",
       "      <td>60.0</td>\n",
       "      <td>1.266357</td>\n",
       "    </tr>\n",
       "    <tr>\n",
       "      <th>TTGAACGGTAGCGCTC-1</th>\n",
       "      <td>/nfs_master/prakrithi/abhay/testis_allfiles/GS...</td>\n",
       "      <td>False</td>\n",
       "      <td>432</td>\n",
       "      <td>432</td>\n",
       "      <td>810.0</td>\n",
       "      <td>0.0</td>\n",
       "      <td>0.0</td>\n",
       "      <td>14.0</td>\n",
       "      <td>1.728395</td>\n",
       "    </tr>\n",
       "    <tr>\n",
       "      <th>TTGGAACCATTGTGCA-1</th>\n",
       "      <td>/nfs_master/prakrithi/abhay/testis_allfiles/GS...</td>\n",
       "      <td>False</td>\n",
       "      <td>591</td>\n",
       "      <td>591</td>\n",
       "      <td>1635.0</td>\n",
       "      <td>0.0</td>\n",
       "      <td>0.0</td>\n",
       "      <td>21.0</td>\n",
       "      <td>1.284404</td>\n",
       "    </tr>\n",
       "    <tr>\n",
       "      <th>TTGGCAAGTTCCAACA-1</th>\n",
       "      <td>/nfs_master/prakrithi/abhay/testis_allfiles/GS...</td>\n",
       "      <td>False</td>\n",
       "      <td>260</td>\n",
       "      <td>260</td>\n",
       "      <td>1184.0</td>\n",
       "      <td>0.0</td>\n",
       "      <td>0.0</td>\n",
       "      <td>18.0</td>\n",
       "      <td>1.520270</td>\n",
       "    </tr>\n",
       "    <tr>\n",
       "      <th>TTGTAGGCAAGGCTCC-1</th>\n",
       "      <td>/nfs_master/prakrithi/abhay/testis_allfiles/GS...</td>\n",
       "      <td>False</td>\n",
       "      <td>642</td>\n",
       "      <td>642</td>\n",
       "      <td>1591.0</td>\n",
       "      <td>0.0</td>\n",
       "      <td>0.0</td>\n",
       "      <td>30.0</td>\n",
       "      <td>1.885607</td>\n",
       "    </tr>\n",
       "  </tbody>\n",
       "</table>\n",
       "<p>12183 rows × 9 columns</p>\n",
       "</div>"
      ],
      "text/plain": [
       "                                                               Sample  \\\n",
       "AAACGGGGTCTGGAGA-1  /nfs_master/prakrithi/abhay/testis_allfiles/GS...   \n",
       "AACACGTGTCGAACAG-1  /nfs_master/prakrithi/abhay/testis_allfiles/GS...   \n",
       "AACCGCGAGGAGTACC-1  /nfs_master/prakrithi/abhay/testis_allfiles/GS...   \n",
       "AACCGCGCAGACAAAT-1  /nfs_master/prakrithi/abhay/testis_allfiles/GS...   \n",
       "AACGTTGTCCTATGTT-1  /nfs_master/prakrithi/abhay/testis_allfiles/GS...   \n",
       "...                                                               ...   \n",
       "TTCTTAGGTGGAAAGA-1  /nfs_master/prakrithi/abhay/testis_allfiles/GS...   \n",
       "TTGAACGGTAGCGCTC-1  /nfs_master/prakrithi/abhay/testis_allfiles/GS...   \n",
       "TTGGAACCATTGTGCA-1  /nfs_master/prakrithi/abhay/testis_allfiles/GS...   \n",
       "TTGGCAAGTTCCAACA-1  /nfs_master/prakrithi/abhay/testis_allfiles/GS...   \n",
       "TTGTAGGCAAGGCTCC-1  /nfs_master/prakrithi/abhay/testis_allfiles/GS...   \n",
       "\n",
       "                    doublet  n_genes  n_genes_by_counts  total_counts  \\\n",
       "AAACGGGGTCTGGAGA-1    False      460                460        1021.0   \n",
       "AACACGTGTCGAACAG-1    False      862                862        1407.0   \n",
       "AACCGCGAGGAGTACC-1    False      840                840        2247.0   \n",
       "AACCGCGCAGACAAAT-1    False      863                863        1367.0   \n",
       "AACGTTGTCCTATGTT-1    False      386                386         733.0   \n",
       "...                     ...      ...                ...           ...   \n",
       "TTCTTAGGTGGAAAGA-1    False     1239               1239        4738.0   \n",
       "TTGAACGGTAGCGCTC-1    False      432                432         810.0   \n",
       "TTGGAACCATTGTGCA-1    False      591                591        1635.0   \n",
       "TTGGCAAGTTCCAACA-1    False      260                260        1184.0   \n",
       "TTGTAGGCAAGGCTCC-1    False      642                642        1591.0   \n",
       "\n",
       "                    total_counts_mt  pct_counts_mt  total_counts_ribo  \\\n",
       "AAACGGGGTCTGGAGA-1              0.0            0.0               12.0   \n",
       "AACACGTGTCGAACAG-1              0.0            0.0               25.0   \n",
       "AACCGCGAGGAGTACC-1              0.0            0.0               22.0   \n",
       "AACCGCGCAGACAAAT-1              0.0            0.0               22.0   \n",
       "AACGTTGTCCTATGTT-1              0.0            0.0               10.0   \n",
       "...                             ...            ...                ...   \n",
       "TTCTTAGGTGGAAAGA-1              0.0            0.0               60.0   \n",
       "TTGAACGGTAGCGCTC-1              0.0            0.0               14.0   \n",
       "TTGGAACCATTGTGCA-1              0.0            0.0               21.0   \n",
       "TTGGCAAGTTCCAACA-1              0.0            0.0               18.0   \n",
       "TTGTAGGCAAGGCTCC-1              0.0            0.0               30.0   \n",
       "\n",
       "                    pct_counts_ribo  \n",
       "AAACGGGGTCTGGAGA-1         1.175318  \n",
       "AACACGTGTCGAACAG-1         1.776830  \n",
       "AACCGCGAGGAGTACC-1         0.979083  \n",
       "AACCGCGCAGACAAAT-1         1.609364  \n",
       "AACGTTGTCCTATGTT-1         1.364256  \n",
       "...                             ...  \n",
       "TTCTTAGGTGGAAAGA-1         1.266357  \n",
       "TTGAACGGTAGCGCTC-1         1.728395  \n",
       "TTGGAACCATTGTGCA-1         1.284404  \n",
       "TTGGCAAGTTCCAACA-1         1.520270  \n",
       "TTGTAGGCAAGGCTCC-1         1.885607  \n",
       "\n",
       "[12183 rows x 9 columns]"
      ]
     },
     "execution_count": 23,
     "metadata": {},
     "output_type": "execute_result"
    }
   ],
   "source": [
    "adata.obs"
   ]
  },
  {
   "cell_type": "code",
   "execution_count": null,
   "id": "bdcf30a9",
   "metadata": {},
   "outputs": [],
   "source": []
  }
 ],
 "metadata": {
  "kernelspec": {
   "display_name": "Python 3",
   "language": "python",
   "name": "python3"
  },
  "language_info": {
   "codemirror_mode": {
    "name": "ipython",
    "version": 3
   },
   "file_extension": ".py",
   "mimetype": "text/x-python",
   "name": "python",
   "nbconvert_exporter": "python",
   "pygments_lexer": "ipython3",
   "version": "3.7.0"
  }
 },
 "nbformat": 4,
 "nbformat_minor": 5
}
