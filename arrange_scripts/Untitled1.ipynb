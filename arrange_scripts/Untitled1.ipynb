{
 "cells": [
  {
   "cell_type": "code",
   "execution_count": 1,
   "id": "decd74c2",
   "metadata": {},
   "outputs": [],
   "source": [
    "import os"
   ]
  },
  {
   "cell_type": "code",
   "execution_count": 5,
   "id": "38dbca86",
   "metadata": {},
   "outputs": [],
   "source": [
    "datapath = r\"/nfs_master/prakrithi/abhay/testis_allfiles/\" # make sure to put the 'r' in front"
   ]
  },
  {
   "cell_type": "code",
   "execution_count": 10,
   "id": "09ee5e51",
   "metadata": {},
   "outputs": [],
   "source": [
    "os.chdir(datapath)"
   ]
  },
  {
   "cell_type": "code",
   "execution_count": 14,
   "id": "f8e38b4c",
   "metadata": {},
   "outputs": [
    {
     "data": {
      "text/plain": [
       "['GSE154535_SRR12234213_Donor_OA.h5ad',\n",
       " 'GSE153947_SRR12164935_Normal_3.h5ad',\n",
       " 'GSE112013_SRR6860523_Donor3_rep1.h5ad',\n",
       " 'GSE112013_SRR6860521_Donor2_rep1.h5ad',\n",
       " 'GSE153947_SRR12164933_Normal_1.h5ad',\n",
       " 'GSE153947_SRR12164938_Crypto_3.h5ad',\n",
       " 'GSE154535_SRR12234211_Donor2_iNOA.h5ad',\n",
       " 'GSE153947_SRR12164934_Normal_2.h5ad',\n",
       " 'GSE112013_SRR6860524_Donor3_rep2.h5ad',\n",
       " 'GSE154535_SRR12234212_Donor3_iNOA.h5ad',\n",
       " 'GSE112013_SRR6860522_Donor2_rep2.h5ad',\n",
       " 'GSE112013_SRR6860519_Donor1_rep1.h5ad',\n",
       " 'GSE154535_SRR12234210_Donor1_iNOA.h5ad',\n",
       " 'GSE112013_SRR6860520_Donor1_rep2.h5ad',\n",
       " 'GSE153947_SRR12164936_Crypto_1.h5ad',\n",
       " 'GSE153947_SRR12164937_Crypto_2.h5ad']"
      ]
     },
     "execution_count": 14,
     "metadata": {},
     "output_type": "execute_result"
    }
   ],
   "source": [
    "d=os.listdir()\n",
    "d"
   ]
  }
 ],
 "metadata": {
  "kernelspec": {
   "display_name": "Python 3",
   "language": "python",
   "name": "python3"
  },
  "language_info": {
   "codemirror_mode": {
    "name": "ipython",
    "version": 3
   },
   "file_extension": ".py",
   "mimetype": "text/x-python",
   "name": "python",
   "nbconvert_exporter": "python",
   "pygments_lexer": "ipython3",
   "version": "3.7.0"
  }
 },
 "nbformat": 4,
 "nbformat_minor": 5
}
