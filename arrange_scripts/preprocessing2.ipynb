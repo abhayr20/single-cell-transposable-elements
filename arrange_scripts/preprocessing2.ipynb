{
 "cells": [
  {
   "cell_type": "code",
   "execution_count": 50,
   "id": "9358ad63",
   "metadata": {},
   "outputs": [],
   "source": [
    "import scanpy as sc\n",
    "import scvi\n",
    "import seaborn as sns\n",
    "import matplotlib.pyplot as plt\n",
    "import pandas as pd"
   ]
  },
  {
   "cell_type": "code",
   "execution_count": 2,
   "id": "5ee640ed",
   "metadata": {},
   "outputs": [],
   "source": [
    "adata = sc.read_h5ad('/nfs_master/prakrithi/abhay/testis_allfiles/GSE112013_SRR6860519_Donor1_rep1.h5ad')"
   ]
  },
  {
   "cell_type": "code",
   "execution_count": 3,
   "id": "63dd96d2",
   "metadata": {},
   "outputs": [
    {
     "data": {
      "text/plain": [
       "AnnData object with n_obs × n_vars = 10000 × 58389"
      ]
     },
     "execution_count": 3,
     "metadata": {},
     "output_type": "execute_result"
    }
   ],
   "source": [
    "adata"
   ]
  },
  {
   "cell_type": "markdown",
   "id": "8bf28aa8",
   "metadata": {},
   "source": [
    "# Doublet Removal"
   ]
  },
  {
   "cell_type": "code",
   "execution_count": 4,
   "id": "69ab2593",
   "metadata": {},
   "outputs": [],
   "source": [
    "sc.pp.filter_genes(adata, min_cells = 10)"
   ]
  },
  {
   "cell_type": "code",
   "execution_count": 5,
   "id": "6607afc1",
   "metadata": {},
   "outputs": [],
   "source": [
    "sc.pp.highly_variable_genes(adata, n_top_genes = 2000, subset = True, flavor = 'seurat_v3')\n"
   ]
  },
  {
   "cell_type": "code",
   "execution_count": 6,
   "id": "12f18561",
   "metadata": {},
   "outputs": [
    {
     "name": "stderr",
     "output_type": "stream",
     "text": [
      "GPU available: True, used: True\n",
      "TPU available: False, using: 0 TPU cores\n",
      "IPU available: False, using: 0 IPUs\n",
      "HPU available: False, using: 0 HPUs\n",
      "LOCAL_RANK: 0 - CUDA_VISIBLE_DEVICES: [0,1]\n"
     ]
    },
    {
     "name": "stdout",
     "output_type": "stream",
     "text": [
      "Epoch 400/400: 100%|████████████████████████████████████████████████████████████████| 400/400 [05:32<00:00,  1.20it/s, loss=265, v_num=1]\n"
     ]
    }
   ],
   "source": [
    "scvi.model.SCVI.setup_anndata(adata)\n",
    "vae = scvi.model.SCVI(adata)\n",
    "vae.train()"
   ]
  },
  {
   "cell_type": "code",
   "execution_count": 7,
   "id": "3cf77194",
   "metadata": {},
   "outputs": [
    {
     "name": "stdout",
     "output_type": "stream",
     "text": [
      "\u001b[34mINFO    \u001b[0m Creating doublets, preparing SOLO model.                                            \n"
     ]
    },
    {
     "name": "stderr",
     "output_type": "stream",
     "text": [
      "/home/prakrithi/miniconda3/envs/scTE2/lib/python3.7/site-packages/anndata/_core/anndata.py:1785: FutureWarning: X.dtype being converted to np.float32 from float64. In the next version of anndata (0.9) conversion will not be automatic. Pass dtype explicitly to avoid this warning. Pass `AnnData(X, dtype=X.dtype, ...)` to get the future behavour.\n",
      "  [AnnData(sparse.csr_matrix(a.shape), obs=a.obs) for a in all_adatas],\n",
      "GPU available: True, used: True\n",
      "TPU available: False, using: 0 TPU cores\n",
      "IPU available: False, using: 0 IPUs\n",
      "HPU available: False, using: 0 HPUs\n",
      "LOCAL_RANK: 0 - CUDA_VISIBLE_DEVICES: [0,1]\n"
     ]
    },
    {
     "name": "stdout",
     "output_type": "stream",
     "text": [
      "Epoch 185/400:  46%|████████████████████████████▋                                 | 185/400 [02:14<02:36,  1.37it/s, loss=0.267, v_num=1]\n",
      "Monitored metric validation_loss did not improve in the last 30 records. Best score: 0.251. Signaling Trainer to stop.\n"
     ]
    }
   ],
   "source": [
    "solo = scvi.external.SOLO.from_scvi_model(vae)\n",
    "solo.train()"
   ]
  },
  {
   "cell_type": "code",
   "execution_count": 38,
   "id": "2de51db2",
   "metadata": {},
   "outputs": [],
   "source": [
    "df = solo.predict()\n",
    "df['prediction'] = solo.predict(soft = False)\n",
    "\n",
    "df.index = df.index.map(lambda x: x[:-2])"
   ]
  },
  {
   "cell_type": "code",
   "execution_count": 39,
   "id": "ddf6f49d",
   "metadata": {},
   "outputs": [
    {
     "data": {
      "text/html": [
       "<div>\n",
       "<style scoped>\n",
       "    .dataframe tbody tr th:only-of-type {\n",
       "        vertical-align: middle;\n",
       "    }\n",
       "\n",
       "    .dataframe tbody tr th {\n",
       "        vertical-align: top;\n",
       "    }\n",
       "\n",
       "    .dataframe thead th {\n",
       "        text-align: right;\n",
       "    }\n",
       "</style>\n",
       "<table border=\"1\" class=\"dataframe\">\n",
       "  <thead>\n",
       "    <tr style=\"text-align: right;\">\n",
       "      <th></th>\n",
       "      <th>doublet</th>\n",
       "      <th>singlet</th>\n",
       "    </tr>\n",
       "    <tr>\n",
       "      <th>prediction</th>\n",
       "      <th></th>\n",
       "      <th></th>\n",
       "    </tr>\n",
       "  </thead>\n",
       "  <tbody>\n",
       "    <tr>\n",
       "      <th>doublet</th>\n",
       "      <td>2061</td>\n",
       "      <td>2061</td>\n",
       "    </tr>\n",
       "    <tr>\n",
       "      <th>singlet</th>\n",
       "      <td>7939</td>\n",
       "      <td>7939</td>\n",
       "    </tr>\n",
       "  </tbody>\n",
       "</table>\n",
       "</div>"
      ],
      "text/plain": [
       "            doublet  singlet\n",
       "prediction                  \n",
       "doublet        2061     2061\n",
       "singlet        7939     7939"
      ]
     },
     "execution_count": 39,
     "metadata": {},
     "output_type": "execute_result"
    }
   ],
   "source": [
    "df.groupby('prediction').count()"
   ]
  },
  {
   "cell_type": "code",
   "execution_count": 40,
   "id": "f127a955",
   "metadata": {},
   "outputs": [],
   "source": [
    "df['dif'] = df.doublet - df.singlet\n"
   ]
  },
  {
   "cell_type": "code",
   "execution_count": 41,
   "id": "3af60da1",
   "metadata": {},
   "outputs": [
    {
     "data": {
      "image/png": "[encoded data removed]",
      "text/plain": [
       "<Figure size 360x360 with 1 Axes>"
      ]
     },
     "metadata": {
      "needs_background": "light"
     },
     "output_type": "display_data"
    }
   ],
   "source": [
    "sns.displot(df[df.prediction == 'doublet'], x = 'dif')\n",
    "plt.savefig('output.png')"
   ]
  },
  {
   "cell_type": "code",
   "execution_count": 42,
   "id": "b40618db",
   "metadata": {},
   "outputs": [],
   "source": [
    "doublets = df[(df.prediction == 'doublet') & (df.dif > 1.2)]"
   ]
  },
  {
   "cell_type": "code",
   "execution_count": 71,
   "id": "2a9d980b",
   "metadata": {},
   "outputs": [],
   "source": [
    "adata = sc.read_h5ad('/nfs_master/prakrithi/abhay/testis_allfiles/GSE112013_SRR6860519_Donor1_rep1.h5ad')\n"
   ]
  },
  {
   "cell_type": "code",
   "execution_count": 72,
   "id": "175d9b51",
   "metadata": {},
   "outputs": [],
   "source": [
    "adata.obs['doublet'] = adata.obs.index.isin(doublets.index)"
   ]
  },
  {
   "cell_type": "code",
   "execution_count": 73,
   "id": "15f6a1fa",
   "metadata": {},
   "outputs": [],
   "source": [
    "adata = adata[~adata.obs.doublet]\n"
   ]
  },
  {
   "cell_type": "markdown",
   "id": "4e644b35",
   "metadata": {},
   "source": [
    "# Pre-processing"
   ]
  },
  {
   "cell_type": "code",
   "execution_count": 74,
   "id": "aa0d1a0f",
   "metadata": {},
   "outputs": [
    {
     "name": "stderr",
     "output_type": "stream",
     "text": [
      "/home/prakrithi/miniconda3/envs/scTE2/lib/python3.7/site-packages/ipykernel_launcher.py:1: ImplicitModificationWarning: Trying to modify attribute `.var` of view, initializing view as actual.\n",
      "  \"\"\"Entry point for launching an IPython kernel.\n"
     ]
    }
   ],
   "source": [
    "adata.var['mt'] = adata.var.index.str.startswith('MT-')"
   ]
  },
  {
   "cell_type": "code",
   "execution_count": 75,
   "id": "dab7963e",
   "metadata": {},
   "outputs": [],
   "source": [
    "ribo_url = \"http://software.broadinstitute.org/gsea/msigdb/download_geneset.jsp?geneSetName=KEGG_RIBOSOME&fileType=txt\"\n"
   ]
  },
  {
   "cell_type": "code",
   "execution_count": 76,
   "id": "907067dc",
   "metadata": {},
   "outputs": [],
   "source": [
    "ribo_genes = pd.read_table(ribo_url, skiprows= 2, header=None)\n"
   ]
  },
  {
   "cell_type": "code",
   "execution_count": 80,
   "id": "d6c6b551",
   "metadata": {},
   "outputs": [],
   "source": [
    "adata.var['ribo'] = adata.var_names.isin(ribo_genes[0].values)"
   ]
  },
  {
   "cell_type": "code",
   "execution_count": 82,
   "id": "8c2327b7",
   "metadata": {},
   "outputs": [],
   "source": [
    "sc.pp.calculate_qc_metrics(adata, qc_vars=['mt', 'ribo'], percent_top=None, log1p=False, inplace=True)\n"
   ]
  },
  {
   "cell_type": "code",
   "execution_count": null,
   "id": "0169a975",
   "metadata": {},
   "outputs": [],
   "source": []
  }
 ],
 "metadata": {
  "kernelspec": {
   "display_name": "Python 3",
   "language": "python",
   "name": "python3"
  },
  "language_info": {
   "codemirror_mode": {
    "name": "ipython",
    "version": 3
   },
   "file_extension": ".py",
   "mimetype": "text/x-python",
   "name": "python",
   "nbconvert_exporter": "python",
   "pygments_lexer": "ipython3",
   "version": "3.7.0"
  }
 },
 "nbformat": 4,
 "nbformat_minor": 5
}
