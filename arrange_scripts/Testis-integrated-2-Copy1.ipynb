{
 "cells": [
  {
   "cell_type": "code",
   "execution_count": null,
   "id": "cfd32aee",
   "metadata": {},
   "outputs": [],
   "source": [
    "import numpy as np\n",
    "import pandas as pd\n",
    "import scanpy as sc\n",
    "import scrublet as scr\n",
    "import scipy.io\n",
    "import matplotlib.pyplot as plt\n",
    "import os\n",
    "import scvelo as scv\n",
    "import harmonypy as hm\n",
    "from matplotlib.pyplot import rc_context\n",
    "import re\n",
    "import seaborn as sns\n",
    "from adpbulk import ADPBulk\n",
    "import diffxpy.api as de\n"
   ]
  },
  {
   "cell_type": "code",
   "execution_count": null,
   "id": "90980ca2",
   "metadata": {},
   "outputs": [],
   "source": [
    "sc.settings.set_figure_params(dpi=150,fontsize=8)"
   ]
  },
  {
   "cell_type": "markdown",
   "id": "6b484c13",
   "metadata": {},
   "source": [
    "# Load integrated and harmonized data"
   ]
  },
  {
   "cell_type": "code",
   "execution_count": null,
   "id": "7c51f732",
   "metadata": {},
   "outputs": [],
   "source": [
    "datapath = r\"/nfs_master/prakrithi/abhay/testis_scripts/\""
   ]
  },
  {
   "cell_type": "code",
   "execution_count": null,
   "id": "ca7b1702",
   "metadata": {},
   "outputs": [],
   "source": [
    "adata = sc.read_h5ad(datapath+'integrated_data.h5ad')\n",
    "adata.uns['log1p'][\"base\"] = None"
   ]
  },
  {
   "cell_type": "code",
   "execution_count": null,
   "id": "320e272c",
   "metadata": {},
   "outputs": [],
   "source": [
    "adata"
   ]
  },
  {
   "cell_type": "code",
   "execution_count": null,
   "id": "0c6166ad",
   "metadata": {},
   "outputs": [],
   "source": [
    "!mkdir results_Nov25"
   ]
  },
  {
   "cell_type": "markdown",
   "id": "41cc2e33",
   "metadata": {},
   "source": [
    "# Add metadata for TE elements\n"
   ]
  },
  {
   "cell_type": "code",
   "execution_count": null,
   "id": "996e6cd2",
   "metadata": {},
   "outputs": [],
   "source": [
    "#load list of human TEs\n",
    "all_te = pd.read_csv('/nfs_master/prakrithi/abhay/testis_scripts/extra_files/all_TE.csv')\n",
    "all_te = all_te['All_TEs'].tolist()\n",
    "gene_list = list(adata.var.index)\n",
    "te_list = list(set(all_te).intersection(gene_list))"
   ]
  },
  {
   "cell_type": "code",
   "execution_count": null,
   "id": "58857a48",
   "metadata": {},
   "outputs": [],
   "source": [
    "#Alu = list(filter(lambda x:'Alu' in x, all_te))\n",
    "#Alu"
   ]
  },
  {
   "cell_type": "code",
   "execution_count": null,
   "id": "65df6c1c",
   "metadata": {},
   "outputs": [],
   "source": [
    "Alu  = list(filter(lambda x:'Alu' in x, te_list))\n",
    "AluY = list(filter(lambda x:'AluY' in x, te_list))\n",
    "L1   = list(filter(lambda x:'L1' in x, te_list))\n",
    "LINE = list(filter(lambda x:'LINE' in x, te_list))\n",
    "LTR  = list(filter(lambda x:'LTR' in x, te_list))\n",
    "SVA  = list(filter(lambda x:'SVA' in x, te_list))"
   ]
  },
  {
   "cell_type": "code",
   "execution_count": null,
   "id": "3bcbfdc6",
   "metadata": {},
   "outputs": [],
   "source": [
    "len(te_list)\n"
   ]
  },
  {
   "cell_type": "markdown",
   "id": "729d96f0",
   "metadata": {},
   "source": [
    "# Save raw data"
   ]
  },
  {
   "cell_type": "code",
   "execution_count": null,
   "id": "ca025ab0",
   "metadata": {},
   "outputs": [],
   "source": [
    "adata.raw = adata"
   ]
  },
  {
   "cell_type": "markdown",
   "id": "fd8d8a41",
   "metadata": {},
   "source": [
    "# Dimensionality Reduction"
   ]
  },
  {
   "cell_type": "markdown",
   "id": "0182b7a9",
   "metadata": {},
   "source": [
    "#### Calculate highly variable genes"
   ]
  },
  {
   "cell_type": "code",
   "execution_count": null,
   "id": "77d19eec",
   "metadata": {},
   "outputs": [],
   "source": [
    "sc.pp.highly_variable_genes(adata,n_top_genes=3000)"
   ]
  },
  {
   "cell_type": "code",
   "execution_count": null,
   "id": "8f2dce91",
   "metadata": {},
   "outputs": [],
   "source": [
    "adata = adata[:, adata.var.highly_variable]"
   ]
  },
  {
   "cell_type": "code",
   "execution_count": null,
   "id": "30167378",
   "metadata": {},
   "outputs": [],
   "source": [
    "adata.var"
   ]
  },
  {
   "cell_type": "code",
   "execution_count": null,
   "id": "c0337c6f",
   "metadata": {},
   "outputs": [],
   "source": [
    "sc.pp.regress_out(adata, ['total_counts', 'percent_mito', 'percent_ribo'])     \n",
    "\n"
   ]
  },
  {
   "cell_type": "code",
   "execution_count": null,
   "id": "ccd1e155",
   "metadata": {},
   "outputs": [],
   "source": [
    "sc.pp.scale(adata, max_value=10)"
   ]
  },
  {
   "cell_type": "code",
   "execution_count": null,
   "id": "cdeda6f1",
   "metadata": {},
   "outputs": [],
   "source": [
    "sc.tl.pca(adata, svd_solver='arpack', n_comps=40)"
   ]
  },
  {
   "cell_type": "code",
   "execution_count": null,
   "id": "d53f86ef",
   "metadata": {},
   "outputs": [],
   "source": [
    "sc.pl.pca_variance_ratio(adata, log=False)"
   ]
  },
  {
   "cell_type": "code",
   "execution_count": null,
   "id": "0457151e",
   "metadata": {},
   "outputs": [],
   "source": []
  },
  {
   "cell_type": "markdown",
   "id": "9d071a61",
   "metadata": {},
   "source": [
    "#### Harmony Batch correction"
   ]
  },
  {
   "cell_type": "code",
   "execution_count": null,
   "id": "7a8e1309",
   "metadata": {},
   "outputs": [],
   "source": [
    "pca = adata.obsm['X_pca']\n",
    "batch = adata.obs['samples']\n",
    "meta_data = adata.obs"
   ]
  },
  {
   "cell_type": "code",
   "execution_count": null,
   "id": "e8078904",
   "metadata": {
    "scrolled": true
   },
   "outputs": [],
   "source": [
    "ho = hm.run_harmony(pca, meta_data, ['samples'], epsilon_harmony = -float('Inf'), max_iter_kmeans = 25)\n"
   ]
  },
  {
   "cell_type": "code",
   "execution_count": null,
   "id": "3f656567",
   "metadata": {},
   "outputs": [],
   "source": [
    "res = pd.DataFrame(ho.Z_corr)\n",
    "res = res.T\n",
    "adata_hvg.obsm['X_pca'] = res.values\n"
   ]
  },
  {
   "cell_type": "markdown",
   "id": "d07e2b01",
   "metadata": {},
   "source": [
    "# Clustering"
   ]
  },
  {
   "cell_type": "code",
   "execution_count": null,
   "id": "65e582c9",
   "metadata": {},
   "outputs": [],
   "source": [
    "sc.pp.normalize_total(adata_hvg, target_sum=1e4)\n",
    "sc.pp.log1p(adata)\n",
    "adata.raw=adata"
   ]
  },
  {
   "cell_type": "code",
   "execution_count": null,
   "id": "754d237e",
   "metadata": {},
   "outputs": [],
   "source": [
    "sc.pp.neighbors(adata_hvg,n_neighbors=30)"
   ]
  },
  {
   "cell_type": "code",
   "execution_count": null,
   "id": "5e2604e0",
   "metadata": {},
   "outputs": [],
   "source": [
    "sc.tl.umap(adata_hvg,spread=0.8,min_dist=0.3)"
   ]
  },
  {
   "cell_type": "code",
   "execution_count": null,
   "id": "05de728d",
   "metadata": {},
   "outputs": [],
   "source": [
    "sc.tl.leiden(adata_hvg,resolution=0.45, n_iterations=-1)"
   ]
  },
  {
   "cell_type": "code",
   "execution_count": null,
   "id": "c7683eeb",
   "metadata": {},
   "outputs": [],
   "source": [
    "sc.pl.umap(adata_hvg,color=[\"leiden\",\"samples\"],cmap=\"plasma_r\")\n",
    "plt.savefig('integrated-umap.png')"
   ]
  },
  {
   "cell_type": "markdown",
   "id": "3747e3a5",
   "metadata": {},
   "source": [
    "# Differential Gene Expression Analysis"
   ]
  },
  {
   "cell_type": "code",
   "execution_count": null,
   "id": "aeba9378",
   "metadata": {},
   "outputs": [],
   "source": [
    "sc.tl.rank_genes_groups(adata_hvg,pts=True,groupby='leiden',n_genes=100,method='wilcoxon',corr_method='bonferroni')"
   ]
  },
  {
   "cell_type": "code",
   "execution_count": null,
   "id": "22a6d5d5",
   "metadata": {},
   "outputs": [],
   "source": [
    "sc.tl.dendrogram(adata_hvg,groupby=\"leiden\")"
   ]
  },
  {
   "cell_type": "code",
   "execution_count": null,
   "id": "0cf2e70d",
   "metadata": {},
   "outputs": [],
   "source": [
    "with rc_context({'figure.figsize': (8, 8)}):\n",
    "    sc.pl.rank_genes_groups_dotplot(adata_hvg,n_genes=7,\n",
    "                                    groupby=\"leiden\",color_map=\"plasma_r\")"
   ]
  },
  {
   "cell_type": "code",
   "execution_count": null,
   "id": "6253b0b8",
   "metadata": {},
   "outputs": [],
   "source": [
    "markers = sc.get.rank_genes_groups_df(adata_hvg, None)\n",
    "markers = markers[(markers.pvals_adj < 0.05) & (markers.logfoldchanges > 0.5)]\n",
    "markers.to_csv('DEG_by_cluster.csv')\n"
   ]
  },
  {
   "cell_type": "code",
   "execution_count": null,
   "id": "68666aa6",
   "metadata": {},
   "outputs": [],
   "source": [
    "deg_df = pd.read_csv('DEG_by_cluster.csv')\n",
    "deg_df = deg_df.iloc[: , 1:]\n",
    "deg_df = deg_df[(abs(deg_df.logfoldchanges) > 0.25) & (deg_df.pvals_adj < 0.05)]\n",
    "deg_df"
   ]
  },
  {
   "cell_type": "markdown",
   "id": "0040d008",
   "metadata": {},
   "source": [
    "# Cluster Annotation  "
   ]
  },
  {
   "cell_type": "code",
   "execution_count": null,
   "id": "d5fc62e6",
   "metadata": {},
   "outputs": [],
   "source": [
    "sc.pl.umap(adata, color=[\"leiden\", \"samples\"], frameon = False)\n",
    "plt.savefig('unannotated-umap.png')"
   ]
  },
  {
   "cell_type": "code",
   "execution_count": null,
   "id": "c75254cc",
   "metadata": {},
   "outputs": [],
   "source": [
    "#markers of interest\n",
    "macrophage         = ['CD14', 'CD163', 'S100A4']     \n",
    "endothelial        = ['PALMD', 'VWF', 'CDH5']        \n",
    "other              = ['RBP1', 'INSL3', 'MYL9']       \n",
    "lydig              = ['DLK1','IGF1','CFD']           \n",
    "myoid              = ['MYH11','ACTA2','TPM4']        \n",
    "sertoli            = ['SOX9', 'WT1', 'HMGN5']        \n",
    "#immature_spermatid = ['ZPBP', 'ZPBP2', 'SPAG6']\n",
    "#spermatid          = ['SPATA18', 'HOOK1', 'SPATA12'] \n",
    "\n",
    "#spermatogonia\n",
    "spermatogonia      = ['UTF1', 'ID4', 'SOHLH1']  \n",
    "undiff_SPG         = ['MAGEA4','ID4','TCF3']\n",
    "diff_SPG           = ['SOX4','DMRT1']\n",
    "\n",
    "#speermatocytes\n",
    "leptotene          = ['TEX19','DPH7','DMC1']\n",
    "zygotene           = ['MLH3','SELENOT', 'TDRG1','LY6K']\n",
    "pachytene          = ['PIWIL1','CCDC112']\n",
    "diplotene          = ['AURKA', 'CCNA1']\n",
    "meotic_div         = ['SIRPG', 'SLC26A3']\n",
    "\n",
    "round_spt          = ['SPAG6']\n",
    "elong_spt          = ['ZPBP', 'ZPBP2']\n",
    "#elong_spt          = ['ZPBP', 'ZPBP2', 'DNAH6', 'DNAH7']\n",
    "early_spt          = ['TEX29']\n",
    "late_spt           = ['PRM3','SPATA12']\n"
   ]
  },
  {
   "cell_type": "code",
   "execution_count": null,
   "id": "114a25d1",
   "metadata": {},
   "outputs": [],
   "source": [
    "#marker lists\n",
    "spermatogonia = undiff_SPG + diff_SPG\n",
    "spermatids = round_spt + elong_spt + early_spt + late_spt\n",
    "pre_pachytene = leptotene + zygotene \n",
    "post_pachytene = pachytene + diplotene \n",
    "\n",
    "somatic_m = macrophage + lydig + sertoli + endothelial\n",
    " \n",
    "best = spermatids + post_pachytene + spermatogonia + pre_pachytene + sertoli + lydig + endothelial + macrophage\n"
   ]
  },
  {
   "cell_type": "code",
   "execution_count": null,
   "id": "3d23a1cb",
   "metadata": {},
   "outputs": [],
   "source": [
    "adata_hvg.obs"
   ]
  },
  {
   "cell_type": "code",
   "execution_count": null,
   "id": "620affd6",
   "metadata": {},
   "outputs": [],
   "source": [
    "label_dict = {'0': 'Elongating_spermatids',\n",
    "              '1': 'Lydig_cells',\n",
    "              '2': 'Round_spermatids',\n",
    "              '3': \"Post_pachytene_spermatocytes\",\n",
    "              '4': \"Mature_spermatids\",\n",
    "              '5': \"Unknown_1\",\n",
    "              '6': \"Spermatogonia\",\n",
    "              '7': \"Pre_pachytene_spermatocytes\",\n",
    "              '8': \"Sertoli_cells\",\n",
    "              '9': \"Endothelial_cells\",\n",
    "            '10' : \"Macrophages\",\n",
    "            '11' : \"Unknown_2\",\n",
    "            '12' : \"Unknown_3\"\n",
    "             } \n",
    "adata_hvg.obs['clusters'] = adata_hvg.obs['leiden'].map(label_dict).astype('category')"
   ]
  },
  {
   "cell_type": "code",
   "execution_count": null,
   "id": "8b26fcb6",
   "metadata": {},
   "outputs": [],
   "source": [
    "#test marker dotplot for annotation\n",
    "sc.pl.dotplot(adata_hvg, Alu, groupby='clusters', dendrogram=True)\n",
    "plt.savefig('test-dotplot.png')"
   ]
  },
  {
   "cell_type": "code",
   "execution_count": null,
   "id": "7193244d",
   "metadata": {},
   "outputs": [],
   "source": [
    "adata.var.index"
   ]
  },
  {
   "cell_type": "code",
   "execution_count": null,
   "id": "7b52a188",
   "metadata": {
    "scrolled": true
   },
   "outputs": [],
   "source": [
    "#labelled dotplot\n",
    "sc.pl.dotplot(adata_hvg, best, groupby='clusters', dendrogram=True)\n",
    "plt.savefig('labelled-dotplot.png')"
   ]
  },
  {
   "cell_type": "code",
   "execution_count": null,
   "id": "55865648",
   "metadata": {},
   "outputs": [],
   "source": [
    "#labelled UMAP\n",
    "sc.pl.umap(adata_hvg, color=[\"clusters\"], frameon = False, legend_loc = 'on data', legend_fontsize = 'xx-small')\n",
    "plt.savefig('labelled-umap.png')"
   ]
  },
  {
   "cell_type": "markdown",
   "id": "f2d83622",
   "metadata": {},
   "source": [
    "# Subset germcells"
   ]
  },
  {
   "cell_type": "code",
   "execution_count": null,
   "id": "b0c655c7",
   "metadata": {},
   "outputs": [],
   "source": [
    "germcells = adata_hvg[adata_hvg.obs['leiden'].isin(['0', '2', '3', '4', '6', '7'])].copy()\n",
    "germcells\n",
    "\n"
   ]
  },
  {
   "cell_type": "code",
   "execution_count": null,
   "id": "3cd63a0c",
   "metadata": {},
   "outputs": [],
   "source": [
    "germcells.write_h5ad('germcells.h5ad')"
   ]
  },
  {
   "cell_type": "code",
   "execution_count": null,
   "id": "ae6600b3",
   "metadata": {},
   "outputs": [],
   "source": [
    "germcells.obs"
   ]
  },
  {
   "cell_type": "code",
   "execution_count": null,
   "id": "b1575dbd",
   "metadata": {},
   "outputs": [],
   "source": []
  },
  {
   "cell_type": "code",
   "execution_count": null,
   "id": "80ddc6d7",
   "metadata": {},
   "outputs": [],
   "source": []
  },
  {
   "cell_type": "code",
   "execution_count": null,
   "id": "5794add7",
   "metadata": {},
   "outputs": [],
   "source": []
  },
  {
   "cell_type": "code",
   "execution_count": null,
   "id": "b76e2847",
   "metadata": {},
   "outputs": [],
   "source": []
  },
  {
   "cell_type": "code",
   "execution_count": null,
   "id": "6618023c",
   "metadata": {},
   "outputs": [],
   "source": []
  },
  {
   "cell_type": "code",
   "execution_count": null,
   "id": "383e7223",
   "metadata": {},
   "outputs": [],
   "source": []
  },
  {
   "cell_type": "markdown",
   "id": "acbdca29",
   "metadata": {},
   "source": [
    "# Subset spermatocytes"
   ]
  },
  {
   "cell_type": "code",
   "execution_count": null,
   "id": "59ee6a32",
   "metadata": {},
   "outputs": [],
   "source": [
    "spermatocytes = adata_hvg[adata_hvg.obs['leiden'].isin(['3', '7'])]"
   ]
  },
  {
   "cell_type": "code",
   "execution_count": null,
   "id": "aa73f786",
   "metadata": {},
   "outputs": [],
   "source": [
    "spermatocytes.obs"
   ]
  },
  {
   "cell_type": "code",
   "execution_count": null,
   "id": "76d337ea",
   "metadata": {},
   "outputs": [],
   "source": []
  },
  {
   "cell_type": "markdown",
   "id": "5aff61ea",
   "metadata": {},
   "source": [
    "# Analysis "
   ]
  },
  {
   "cell_type": "code",
   "execution_count": null,
   "id": "ec7e1471",
   "metadata": {},
   "outputs": [],
   "source": [
    "def intersection(lst1, lst2):\n",
    "    lst3 = [value for value in lst1 if value in lst2]\n",
    "    return lst3"
   ]
  },
  {
   "cell_type": "code",
   "execution_count": null,
   "id": "8cbd360b",
   "metadata": {},
   "outputs": [],
   "source": [
    "def map_condition(x):\n",
    "    if \"Donor\" in x:\n",
    "        return \"Normal\"\n",
    "    elif \"Normal\" in x:\n",
    "        return \"Normal\"\n",
    "    elif \"Crypto\" in x:\n",
    "        return \"Cryptozoospermia\"\n",
    "    elif \"iNOA\" in x:\n",
    "        return \"Non-obstructive_azoospermia\"\n",
    "    else:\n",
    "        return \"obstructive_azoospermia\""
   ]
  },
  {
   "cell_type": "code",
   "execution_count": null,
   "id": "71824a90",
   "metadata": {},
   "outputs": [],
   "source": [
    "adata_hvg.obs['condition'] = adata_hvg.obs.samples.map(map_condition)\n",
    "adata_hvg.obs"
   ]
  },
  {
   "cell_type": "code",
   "execution_count": null,
   "id": "9104694d",
   "metadata": {},
   "outputs": [],
   "source": [
    "num_tot_cells = adata_hvg.obs.groupby(['samples']).count()\n",
    "num_tot_cells = dict(zip(num_tot_cells.index, num_tot_cells.percent_TE))\n",
    "\n",
    "num_tot_cells"
   ]
  },
  {
   "cell_type": "code",
   "execution_count": null,
   "id": "38279309",
   "metadata": {},
   "outputs": [],
   "source": [
    "cell_type_counts = adata_hvg.obs.groupby(['samples','condition', 'clusters']).count()\n",
    "cell_type_counts = cell_type_counts[cell_type_counts.sum(axis =1) > 0].reset_index()\n",
    "cell_type_counts = cell_type_counts[cell_type_counts.columns[0:4]]\n",
    "cell_type_counts = cell_type_counts.rename(columns = {'percent_TE':'cell_count'})\n",
    "\n",
    "# cell_type_counts.to_csv('germcell_count.csv')\n",
    "\n",
    "cell_type_counts"
   ]
  },
  {
   "cell_type": "code",
   "execution_count": null,
   "id": "6edbe171",
   "metadata": {},
   "outputs": [],
   "source": [
    "cell_type_counts['total_cells'] = cell_type_counts.samples.map(num_tot_cells).astype(int)\n",
    "\n",
    "cell_type_counts['frequency'] = cell_type_counts.cell_count/ cell_type_counts.total_cells\n",
    "\n",
    "cell_type_counts"
   ]
  },
  {
   "cell_type": "code",
   "execution_count": null,
   "id": "b0042d3c",
   "metadata": {},
   "outputs": [],
   "source": [
    "import matplotlib.pyplot as plt\n",
    "\n",
    "plt.figure(figsize = (15,7))\n",
    "\n",
    "ax = sns.boxplot(data = cell_type_counts, x = 'clusters', y = 'frequency', hue = 'condition')\n",
    "\n",
    "plt.xticks(rotation = 35, rotation_mode = 'anchor', ha = 'right')\n",
    "\n",
    "plt.show()\n",
    "plt.savefig('integrated_freq_plot')"
   ]
  },
  {
   "cell_type": "code",
   "execution_count": null,
   "id": "b07d4472",
   "metadata": {},
   "outputs": [],
   "source": []
  },
  {
   "cell_type": "markdown",
   "id": "9f0e74d5",
   "metadata": {},
   "source": [
    "# DGE of germcells "
   ]
  },
  {
   "cell_type": "code",
   "execution_count": null,
   "id": "e2f74f2e",
   "metadata": {},
   "outputs": [],
   "source": []
  },
  {
   "cell_type": "code",
   "execution_count": null,
   "id": "510629f3",
   "metadata": {},
   "outputs": [],
   "source": [
    "germcells.obs['condition'] = germcells.obs.samples.map(map_condition)\n",
    "germcells.obs"
   ]
  },
  {
   "cell_type": "code",
   "execution_count": null,
   "id": "f6df8826",
   "metadata": {},
   "outputs": [],
   "source": [
    "sc.tl.rank_genes_groups(germcells,pts=True,groupby='condition',n_genes=100,method='wilcoxon',corr_method='bonferroni')"
   ]
  },
  {
   "cell_type": "code",
   "execution_count": null,
   "id": "4d44de81",
   "metadata": {},
   "outputs": [],
   "source": [
    "sc.tl.dendrogram(germcells,groupby=\"condition\")"
   ]
  },
  {
   "cell_type": "code",
   "execution_count": null,
   "id": "76d1fe1c",
   "metadata": {},
   "outputs": [],
   "source": [
    "TE_of_interest = intersection(te_list, adata_hvg.var.index)\n",
    "TE_of_interest"
   ]
  },
  {
   "cell_type": "code",
   "execution_count": null,
   "id": "24fad5c3",
   "metadata": {},
   "outputs": [],
   "source": [
    "#Alu expression by condition in gremcells\n",
    "sc.pl.dotplot(germcells, TE_of_interest, groupby='condition', dendrogram=True)\n",
    "plt.savefig('germcell-alu-dotplot.png')"
   ]
  },
  {
   "cell_type": "code",
   "execution_count": null,
   "id": "9352061e",
   "metadata": {},
   "outputs": [],
   "source": []
  },
  {
   "cell_type": "code",
   "execution_count": null,
   "id": "98df4c7a",
   "metadata": {},
   "outputs": [],
   "source": []
  },
  {
   "cell_type": "markdown",
   "id": "3054643e",
   "metadata": {},
   "source": [
    "### DGE of spermatocytes by condition"
   ]
  },
  {
   "cell_type": "code",
   "execution_count": null,
   "id": "7915384b",
   "metadata": {},
   "outputs": [],
   "source": [
    "sc.tl.rank_genes_groups(spermatocytes,pts=True,groupby='condition',n_genes=100,method='wilcoxon',corr_method='bonferroni')"
   ]
  },
  {
   "cell_type": "code",
   "execution_count": null,
   "id": "34c857d7",
   "metadata": {},
   "outputs": [],
   "source": [
    "sc.tl.dendrogram(spermatocytes,groupby=\"condition\")"
   ]
  },
  {
   "cell_type": "code",
   "execution_count": null,
   "id": "bbe95736",
   "metadata": {},
   "outputs": [],
   "source": [
    "spermatocytes.obs['condition'] = spermatocytes.obs.samples.map(map_condition)\n",
    "spermatocytes.obs"
   ]
  },
  {
   "cell_type": "code",
   "execution_count": null,
   "id": "3e2f85b4",
   "metadata": {},
   "outputs": [],
   "source": [
    "#Alu expression by condition in spermatocytes\n",
    "sc.pl.dotplot(germcells, TE_of_interest, groupby='condition', dendrogram=True)\n",
    "plt.savefig('spermatocytes-alu-dotplot.png')"
   ]
  },
  {
   "cell_type": "code",
   "execution_count": null,
   "id": "3b95b0e3",
   "metadata": {},
   "outputs": [],
   "source": []
  },
  {
   "cell_type": "code",
   "execution_count": null,
   "id": "24f98082",
   "metadata": {},
   "outputs": [],
   "source": []
  },
  {
   "cell_type": "code",
   "execution_count": null,
   "id": "7c442c65",
   "metadata": {},
   "outputs": [],
   "source": []
  },
  {
   "cell_type": "markdown",
   "id": "cd6a050e",
   "metadata": {},
   "source": [
    "# Pseudobulking"
   ]
  },
  {
   "cell_type": "code",
   "execution_count": null,
   "id": "1385ec40",
   "metadata": {},
   "outputs": [],
   "source": [
    "#initialize\n",
    "adpb_sum  = ADPBulk(adata, [\"leiden\", \"samples\"], \"sum\")\n",
    "adpb_mean = ADPBulk(adata, [\"leiden\", \"samples\"], \"mean\")\n",
    "\n",
    "# perform the pseudobulking\n",
    "pseudobulk_matrix_sum  = adpb_sum.fit_transform()\n",
    "pseudobulk_matrix_mean = adpb_mean.fit_transform()\n",
    "\n",
    "# retrieve the sample meta data (useful for easy incorporation with edgeR)\n",
    "sample_meta_sum  = adpb_sum.get_meta()\n",
    "sample_meta_mean = adpb_mean.get_meta()\n",
    "\n"
   ]
  },
  {
   "cell_type": "code",
   "execution_count": null,
   "id": "ee0eca18",
   "metadata": {},
   "outputs": [],
   "source": [
    "pseudobulk_matrix_sum"
   ]
  },
  {
   "cell_type": "code",
   "execution_count": null,
   "id": "68219a1b",
   "metadata": {},
   "outputs": [],
   "source": [
    "pseudobulk_matrix_mean"
   ]
  },
  {
   "cell_type": "code",
   "execution_count": null,
   "id": "54590e23",
   "metadata": {},
   "outputs": [],
   "source": [
    "pseudobulk_matrix = pseudobulk_matrix_mean.to_csv(\"integrated_pseudobulk_matrix.csv\")"
   ]
  },
  {
   "cell_type": "code",
   "execution_count": null,
   "id": "c1c485df",
   "metadata": {},
   "outputs": [],
   "source": [
    "sample_meta_summ"
   ]
  },
  {
   "cell_type": "markdown",
   "id": "2b3606a5",
   "metadata": {},
   "source": [
    "# WCGNA"
   ]
  },
  {
   "cell_type": "code",
   "execution_count": null,
   "id": "46d0c4a9",
   "metadata": {},
   "outputs": [],
   "source": []
  }
 ],
 "metadata": {
  "kernelspec": {
   "display_name": "Python 3",
   "language": "python",
   "name": "python3"
  },
  "language_info": {
   "codemirror_mode": {
    "name": "ipython",
    "version": 3
   },
   "file_extension": ".py",
   "mimetype": "text/x-python",
   "name": "python",
   "nbconvert_exporter": "python",
   "pygments_lexer": "ipython3",
   "version": "3.10.4"
  }
 },
 "nbformat": 4,
 "nbformat_minor": 5
}
