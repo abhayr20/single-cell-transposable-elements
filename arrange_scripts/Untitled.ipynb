{
 "cells": [
  {
   "cell_type": "code",
   "execution_count": 1,
   "id": "d74da9fc",
   "metadata": {},
   "outputs": [],
   "source": [
    "import numpy as np\n",
    "import pandas as pd\n",
    "import scanpy as sc\n",
    "import scrublet as scr\n",
    "import scipy.io\n",
    "import matplotlib.pyplot as plt\n",
    "import os\n",
    "import scvelo as scv\n",
    "import harmonypy as hm\n",
    "from matplotlib.pyplot import rc_context\n",
    "import re"
   ]
  },
  {
   "cell_type": "code",
   "execution_count": 2,
   "id": "4f8a8fc8",
   "metadata": {},
   "outputs": [],
   "source": [
    "sc.settings.set_figure_params(dpi=150,fontsize=8) #change global figure resolution\n"
   ]
  },
  {
   "cell_type": "code",
   "execution_count": 3,
   "id": "9ed92ad1",
   "metadata": {},
   "outputs": [],
   "source": [
    "datapath = r\"/nfs_master/prakrithi/abhay/testis_scripts/\" # make sure to put the 'r' in front"
   ]
  },
  {
   "cell_type": "code",
   "execution_count": 4,
   "id": "633444b9",
   "metadata": {},
   "outputs": [],
   "source": [
    "# Data has been already concatenated, preprossed (doublet_removed, mito etc) and intergrated using Harmony\n",
    "adata_hvg = sc.read_h5ad(datapath+'integrated_data.h5ad')"
   ]
  },
  {
   "cell_type": "code",
   "execution_count": 8,
   "id": "6d2350ca",
   "metadata": {},
   "outputs": [
    {
     "data": {
      "text/html": [
       "<div>\n",
       "<style scoped>\n",
       "    .dataframe tbody tr th:only-of-type {\n",
       "        vertical-align: middle;\n",
       "    }\n",
       "\n",
       "    .dataframe tbody tr th {\n",
       "        vertical-align: top;\n",
       "    }\n",
       "\n",
       "    .dataframe thead th {\n",
       "        text-align: right;\n",
       "    }\n",
       "</style>\n",
       "<table border=\"1\" class=\"dataframe\">\n",
       "  <thead>\n",
       "    <tr style=\"text-align: right;\">\n",
       "      <th></th>\n",
       "      <th>n_cells</th>\n",
       "      <th>n_cells_by_counts</th>\n",
       "      <th>mean_counts</th>\n",
       "      <th>pct_dropout_by_counts</th>\n",
       "      <th>total_counts</th>\n",
       "    </tr>\n",
       "  </thead>\n",
       "  <tbody>\n",
       "    <tr>\n",
       "      <th>(CATTC)n</th>\n",
       "      <td>2901</td>\n",
       "      <td>2901</td>\n",
       "      <td>0.154761</td>\n",
       "      <td>96.295398</td>\n",
       "      <td>12119.0</td>\n",
       "    </tr>\n",
       "    <tr>\n",
       "      <th>(GAATG)n</th>\n",
       "      <td>2050</td>\n",
       "      <td>2050</td>\n",
       "      <td>0.048437</td>\n",
       "      <td>97.382132</td>\n",
       "      <td>3793.0</td>\n",
       "    </tr>\n",
       "    <tr>\n",
       "      <th>A1BG</th>\n",
       "      <td>2001</td>\n",
       "      <td>2001</td>\n",
       "      <td>0.029065</td>\n",
       "      <td>97.444706</td>\n",
       "      <td>2276.0</td>\n",
       "    </tr>\n",
       "    <tr>\n",
       "      <th>A1BG-AS1</th>\n",
       "      <td>473</td>\n",
       "      <td>473</td>\n",
       "      <td>0.006296</td>\n",
       "      <td>99.395975</td>\n",
       "      <td>493.0</td>\n",
       "    </tr>\n",
       "    <tr>\n",
       "      <th>A1CF</th>\n",
       "      <td>119</td>\n",
       "      <td>119</td>\n",
       "      <td>0.001698</td>\n",
       "      <td>99.848036</td>\n",
       "      <td>133.0</td>\n",
       "    </tr>\n",
       "    <tr>\n",
       "      <th>...</th>\n",
       "      <td>...</td>\n",
       "      <td>...</td>\n",
       "      <td>...</td>\n",
       "      <td>...</td>\n",
       "      <td>...</td>\n",
       "    </tr>\n",
       "    <tr>\n",
       "      <th>Zaphod</th>\n",
       "      <td>19765</td>\n",
       "      <td>19765</td>\n",
       "      <td>0.461983</td>\n",
       "      <td>74.759922</td>\n",
       "      <td>36177.0</td>\n",
       "    </tr>\n",
       "    <tr>\n",
       "      <th>Zaphod2</th>\n",
       "      <td>7624</td>\n",
       "      <td>7624</td>\n",
       "      <td>0.126794</td>\n",
       "      <td>90.264085</td>\n",
       "      <td>9929.0</td>\n",
       "    </tr>\n",
       "    <tr>\n",
       "      <th>Zaphod3</th>\n",
       "      <td>11919</td>\n",
       "      <td>11919</td>\n",
       "      <td>0.212111</td>\n",
       "      <td>84.779333</td>\n",
       "      <td>16610.0</td>\n",
       "    </tr>\n",
       "    <tr>\n",
       "      <th>hAT-16_Crp</th>\n",
       "      <td>32</td>\n",
       "      <td>32</td>\n",
       "      <td>0.000409</td>\n",
       "      <td>99.959136</td>\n",
       "      <td>32.0</td>\n",
       "    </tr>\n",
       "    <tr>\n",
       "      <th>hAT-N1_Mam</th>\n",
       "      <td>6653</td>\n",
       "      <td>6653</td>\n",
       "      <td>0.103182</td>\n",
       "      <td>91.504061</td>\n",
       "      <td>8080.0</td>\n",
       "    </tr>\n",
       "  </tbody>\n",
       "</table>\n",
       "<p>45081 rows × 5 columns</p>\n",
       "</div>"
      ],
      "text/plain": [
       "            n_cells  n_cells_by_counts  mean_counts  pct_dropout_by_counts  \\\n",
       "(CATTC)n       2901               2901     0.154761              96.295398   \n",
       "(GAATG)n       2050               2050     0.048437              97.382132   \n",
       "A1BG           2001               2001     0.029065              97.444706   \n",
       "A1BG-AS1        473                473     0.006296              99.395975   \n",
       "A1CF            119                119     0.001698              99.848036   \n",
       "...             ...                ...          ...                    ...   \n",
       "Zaphod        19765              19765     0.461983              74.759922   \n",
       "Zaphod2        7624               7624     0.126794              90.264085   \n",
       "Zaphod3       11919              11919     0.212111              84.779333   \n",
       "hAT-16_Crp       32                 32     0.000409              99.959136   \n",
       "hAT-N1_Mam     6653               6653     0.103182              91.504061   \n",
       "\n",
       "            total_counts  \n",
       "(CATTC)n         12119.0  \n",
       "(GAATG)n          3793.0  \n",
       "A1BG              2276.0  \n",
       "A1BG-AS1           493.0  \n",
       "A1CF               133.0  \n",
       "...                  ...  \n",
       "Zaphod           36177.0  \n",
       "Zaphod2           9929.0  \n",
       "Zaphod3          16610.0  \n",
       "hAT-16_Crp          32.0  \n",
       "hAT-N1_Mam        8080.0  \n",
       "\n",
       "[45081 rows x 5 columns]"
      ]
     },
     "execution_count": 8,
     "metadata": {},
     "output_type": "execute_result"
    }
   ],
   "source": [
    "adata_hvg.var"
   ]
  },
  {
   "cell_type": "markdown",
   "id": "f91afac7",
   "metadata": {},
   "source": [
    "## Normalization"
   ]
  },
  {
   "cell_type": "code",
   "execution_count": 11,
   "id": "a5a231a7",
   "metadata": {},
   "outputs": [],
   "source": [
    "sc.pp.normalize_total(adata_hvg, target_sum=1e4)"
   ]
  },
  {
   "cell_type": "code",
   "execution_count": 13,
   "id": "281e4823",
   "metadata": {
    "scrolled": true
   },
   "outputs": [],
   "source": [
    "sc.pp.log1p(adata_hvg)"
   ]
  },
  {
   "cell_type": "code",
   "execution_count": 14,
   "id": "74675a25",
   "metadata": {},
   "outputs": [],
   "source": [
    "adata_hvg.raw=adata_hvg"
   ]
  },
  {
   "cell_type": "markdown",
   "id": "8638027f",
   "metadata": {},
   "source": [
    "## Calculate highly variable genes"
   ]
  },
  {
   "cell_type": "code",
   "execution_count": 15,
   "id": "274062cb",
   "metadata": {},
   "outputs": [],
   "source": [
    "sc.pp.highly_variable_genes(adata_hvg,n_top_genes=3000)"
   ]
  },
  {
   "cell_type": "code",
   "execution_count": 16,
   "id": "ad0a7939",
   "metadata": {},
   "outputs": [],
   "source": [
    "adata_hvg = adata_hvg[:, adata_hvg.var['highly_variable']].copy()"
   ]
  },
  {
   "cell_type": "code",
   "execution_count": 17,
   "id": "3f26e1da",
   "metadata": {},
   "outputs": [],
   "source": [
    "sc.tl.pca(adata_hvg, svd_solver='arpack', n_comps=40)"
   ]
  },
  {
   "cell_type": "code",
   "execution_count": 18,
   "id": "fbb246d8",
   "metadata": {},
   "outputs": [],
   "source": [
    "sc.pl.pca_variance_ratio(adata_hvg, log=False)"
   ]
  },
  {
   "cell_type": "code",
   "execution_count": 20,
   "id": "d54c7492",
   "metadata": {},
   "outputs": [
    {
     "data": {
      "text/plain": [
       "AxisArrays with keys: X_pca"
      ]
     },
     "execution_count": 20,
     "metadata": {},
     "output_type": "execute_result"
    }
   ],
   "source": [
    "adata_hvg.obsm"
   ]
  },
  {
   "cell_type": "code",
   "execution_count": 21,
   "id": "86cee550",
   "metadata": {},
   "outputs": [
    {
     "ename": "NameError",
     "evalue": "name 'print_dim' is not defined",
     "output_type": "error",
     "traceback": [
      "\u001b[0;31m---------------------------------------------------------------------------\u001b[0m",
      "\u001b[0;31mNameError\u001b[0m                                 Traceback (most recent call last)",
      "\u001b[0;32m/tmp/ipykernel_148659/1144553106.py\u001b[0m in \u001b[0;36m<module>\u001b[0;34m\u001b[0m\n\u001b[0;32m----> 1\u001b[0;31m \u001b[0mprint_dim\u001b[0m\u001b[0;34m(\u001b[0m\u001b[0madata_hvg\u001b[0m\u001b[0;34m)\u001b[0m\u001b[0;34m\u001b[0m\u001b[0m\n\u001b[0m",
      "\u001b[0;31mNameError\u001b[0m: name 'print_dim' is not defined"
     ]
    }
   ],
   "source": [
    "print_dim(adata_hvg)"
   ]
  },
  {
   "cell_type": "code",
   "execution_count": null,
   "id": "414ab139",
   "metadata": {},
   "outputs": [],
   "source": []
  }
 ],
 "metadata": {
  "kernelspec": {
   "display_name": "Python 3",
   "language": "python",
   "name": "python3"
  },
  "language_info": {
   "codemirror_mode": {
    "name": "ipython",
    "version": 3
   },
   "file_extension": ".py",
   "mimetype": "text/x-python",
   "name": "python",
   "nbconvert_exporter": "python",
   "pygments_lexer": "ipython3",
   "version": "3.7.0"
  }
 },
 "nbformat": 4,
 "nbformat_minor": 5
}
