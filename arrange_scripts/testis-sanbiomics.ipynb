{
 "cells": [
  {
   "cell_type": "code",
   "execution_count": 1,
   "id": "b422536b",
   "metadata": {},
   "outputs": [
    {
     "name": "stderr",
     "output_type": "stream",
     "text": [
      "Global seed set to 0\n"
     ]
    }
   ],
   "source": [
    "import numpy as np\n",
    "import pandas as pd\n",
    "import scanpy as sc\n",
    "import scrublet as scr\n",
    "import seaborn as sns\n",
    "import scipy.io\n",
    "import matplotlib.pyplot as plt\n",
    "import os\n",
    "import scvelo as scv\n",
    "import harmonypy as hm\n",
    "from matplotlib.pyplot import rc_context\n",
    "import re\n",
    "import scvi"
   ]
  },
  {
   "cell_type": "code",
   "execution_count": 2,
   "id": "fbdb85cc",
   "metadata": {},
   "outputs": [],
   "source": [
    "datapath = r\"/nfs_master/prakrithi/abhay/testis_allfiles/\" # make sure to put the 'r' in front"
   ]
  },
  {
   "cell_type": "code",
   "execution_count": 3,
   "id": "323c48d8",
   "metadata": {},
   "outputs": [],
   "source": [
    "results_dir = '/nfs_master/prakrithi/abhay/testis_scripts/results_Nov25/script1_preprocessing/'"
   ]
  },
  {
   "cell_type": "code",
   "execution_count": null,
   "id": "41a2b909",
   "metadata": {},
   "outputs": [],
   "source": [
    "adata = sc.read_h5ad(datapath+'GSE112013_SRR6860519_Donor1_rep1.h5ad')"
   ]
  },
  {
   "cell_type": "code",
   "execution_count": null,
   "id": "d6194681",
   "metadata": {},
   "outputs": [],
   "source": [
    "adata"
   ]
  },
  {
   "cell_type": "markdown",
   "id": "fffbbaa6",
   "metadata": {},
   "source": [
    "# Doublet Removal"
   ]
  },
  {
   "cell_type": "code",
   "execution_count": null,
   "id": "10cd9a4f",
   "metadata": {},
   "outputs": [],
   "source": [
    "sc.pp.filter_genes(adata, min_cells = 10)"
   ]
  },
  {
   "cell_type": "code",
   "execution_count": null,
   "id": "e3734077",
   "metadata": {},
   "outputs": [],
   "source": [
    "sc.pp.highly_variable_genes(adata, n_top_genes = 2000, subset = True, flavor = 'seurat_v3')"
   ]
  },
  {
   "cell_type": "markdown",
   "id": "e92e97b1",
   "metadata": {},
   "source": [
    "#### Predicting doublets using scvi model"
   ]
  },
  {
   "cell_type": "code",
   "execution_count": null,
   "id": "f2dccd30",
   "metadata": {},
   "outputs": [],
   "source": [
    "scvi.model.SCVI.setup_anndata(adata)\n",
    "vae = scvi.model.SCVI(adata)\n",
    "vae.train()"
   ]
  },
  {
   "cell_type": "markdown",
   "id": "d3bff107",
   "metadata": {},
   "source": [
    "#### Predicting doublets using solo model"
   ]
  },
  {
   "cell_type": "code",
   "execution_count": null,
   "id": "3f0d066b",
   "metadata": {},
   "outputs": [],
   "source": [
    "solo = scvi.external.SOLO.from_scvi_model(vae)\n",
    "solo.train()"
   ]
  },
  {
   "cell_type": "code",
   "execution_count": null,
   "id": "f3546f4f",
   "metadata": {},
   "outputs": [],
   "source": [
    "df = solo.predict()\n",
    "df['prediction'] = solo.predict(soft = False)\n",
    "\n",
    "#removes the -0 \n",
    "df.index = df.index.map(lambda x: x[:-2])\n",
    "df"
   ]
  },
  {
   "cell_type": "code",
   "execution_count": null,
   "id": "29a3899c",
   "metadata": {},
   "outputs": [],
   "source": [
    "df.groupby('prediction').count()"
   ]
  },
  {
   "cell_type": "code",
   "execution_count": null,
   "id": "b2944836",
   "metadata": {},
   "outputs": [],
   "source": [
    "df['dif'] = df.doublet - df.singlet\n",
    "df"
   ]
  },
  {
   "cell_type": "code",
   "execution_count": null,
   "id": "df0814c7",
   "metadata": {},
   "outputs": [],
   "source": [
    "sns.displot(df[df.prediction == 'doublet'], x = 'dif')\n",
    "plt.show(sns)"
   ]
  },
  {
   "cell_type": "code",
   "execution_count": null,
   "id": "23910e04",
   "metadata": {},
   "outputs": [],
   "source": [
    "doublets = df[(df.prediction == 'doublet') & (df.dif > 1)]\n",
    "doublets"
   ]
  },
  {
   "cell_type": "code",
   "execution_count": null,
   "id": "0dc13ac3",
   "metadata": {},
   "outputs": [],
   "source": [
    "adata = sc.read_h5ad(datapath+'GSE112013_SRR6860519_Donor1_rep1.h5ad')\n"
   ]
  },
  {
   "cell_type": "code",
   "execution_count": null,
   "id": "2d6d1a88",
   "metadata": {},
   "outputs": [],
   "source": [
    "adata.obs['doublet'] = adata.obs.index.isin(doublets.index)"
   ]
  },
  {
   "cell_type": "code",
   "execution_count": null,
   "id": "caa490d2",
   "metadata": {},
   "outputs": [],
   "source": [
    "adata = adata[~adata.obs.doublet]"
   ]
  },
  {
   "cell_type": "code",
   "execution_count": null,
   "id": "1f5c4e80",
   "metadata": {},
   "outputs": [],
   "source": [
    "adata"
   ]
  },
  {
   "cell_type": "markdown",
   "id": "adae9c22",
   "metadata": {},
   "source": [
    "# Preprocessing"
   ]
  },
  {
   "cell_type": "code",
   "execution_count": null,
   "id": "1903f958",
   "metadata": {},
   "outputs": [],
   "source": [
    "adata.var['mt'] = adata.var.index.str.startswith('MT-')"
   ]
  },
  {
   "cell_type": "code",
   "execution_count": null,
   "id": "5ad7728c",
   "metadata": {},
   "outputs": [],
   "source": [
    "adata.var"
   ]
  },
  {
   "cell_type": "code",
   "execution_count": 46,
   "id": "a38d572d",
   "metadata": {},
   "outputs": [],
   "source": [
    "#list of ribosomal genes from Broad Institute\n",
    "ribo_url = \"http://software.broadinstitute.org/gsea/msigdb/download_geneset.jsp?geneSetName=KEGG_RIBOSOME&fileType=txt\""
   ]
  },
  {
   "cell_type": "code",
   "execution_count": 47,
   "id": "64a73bef",
   "metadata": {},
   "outputs": [
    {
     "data": {
      "text/html": [
       "<div>\n",
       "<style scoped>\n",
       "    .dataframe tbody tr th:only-of-type {\n",
       "        vertical-align: middle;\n",
       "    }\n",
       "\n",
       "    .dataframe tbody tr th {\n",
       "        vertical-align: top;\n",
       "    }\n",
       "\n",
       "    .dataframe thead th {\n",
       "        text-align: right;\n",
       "    }\n",
       "</style>\n",
       "<table border=\"1\" class=\"dataframe\">\n",
       "  <thead>\n",
       "    <tr style=\"text-align: right;\">\n",
       "      <th></th>\n",
       "      <th>0</th>\n",
       "    </tr>\n",
       "  </thead>\n",
       "  <tbody>\n",
       "    <tr>\n",
       "      <th>0</th>\n",
       "      <td>FAU</td>\n",
       "    </tr>\n",
       "    <tr>\n",
       "      <th>1</th>\n",
       "      <td>MRPL13</td>\n",
       "    </tr>\n",
       "    <tr>\n",
       "      <th>2</th>\n",
       "      <td>RPL10</td>\n",
       "    </tr>\n",
       "    <tr>\n",
       "      <th>3</th>\n",
       "      <td>RPL10A</td>\n",
       "    </tr>\n",
       "    <tr>\n",
       "      <th>4</th>\n",
       "      <td>RPL10L</td>\n",
       "    </tr>\n",
       "    <tr>\n",
       "      <th>...</th>\n",
       "      <td>...</td>\n",
       "    </tr>\n",
       "    <tr>\n",
       "      <th>83</th>\n",
       "      <td>RPS9</td>\n",
       "    </tr>\n",
       "    <tr>\n",
       "      <th>84</th>\n",
       "      <td>RPSA</td>\n",
       "    </tr>\n",
       "    <tr>\n",
       "      <th>85</th>\n",
       "      <td>RSL24D1</td>\n",
       "    </tr>\n",
       "    <tr>\n",
       "      <th>86</th>\n",
       "      <td>RSL24D1P11</td>\n",
       "    </tr>\n",
       "    <tr>\n",
       "      <th>87</th>\n",
       "      <td>UBA52</td>\n",
       "    </tr>\n",
       "  </tbody>\n",
       "</table>\n",
       "<p>88 rows × 1 columns</p>\n",
       "</div>"
      ],
      "text/plain": [
       "             0\n",
       "0          FAU\n",
       "1       MRPL13\n",
       "2        RPL10\n",
       "3       RPL10A\n",
       "4       RPL10L\n",
       "..         ...\n",
       "83        RPS9\n",
       "84        RPSA\n",
       "85     RSL24D1\n",
       "86  RSL24D1P11\n",
       "87       UBA52\n",
       "\n",
       "[88 rows x 1 columns]"
      ]
     },
     "execution_count": 47,
     "metadata": {},
     "output_type": "execute_result"
    }
   ],
   "source": [
    "ribo_genes = pd.read_table(ribo_url, skiprows=2, header = None)\n",
    "ribo_genes\n"
   ]
  },
  {
   "cell_type": "code",
   "execution_count": null,
   "id": "db3e47d2",
   "metadata": {},
   "outputs": [],
   "source": [
    "adata.var['ribo'] = adata.var_names.isin(ribo_genes[0].values)"
   ]
  },
  {
   "cell_type": "code",
   "execution_count": null,
   "id": "dc5e85b8",
   "metadata": {},
   "outputs": [],
   "source": [
    "sc.pp.calculate_qc_metrics(adata, qc_vars=['mt', 'ribo'], percent_top=None, log1p=False, inplace=True)"
   ]
  },
  {
   "cell_type": "code",
   "execution_count": null,
   "id": "cd288c79",
   "metadata": {},
   "outputs": [],
   "source": [
    "# Shows how many cells each gene was found in.\n",
    "sc.pp.filter_genes(adata, min_cells=3)\n",
    "adata.var.sort_values('n_cells_by_counts')\n"
   ]
  },
  {
   "cell_type": "code",
   "execution_count": null,
   "id": "f1396490",
   "metadata": {},
   "outputs": [],
   "source": [
    "# Shows how many genes each cell expresses\n",
    "sc.pp.filter_cells(adata, min_genes = 200)\n",
    "adata.obs.sort_values('n_genes_by_counts')\n"
   ]
  },
  {
   "cell_type": "code",
   "execution_count": null,
   "id": "21278286",
   "metadata": {},
   "outputs": [],
   "source": [
    "adata.obs.sort_values('pct_counts_mt')"
   ]
  },
  {
   "cell_type": "code",
   "execution_count": null,
   "id": "8c164cdd",
   "metadata": {},
   "outputs": [],
   "source": [
    "sc.pl.violin(adata, ['n_genes_by_counts', 'total_counts', 'pct_counts_mt', 'pct_counts_ribo'], \n",
    "             jitter=0.4, multi_panel=True)"
   ]
  },
  {
   "cell_type": "code",
   "execution_count": null,
   "id": "c74907a1",
   "metadata": {},
   "outputs": [],
   "source": [
    "upper_lim = np.quantile(adata.obs.n_genes_by_counts.values, .98)\n",
    "upper_lim"
   ]
  },
  {
   "cell_type": "code",
   "execution_count": null,
   "id": "4b9e2c5c",
   "metadata": {},
   "outputs": [],
   "source": [
    "adata = adata[adata.obs.n_genes_by_counts < upper_lim]\n",
    "adata.obs"
   ]
  },
  {
   "cell_type": "code",
   "execution_count": null,
   "id": "c7995122",
   "metadata": {},
   "outputs": [],
   "source": [
    "adata = adata[adata.obs.pct_counts_mt < 20]\n",
    "adata"
   ]
  },
  {
   "cell_type": "code",
   "execution_count": null,
   "id": "8cf938dc",
   "metadata": {},
   "outputs": [],
   "source": [
    "#adata = adata[adata.obs.pct_counts_ribo < 2]"
   ]
  },
  {
   "cell_type": "code",
   "execution_count": null,
   "id": "b5d2de7c",
   "metadata": {},
   "outputs": [],
   "source": [
    "adata"
   ]
  },
  {
   "cell_type": "code",
   "execution_count": null,
   "id": "f8350f2d",
   "metadata": {},
   "outputs": [],
   "source": [
    "sc.pl.violin(adata, ['n_genes_by_counts', 'total_counts', 'pct_counts_mt', 'pct_counts_ribo'], \n",
    "             jitter=0.4, multi_panel=True)"
   ]
  },
  {
   "cell_type": "markdown",
   "id": "e6d4adcd",
   "metadata": {},
   "source": [
    "# Normalization"
   ]
  },
  {
   "cell_type": "code",
   "execution_count": null,
   "id": "f18cc7e8",
   "metadata": {},
   "outputs": [],
   "source": [
    "adata.X.sum(axis=1)"
   ]
  },
  {
   "cell_type": "code",
   "execution_count": null,
   "id": "b4a2ec25",
   "metadata": {},
   "outputs": [],
   "source": [
    "sc.pp.normalize_total(adata, target_sum=1e4) #normalize every cell to 10,000 UMI"
   ]
  },
  {
   "cell_type": "code",
   "execution_count": null,
   "id": "7ba461f2",
   "metadata": {},
   "outputs": [],
   "source": [
    "adata.X.sum(axis = 1)"
   ]
  },
  {
   "cell_type": "code",
   "execution_count": null,
   "id": "0243b7c8",
   "metadata": {},
   "outputs": [],
   "source": [
    "sc.pp.log1p(adata) #change to log counts"
   ]
  },
  {
   "cell_type": "code",
   "execution_count": null,
   "id": "72aeba69",
   "metadata": {},
   "outputs": [],
   "source": [
    "adata.X.sum(axis = 1)"
   ]
  },
  {
   "cell_type": "markdown",
   "id": "3c60205a",
   "metadata": {},
   "source": [
    "#### Freeze the data as it is now "
   ]
  },
  {
   "cell_type": "code",
   "execution_count": null,
   "id": "a5bbbbf2",
   "metadata": {},
   "outputs": [],
   "source": [
    "adata.raw = adata"
   ]
  },
  {
   "cell_type": "markdown",
   "id": "0fdc3bf5",
   "metadata": {},
   "source": [
    "# Clustering"
   ]
  },
  {
   "cell_type": "code",
   "execution_count": null,
   "id": "3e0e90cf",
   "metadata": {},
   "outputs": [],
   "source": [
    "sc.pp.highly_variable_genes(adata, n_top_genes = 2000)"
   ]
  },
  {
   "cell_type": "code",
   "execution_count": null,
   "id": "86f6f33c",
   "metadata": {},
   "outputs": [],
   "source": [
    "adata.var"
   ]
  },
  {
   "cell_type": "code",
   "execution_count": null,
   "id": "85a0d40f",
   "metadata": {},
   "outputs": [],
   "source": [
    "sc.pl.highly_variable_genes(adata)"
   ]
  },
  {
   "cell_type": "code",
   "execution_count": null,
   "id": "9d00a0bf",
   "metadata": {},
   "outputs": [],
   "source": [
    "adata = adata[:, adata.var.highly_variable]"
   ]
  },
  {
   "cell_type": "code",
   "execution_count": null,
   "id": "2aea63be",
   "metadata": {},
   "outputs": [],
   "source": [
    "sc.pp.regress_out(adata, ['total_counts', 'pct_counts_mt', 'pct_counts_ribo'])"
   ]
  },
  {
   "cell_type": "code",
   "execution_count": null,
   "id": "544279a0",
   "metadata": {},
   "outputs": [],
   "source": [
    "# Normalize each gene to it's unit variance\n",
    "sc.pp.scale(adata, max_value=10)"
   ]
  },
  {
   "cell_type": "code",
   "execution_count": null,
   "id": "c1f4d505",
   "metadata": {},
   "outputs": [],
   "source": [
    "sc.tl.pca(adata, svd_solver='arpack')"
   ]
  },
  {
   "cell_type": "code",
   "execution_count": null,
   "id": "d79f5a56",
   "metadata": {},
   "outputs": [],
   "source": [
    "sc.pl.pca_variance_ratio(adata, log=True, n_pcs = 50)"
   ]
  },
  {
   "cell_type": "code",
   "execution_count": null,
   "id": "83bfcf3c",
   "metadata": {},
   "outputs": [],
   "source": [
    "sc.pp.neighbors(adata, n_pcs = 30)"
   ]
  },
  {
   "cell_type": "code",
   "execution_count": null,
   "id": "3567b000",
   "metadata": {},
   "outputs": [],
   "source": [
    "sc.tl.umap(adata)"
   ]
  },
  {
   "cell_type": "code",
   "execution_count": null,
   "id": "6e1b2952",
   "metadata": {},
   "outputs": [],
   "source": [
    "sc.pl.umap(adata)"
   ]
  },
  {
   "cell_type": "code",
   "execution_count": null,
   "id": "79ef5e17",
   "metadata": {},
   "outputs": [],
   "source": [
    "sc.tl.leiden(adata, resolution = 0.5)\n",
    "sc.pl.umap(adata, color=['leiden'])"
   ]
  },
  {
   "cell_type": "markdown",
   "id": "98fbac71",
   "metadata": {},
   "source": [
    "# Integration"
   ]
  },
  {
   "cell_type": "code",
   "execution_count": 58,
   "id": "925b5363",
   "metadata": {
    "collapsed": true
   },
   "outputs": [
    {
     "data": {
      "text/html": [
       "<div>\n",
       "<style scoped>\n",
       "    .dataframe tbody tr th:only-of-type {\n",
       "        vertical-align: middle;\n",
       "    }\n",
       "\n",
       "    .dataframe tbody tr th {\n",
       "        vertical-align: top;\n",
       "    }\n",
       "\n",
       "    .dataframe thead th {\n",
       "        text-align: right;\n",
       "    }\n",
       "</style>\n",
       "<table border=\"1\" class=\"dataframe\">\n",
       "  <thead>\n",
       "    <tr style=\"text-align: right;\">\n",
       "      <th></th>\n",
       "      <th>0</th>\n",
       "    </tr>\n",
       "  </thead>\n",
       "  <tbody>\n",
       "    <tr>\n",
       "      <th>0</th>\n",
       "      <td>FAU</td>\n",
       "    </tr>\n",
       "    <tr>\n",
       "      <th>1</th>\n",
       "      <td>MRPL13</td>\n",
       "    </tr>\n",
       "    <tr>\n",
       "      <th>2</th>\n",
       "      <td>RPL10</td>\n",
       "    </tr>\n",
       "    <tr>\n",
       "      <th>3</th>\n",
       "      <td>RPL10A</td>\n",
       "    </tr>\n",
       "    <tr>\n",
       "      <th>4</th>\n",
       "      <td>RPL10L</td>\n",
       "    </tr>\n",
       "    <tr>\n",
       "      <th>...</th>\n",
       "      <td>...</td>\n",
       "    </tr>\n",
       "    <tr>\n",
       "      <th>83</th>\n",
       "      <td>RPS9</td>\n",
       "    </tr>\n",
       "    <tr>\n",
       "      <th>84</th>\n",
       "      <td>RPSA</td>\n",
       "    </tr>\n",
       "    <tr>\n",
       "      <th>85</th>\n",
       "      <td>RSL24D1</td>\n",
       "    </tr>\n",
       "    <tr>\n",
       "      <th>86</th>\n",
       "      <td>RSL24D1P11</td>\n",
       "    </tr>\n",
       "    <tr>\n",
       "      <th>87</th>\n",
       "      <td>UBA52</td>\n",
       "    </tr>\n",
       "  </tbody>\n",
       "</table>\n",
       "<p>88 rows × 1 columns</p>\n",
       "</div>"
      ],
      "text/plain": [
       "             0\n",
       "0          FAU\n",
       "1       MRPL13\n",
       "2        RPL10\n",
       "3       RPL10A\n",
       "4       RPL10L\n",
       "..         ...\n",
       "83        RPS9\n",
       "84        RPSA\n",
       "85     RSL24D1\n",
       "86  RSL24D1P11\n",
       "87       UBA52\n",
       "\n",
       "[88 rows x 1 columns]"
      ]
     },
     "execution_count": 58,
     "metadata": {},
     "output_type": "execute_result"
    }
   ],
   "source": [
    "#list of ribosomal genes from Broad Institute\n",
    "ribo_url = \"http://software.broadinstitute.org/gsea/msigdb/download_geneset.jsp?geneSetName=KEGG_RIBOSOME&fileType=txt\"\n",
    "ribo_genes = pd.read_table(ribo_url, skiprows=2, header = None)\n",
    "ribo_genes"
   ]
  },
  {
   "cell_type": "code",
   "execution_count": 59,
   "id": "50a52c6a",
   "metadata": {},
   "outputs": [],
   "source": [
    "def pp(csv_path):\n",
    "    adata = sc.read_h5ad(csv_path)\n",
    "    sc.pp.filter_genes(adata, min_cells = 10)\n",
    "    sc.pp.highly_variable_genes(adata, n_top_genes = 2000, subset = True, flavor = 'seurat_v3')\n",
    "    scvi.model.SCVI.setup_anndata(adata)\n",
    "    vae = scvi.model.SCVI(adata)\n",
    "    vae.train()\n",
    "    solo = scvi.external.SOLO.from_scvi_model(vae)\n",
    "    solo.train()\n",
    "    df = solo.predict()\n",
    "    df['prediction'] = solo.predict(soft = False)\n",
    "    df.index = df.index.map(lambda x: x[:-2])\n",
    "    df['dif'] = df.doublet - df.singlet\n",
    "    doublets = df[(df.prediction == 'doublet') & (df.dif > 1)]\n",
    "    \n",
    "    adata = sc.read_h5ad(csv_path)\n",
    "    adata.obs['Sample'] = csv_path.split('.')[0] #'raw_counts/GSM5226574_C51ctr_raw_counts.csv'\n",
    "    \n",
    "    adata.obs['doublet'] = adata.obs.index.isin(doublets.index)\n",
    "    adata = adata[~adata.obs.doublet]\n",
    "    \n",
    "    \n",
    "    sc.pp.filter_cells(adata, min_genes=200) #get rid of cells with fewer than 200 genes\n",
    "    #sc.pp.filter_genes(adata, min_cells=3) #get rid of genes that are found in fewer than 3 cells\n",
    "    adata.var['mt'] = adata.var_names.str.startswith('mt-')  # annotate the group of mitochondrial genes as 'mt'\n",
    "    adata.var['ribo'] = adata.var_names.isin(ribo_genes[0].values)\n",
    "    sc.pp.calculate_qc_metrics(adata, qc_vars=['mt', 'ribo'], percent_top=None, log1p=False, inplace=True)\n",
    "    upper_lim = np.quantile(adata.obs.n_genes_by_counts.values, .98)\n",
    "    adata = adata[adata.obs.n_genes_by_counts < upper_lim]\n",
    "    adata = adata[adata.obs.pct_counts_mt < 20]\n",
    "    #adata = adata[adata.obs.pct_counts_ribo < 2]\n",
    "\n",
    "    return adata"
   ]
  },
  {
   "cell_type": "code",
   "execution_count": 60,
   "id": "f75b9bac",
   "metadata": {},
   "outputs": [],
   "source": [
    "datapath = r\"/nfs_master/prakrithi/abhay/testis_allfiles/\" # make sure to put the 'r' in front"
   ]
  },
  {
   "cell_type": "code",
   "execution_count": 61,
   "id": "063ad749",
   "metadata": {},
   "outputs": [],
   "source": [
    "os.chdir(datapath)"
   ]
  },
  {
   "cell_type": "code",
   "execution_count": 62,
   "id": "48b928e0",
   "metadata": {},
   "outputs": [
    {
     "name": "stderr",
     "output_type": "stream",
     "text": [
      "GPU available: True, used: True\n",
      "TPU available: False, using: 0 TPU cores\n",
      "IPU available: False, using: 0 IPUs\n",
      "HPU available: False, using: 0 HPUs\n",
      "LOCAL_RANK: 0 - CUDA_VISIBLE_DEVICES: [0,1]\n"
     ]
    },
    {
     "name": "stdout",
     "output_type": "stream",
     "text": [
      "Epoch 400/400: 100%|████████████████████████████| 400/400 [00:36<00:00, 10.98it/s, loss=528, v_num=1]\n",
      "\u001b[34mINFO    \u001b[0m Creating doublets, preparing SOLO model.                                            \n"
     ]
    },
    {
     "name": "stderr",
     "output_type": "stream",
     "text": [
      "GPU available: True, used: True\n",
      "TPU available: False, using: 0 TPU cores\n",
      "IPU available: False, using: 0 IPUs\n",
      "HPU available: False, using: 0 HPUs\n",
      "LOCAL_RANK: 0 - CUDA_VISIBLE_DEVICES: [0,1]\n"
     ]
    },
    {
     "name": "stdout",
     "output_type": "stream",
     "text": [
      "Epoch 400/400: 100%|██████████████████████████| 400/400 [00:33<00:00, 11.91it/s, loss=0.428, v_num=1]\n"
     ]
    },
    {
     "name": "stderr",
     "output_type": "stream",
     "text": [
      "GPU available: True, used: True\n",
      "TPU available: False, using: 0 TPU cores\n",
      "IPU available: False, using: 0 IPUs\n",
      "HPU available: False, using: 0 HPUs\n",
      "LOCAL_RANK: 0 - CUDA_VISIBLE_DEVICES: [0,1]\n"
     ]
    },
    {
     "name": "stdout",
     "output_type": "stream",
     "text": [
      "Epoch 400/400: 100%|████████████████████████████| 400/400 [04:19<00:00,  1.54it/s, loss=852, v_num=1]\n",
      "\u001b[34mINFO    \u001b[0m Creating doublets, preparing SOLO model.                                            \n"
     ]
    },
    {
     "name": "stderr",
     "output_type": "stream",
     "text": [
      "GPU available: True, used: True\n",
      "TPU available: False, using: 0 TPU cores\n",
      "IPU available: False, using: 0 IPUs\n",
      "HPU available: False, using: 0 HPUs\n",
      "LOCAL_RANK: 0 - CUDA_VISIBLE_DEVICES: [0,1]\n"
     ]
    },
    {
     "name": "stdout",
     "output_type": "stream",
     "text": [
      "Epoch 396/400:  99%|█████████████████████████▋| 396/400 [04:16<00:02,  1.55it/s, loss=0.244, v_num=1]\n",
      "Monitored metric validation_loss did not improve in the last 30 records. Best score: 0.213. Signaling Trainer to stop.\n"
     ]
    },
    {
     "name": "stderr",
     "output_type": "stream",
     "text": [
      "GPU available: True, used: True\n",
      "TPU available: False, using: 0 TPU cores\n",
      "IPU available: False, using: 0 IPUs\n",
      "HPU available: False, using: 0 HPUs\n",
      "LOCAL_RANK: 0 - CUDA_VISIBLE_DEVICES: [0,1]\n"
     ]
    },
    {
     "name": "stdout",
     "output_type": "stream",
     "text": [
      "Epoch 400/400: 100%|████████████████████████████| 400/400 [03:03<00:00,  2.17it/s, loss=356, v_num=1]\n",
      "\u001b[34mINFO    \u001b[0m Creating doublets, preparing SOLO model.                                            \n"
     ]
    },
    {
     "name": "stderr",
     "output_type": "stream",
     "text": [
      "GPU available: True, used: True\n",
      "TPU available: False, using: 0 TPU cores\n",
      "IPU available: False, using: 0 IPUs\n",
      "HPU available: False, using: 0 HPUs\n",
      "LOCAL_RANK: 0 - CUDA_VISIBLE_DEVICES: [0,1]\n"
     ]
    },
    {
     "name": "stdout",
     "output_type": "stream",
     "text": [
      "Epoch 364/400:  91%|███████████████████████▋  | 364/400 [02:36<00:15,  2.33it/s, loss=0.371, v_num=1]\n",
      "Monitored metric validation_loss did not improve in the last 30 records. Best score: 0.338. Signaling Trainer to stop.\n"
     ]
    },
    {
     "name": "stderr",
     "output_type": "stream",
     "text": [
      "GPU available: True, used: True\n",
      "TPU available: False, using: 0 TPU cores\n",
      "IPU available: False, using: 0 IPUs\n",
      "HPU available: False, using: 0 HPUs\n",
      "LOCAL_RANK: 0 - CUDA_VISIBLE_DEVICES: [0,1]\n"
     ]
    },
    {
     "name": "stdout",
     "output_type": "stream",
     "text": [
      "Epoch 400/400: 100%|████████████████████████████| 400/400 [02:08<00:00,  3.12it/s, loss=401, v_num=1]\n",
      "\u001b[34mINFO    \u001b[0m Creating doublets, preparing SOLO model.                                            \n"
     ]
    },
    {
     "name": "stderr",
     "output_type": "stream",
     "text": [
      "GPU available: True, used: True\n",
      "TPU available: False, using: 0 TPU cores\n",
      "IPU available: False, using: 0 IPUs\n",
      "HPU available: False, using: 0 HPUs\n",
      "LOCAL_RANK: 0 - CUDA_VISIBLE_DEVICES: [0,1]\n"
     ]
    },
    {
     "name": "stdout",
     "output_type": "stream",
     "text": [
      "Epoch 282/400:  70%|██████████████████▎       | 282/400 [01:31<00:38,  3.08it/s, loss=0.398, v_num=1]\n",
      "Monitored metric validation_loss did not improve in the last 30 records. Best score: 0.364. Signaling Trainer to stop.\n"
     ]
    },
    {
     "name": "stderr",
     "output_type": "stream",
     "text": [
      "GPU available: True, used: True\n",
      "TPU available: False, using: 0 TPU cores\n",
      "IPU available: False, using: 0 IPUs\n",
      "HPU available: False, using: 0 HPUs\n",
      "LOCAL_RANK: 0 - CUDA_VISIBLE_DEVICES: [0,1]\n"
     ]
    },
    {
     "name": "stdout",
     "output_type": "stream",
     "text": [
      "Epoch 400/400: 100%|████████████████████████████| 400/400 [04:20<00:00,  1.54it/s, loss=835, v_num=1]\n",
      "\u001b[34mINFO    \u001b[0m Creating doublets, preparing SOLO model.                                            \n"
     ]
    },
    {
     "name": "stderr",
     "output_type": "stream",
     "text": [
      "GPU available: True, used: True\n",
      "TPU available: False, using: 0 TPU cores\n",
      "IPU available: False, using: 0 IPUs\n",
      "HPU available: False, using: 0 HPUs\n",
      "LOCAL_RANK: 0 - CUDA_VISIBLE_DEVICES: [0,1]\n"
     ]
    },
    {
     "name": "stdout",
     "output_type": "stream",
     "text": [
      "Epoch 244/400:  61%|███████████████▊          | 244/400 [02:37<01:40,  1.54it/s, loss=0.183, v_num=1]\n",
      "Monitored metric validation_loss did not improve in the last 30 records. Best score: 0.177. Signaling Trainer to stop.\n"
     ]
    },
    {
     "name": "stderr",
     "output_type": "stream",
     "text": [
      "GPU available: True, used: True\n",
      "TPU available: False, using: 0 TPU cores\n",
      "IPU available: False, using: 0 IPUs\n",
      "HPU available: False, using: 0 HPUs\n",
      "LOCAL_RANK: 0 - CUDA_VISIBLE_DEVICES: [0,1]\n"
     ]
    },
    {
     "name": "stdout",
     "output_type": "stream",
     "text": [
      "Epoch 400/400: 100%|████████████████████████████| 400/400 [04:17<00:00,  1.55it/s, loss=537, v_num=1]\n",
      "\u001b[34mINFO    \u001b[0m Creating doublets, preparing SOLO model.                                            \n"
     ]
    },
    {
     "name": "stderr",
     "output_type": "stream",
     "text": [
      "GPU available: True, used: True\n",
      "TPU available: False, using: 0 TPU cores\n",
      "IPU available: False, using: 0 IPUs\n",
      "HPU available: False, using: 0 HPUs\n",
      "LOCAL_RANK: 0 - CUDA_VISIBLE_DEVICES: [0,1]\n"
     ]
    },
    {
     "name": "stdout",
     "output_type": "stream",
     "text": [
      "Epoch 270/400:  68%|█████████████████▌        | 270/400 [02:55<01:24,  1.54it/s, loss=0.225, v_num=1]\n",
      "Monitored metric validation_loss did not improve in the last 30 records. Best score: 0.213. Signaling Trainer to stop.\n"
     ]
    },
    {
     "name": "stderr",
     "output_type": "stream",
     "text": [
      "GPU available: True, used: True\n",
      "TPU available: False, using: 0 TPU cores\n",
      "IPU available: False, using: 0 IPUs\n",
      "HPU available: False, using: 0 HPUs\n",
      "LOCAL_RANK: 0 - CUDA_VISIBLE_DEVICES: [0,1]\n"
     ]
    },
    {
     "name": "stdout",
     "output_type": "stream",
     "text": [
      "Epoch 400/400: 100%|██████████████████████████| 400/400 [00:23<00:00, 17.10it/s, loss=1e+03, v_num=1]\n",
      "\u001b[34mINFO    \u001b[0m Creating doublets, preparing SOLO model.                                            \n"
     ]
    },
    {
     "name": "stderr",
     "output_type": "stream",
     "text": [
      "GPU available: True, used: True\n",
      "TPU available: False, using: 0 TPU cores\n",
      "IPU available: False, using: 0 IPUs\n",
      "HPU available: False, using: 0 HPUs\n",
      "LOCAL_RANK: 0 - CUDA_VISIBLE_DEVICES: [0,1]\n"
     ]
    },
    {
     "name": "stdout",
     "output_type": "stream",
     "text": [
      "Epoch 203/400:  51%|█████████████▏            | 203/400 [00:11<00:10, 17.99it/s, loss=0.384, v_num=1]\n",
      "Monitored metric validation_loss did not improve in the last 30 records. Best score: 0.445. Signaling Trainer to stop.\n"
     ]
    },
    {
     "name": "stderr",
     "output_type": "stream",
     "text": [
      "GPU available: True, used: True\n",
      "TPU available: False, using: 0 TPU cores\n",
      "IPU available: False, using: 0 IPUs\n",
      "HPU available: False, using: 0 HPUs\n",
      "LOCAL_RANK: 0 - CUDA_VISIBLE_DEVICES: [0,1]\n"
     ]
    },
    {
     "name": "stdout",
     "output_type": "stream",
     "text": [
      "Epoch 400/400: 100%|████████████████████████████| 400/400 [04:13<00:00,  1.58it/s, loss=880, v_num=1]\n",
      "\u001b[34mINFO    \u001b[0m Creating doublets, preparing SOLO model.                                            \n"
     ]
    },
    {
     "name": "stderr",
     "output_type": "stream",
     "text": [
      "GPU available: True, used: True\n",
      "TPU available: False, using: 0 TPU cores\n",
      "IPU available: False, using: 0 IPUs\n",
      "HPU available: False, using: 0 HPUs\n",
      "LOCAL_RANK: 0 - CUDA_VISIBLE_DEVICES: [0,1]\n"
     ]
    },
    {
     "name": "stdout",
     "output_type": "stream",
     "text": [
      "Epoch 313/400:  78%|████████████████████▎     | 313/400 [03:21<00:55,  1.55it/s, loss=0.244, v_num=1]\n",
      "Monitored metric validation_loss did not improve in the last 30 records. Best score: 0.214. Signaling Trainer to stop.\n"
     ]
    },
    {
     "name": "stderr",
     "output_type": "stream",
     "text": [
      "GPU available: True, used: True\n",
      "TPU available: False, using: 0 TPU cores\n",
      "IPU available: False, using: 0 IPUs\n",
      "HPU available: False, using: 0 HPUs\n",
      "LOCAL_RANK: 0 - CUDA_VISIBLE_DEVICES: [0,1]\n"
     ]
    },
    {
     "name": "stdout",
     "output_type": "stream",
     "text": [
      "Epoch 400/400: 100%|████████████████████████████| 400/400 [04:18<00:00,  1.55it/s, loss=302, v_num=1]\n",
      "\u001b[34mINFO    \u001b[0m Creating doublets, preparing SOLO model.                                            \n"
     ]
    },
    {
     "name": "stderr",
     "output_type": "stream",
     "text": [
      "GPU available: True, used: True\n",
      "TPU available: False, using: 0 TPU cores\n",
      "IPU available: False, using: 0 IPUs\n",
      "HPU available: False, using: 0 HPUs\n",
      "LOCAL_RANK: 0 - CUDA_VISIBLE_DEVICES: [0,1]\n"
     ]
    },
    {
     "name": "stdout",
     "output_type": "stream",
     "text": [
      "Epoch 315/400:  79%|████████████████████▍     | 315/400 [03:23<00:54,  1.55it/s, loss=0.384, v_num=1]\n",
      "Monitored metric validation_loss did not improve in the last 30 records. Best score: 0.366. Signaling Trainer to stop.\n"
     ]
    },
    {
     "name": "stderr",
     "output_type": "stream",
     "text": [
      "GPU available: True, used: True\n",
      "TPU available: False, using: 0 TPU cores\n",
      "IPU available: False, using: 0 IPUs\n",
      "HPU available: False, using: 0 HPUs\n",
      "LOCAL_RANK: 0 - CUDA_VISIBLE_DEVICES: [0,1]\n"
     ]
    },
    {
     "name": "stdout",
     "output_type": "stream",
     "text": [
      "Epoch 400/400: 100%|████████████████████████████| 400/400 [04:22<00:00,  1.52it/s, loss=467, v_num=1]\n",
      "\u001b[34mINFO    \u001b[0m Creating doublets, preparing SOLO model.                                            \n"
     ]
    },
    {
     "name": "stderr",
     "output_type": "stream",
     "text": [
      "GPU available: True, used: True\n",
      "TPU available: False, using: 0 TPU cores\n",
      "IPU available: False, using: 0 IPUs\n",
      "HPU available: False, using: 0 HPUs\n",
      "LOCAL_RANK: 0 - CUDA_VISIBLE_DEVICES: [0,1]\n"
     ]
    },
    {
     "name": "stdout",
     "output_type": "stream",
     "text": [
      "Epoch 145/400:  36%|█████████▍                | 145/400 [01:33<02:44,  1.55it/s, loss=0.276, v_num=1]\n",
      "Monitored metric validation_loss did not improve in the last 30 records. Best score: 0.247. Signaling Trainer to stop.\n"
     ]
    },
    {
     "name": "stderr",
     "output_type": "stream",
     "text": [
      "GPU available: True, used: True\n",
      "TPU available: False, using: 0 TPU cores\n",
      "IPU available: False, using: 0 IPUs\n",
      "HPU available: False, using: 0 HPUs\n",
      "LOCAL_RANK: 0 - CUDA_VISIBLE_DEVICES: [0,1]\n"
     ]
    },
    {
     "name": "stdout",
     "output_type": "stream",
     "text": [
      "Epoch 400/400: 100%|████████████████████████████| 400/400 [02:41<00:00,  2.47it/s, loss=381, v_num=1]\n",
      "\u001b[34mINFO    \u001b[0m Creating doublets, preparing SOLO model.                                            \n"
     ]
    },
    {
     "name": "stderr",
     "output_type": "stream",
     "text": [
      "GPU available: True, used: True\n",
      "TPU available: False, using: 0 TPU cores\n",
      "IPU available: False, using: 0 IPUs\n",
      "HPU available: False, using: 0 HPUs\n",
      "LOCAL_RANK: 0 - CUDA_VISIBLE_DEVICES: [0,1]\n"
     ]
    },
    {
     "name": "stdout",
     "output_type": "stream",
     "text": [
      "Epoch 333/400:  83%|█████████████████████▋    | 333/400 [02:10<00:26,  2.55it/s, loss=0.391, v_num=1]\n",
      "Monitored metric validation_loss did not improve in the last 30 records. Best score: 0.379. Signaling Trainer to stop.\n"
     ]
    },
    {
     "name": "stderr",
     "output_type": "stream",
     "text": [
      "GPU available: True, used: True\n",
      "TPU available: False, using: 0 TPU cores\n",
      "IPU available: False, using: 0 IPUs\n",
      "HPU available: False, using: 0 HPUs\n",
      "LOCAL_RANK: 0 - CUDA_VISIBLE_DEVICES: [0,1]\n"
     ]
    },
    {
     "name": "stdout",
     "output_type": "stream",
     "text": [
      "Epoch 400/400: 100%|████████████████████████████| 400/400 [04:21<00:00,  1.53it/s, loss=263, v_num=1]\n",
      "\u001b[34mINFO    \u001b[0m Creating doublets, preparing SOLO model.                                            \n"
     ]
    },
    {
     "name": "stderr",
     "output_type": "stream",
     "text": [
      "GPU available: True, used: True\n",
      "TPU available: False, using: 0 TPU cores\n",
      "IPU available: False, using: 0 IPUs\n",
      "HPU available: False, using: 0 HPUs\n",
      "LOCAL_RANK: 0 - CUDA_VISIBLE_DEVICES: [0,1]\n"
     ]
    },
    {
     "name": "stdout",
     "output_type": "stream",
     "text": [
      "Epoch 265/400:  66%|█████████████████▏        | 265/400 [02:53<01:28,  1.53it/s, loss=0.255, v_num=1]\n",
      "Monitored metric validation_loss did not improve in the last 30 records. Best score: 0.244. Signaling Trainer to stop.\n"
     ]
    },
    {
     "name": "stderr",
     "output_type": "stream",
     "text": [
      "GPU available: True, used: True\n",
      "TPU available: False, using: 0 TPU cores\n",
      "IPU available: False, using: 0 IPUs\n",
      "HPU available: False, using: 0 HPUs\n",
      "LOCAL_RANK: 0 - CUDA_VISIBLE_DEVICES: [0,1]\n"
     ]
    },
    {
     "name": "stdout",
     "output_type": "stream",
     "text": [
      "Epoch 400/400: 100%|████████████████████████████| 400/400 [00:42<00:00,  9.40it/s, loss=646, v_num=1]\n",
      "\u001b[34mINFO    \u001b[0m Creating doublets, preparing SOLO model.                                            \n"
     ]
    },
    {
     "name": "stderr",
     "output_type": "stream",
     "text": [
      "GPU available: True, used: True\n",
      "TPU available: False, using: 0 TPU cores\n",
      "IPU available: False, using: 0 IPUs\n",
      "HPU available: False, using: 0 HPUs\n",
      "LOCAL_RANK: 0 - CUDA_VISIBLE_DEVICES: [0,1]\n"
     ]
    },
    {
     "name": "stdout",
     "output_type": "stream",
     "text": [
      "Epoch 400/400: 100%|██████████████████████████| 400/400 [00:40<00:00,  9.78it/s, loss=0.385, v_num=1]\n"
     ]
    },
    {
     "name": "stderr",
     "output_type": "stream",
     "text": [
      "GPU available: True, used: True\n",
      "TPU available: False, using: 0 TPU cores\n",
      "IPU available: False, using: 0 IPUs\n",
      "HPU available: False, using: 0 HPUs\n",
      "LOCAL_RANK: 0 - CUDA_VISIBLE_DEVICES: [0,1]\n"
     ]
    },
    {
     "name": "stdout",
     "output_type": "stream",
     "text": [
      "Epoch 400/400: 100%|████████████████████████████| 400/400 [03:15<00:00,  2.05it/s, loss=372, v_num=1]\n",
      "\u001b[34mINFO    \u001b[0m Creating doublets, preparing SOLO model.                                            \n"
     ]
    },
    {
     "name": "stderr",
     "output_type": "stream",
     "text": [
      "GPU available: True, used: True\n",
      "TPU available: False, using: 0 TPU cores\n",
      "IPU available: False, using: 0 IPUs\n",
      "HPU available: False, using: 0 HPUs\n",
      "LOCAL_RANK: 0 - CUDA_VISIBLE_DEVICES: [0,1]\n"
     ]
    },
    {
     "name": "stdout",
     "output_type": "stream",
     "text": [
      "Epoch 267/400:  67%|█████████████████▎        | 267/400 [02:12<01:05,  2.02it/s, loss=0.293, v_num=1]\n",
      "Monitored metric validation_loss did not improve in the last 30 records. Best score: 0.254. Signaling Trainer to stop.\n"
     ]
    },
    {
     "name": "stderr",
     "output_type": "stream",
     "text": [
      "GPU available: True, used: True\n",
      "TPU available: False, using: 0 TPU cores\n",
      "IPU available: False, using: 0 IPUs\n",
      "HPU available: False, using: 0 HPUs\n",
      "LOCAL_RANK: 0 - CUDA_VISIBLE_DEVICES: [0,1]\n"
     ]
    },
    {
     "name": "stdout",
     "output_type": "stream",
     "text": [
      "Epoch 400/400: 100%|████████████████████████████| 400/400 [03:02<00:00,  2.19it/s, loss=715, v_num=1]\n",
      "\u001b[34mINFO    \u001b[0m Creating doublets, preparing SOLO model.                                            \n"
     ]
    },
    {
     "name": "stderr",
     "output_type": "stream",
     "text": [
      "GPU available: True, used: True\n",
      "TPU available: False, using: 0 TPU cores\n",
      "IPU available: False, using: 0 IPUs\n",
      "HPU available: False, using: 0 HPUs\n",
      "LOCAL_RANK: 0 - CUDA_VISIBLE_DEVICES: [0,1]\n"
     ]
    },
    {
     "name": "stdout",
     "output_type": "stream",
     "text": [
      "Epoch 244/400:  61%|███████████████▊          | 244/400 [01:49<01:10,  2.23it/s, loss=0.245, v_num=1]\n",
      "Monitored metric validation_loss did not improve in the last 30 records. Best score: 0.215. Signaling Trainer to stop.\n"
     ]
    },
    {
     "name": "stderr",
     "output_type": "stream",
     "text": [
      "GPU available: True, used: True\n",
      "TPU available: False, using: 0 TPU cores\n",
      "IPU available: False, using: 0 IPUs\n",
      "HPU available: False, using: 0 HPUs\n",
      "LOCAL_RANK: 0 - CUDA_VISIBLE_DEVICES: [0,1]\n"
     ]
    },
    {
     "name": "stdout",
     "output_type": "stream",
     "text": [
      "Epoch 400/400: 100%|████████████████████████████| 400/400 [03:23<00:00,  1.96it/s, loss=367, v_num=1]\n",
      "\u001b[34mINFO    \u001b[0m Creating doublets, preparing SOLO model.                                            \n"
     ]
    },
    {
     "name": "stderr",
     "output_type": "stream",
     "text": [
      "GPU available: True, used: True\n",
      "TPU available: False, using: 0 TPU cores\n",
      "IPU available: False, using: 0 IPUs\n",
      "HPU available: False, using: 0 HPUs\n",
      "LOCAL_RANK: 0 - CUDA_VISIBLE_DEVICES: [0,1]\n"
     ]
    },
    {
     "name": "stdout",
     "output_type": "stream",
     "text": [
      "Epoch 400/400: 100%|██████████████████████████| 400/400 [03:22<00:00,  1.98it/s, loss=0.375, v_num=1]\n"
     ]
    }
   ],
   "source": [
    "out = []\n",
    "for file in os.listdir():\n",
    "    out.append(pp(file))"
   ]
  },
  {
   "cell_type": "code",
   "execution_count": 64,
   "id": "ad95033a",
   "metadata": {
    "scrolled": true
   },
   "outputs": [
    {
     "data": {
      "text/plain": [
       "[View of AnnData object with n_obs × n_vars = 965 × 58389\n",
       "     obs: 'Sample', 'doublet', 'n_genes', 'n_genes_by_counts', 'total_counts', 'total_counts_mt', 'pct_counts_mt', 'total_counts_ribo', 'pct_counts_ribo'\n",
       "     var: 'mt', 'ribo', 'n_cells_by_counts', 'mean_counts', 'pct_dropout_by_counts', 'total_counts',\n",
       " View of AnnData object with n_obs × n_vars = 8954 × 58389\n",
       "     obs: 'Sample', 'doublet', 'n_genes', 'n_genes_by_counts', 'total_counts', 'total_counts_mt', 'pct_counts_mt', 'total_counts_ribo', 'pct_counts_ribo'\n",
       "     var: 'mt', 'ribo', 'n_cells_by_counts', 'mean_counts', 'pct_dropout_by_counts', 'total_counts',\n",
       " View of AnnData object with n_obs × n_vars = 6009 × 58389\n",
       "     obs: 'Sample', 'doublet', 'n_genes', 'n_genes_by_counts', 'total_counts', 'total_counts_mt', 'pct_counts_mt', 'total_counts_ribo', 'pct_counts_ribo'\n",
       "     var: 'mt', 'ribo', 'n_cells_by_counts', 'mean_counts', 'pct_dropout_by_counts', 'total_counts',\n",
       " View of AnnData object with n_obs × n_vars = 4311 × 58389\n",
       "     obs: 'Sample', 'doublet', 'n_genes', 'n_genes_by_counts', 'total_counts', 'total_counts_mt', 'pct_counts_mt', 'total_counts_ribo', 'pct_counts_ribo'\n",
       "     var: 'mt', 'ribo', 'n_cells_by_counts', 'mean_counts', 'pct_dropout_by_counts', 'total_counts',\n",
       " View of AnnData object with n_obs × n_vars = 9026 × 58389\n",
       "     obs: 'Sample', 'doublet', 'n_genes', 'n_genes_by_counts', 'total_counts', 'total_counts_mt', 'pct_counts_mt', 'total_counts_ribo', 'pct_counts_ribo'\n",
       "     var: 'mt', 'ribo', 'n_cells_by_counts', 'mean_counts', 'pct_dropout_by_counts', 'total_counts',\n",
       " View of AnnData object with n_obs × n_vars = 8985 × 58389\n",
       "     obs: 'Sample', 'doublet', 'n_genes', 'n_genes_by_counts', 'total_counts', 'total_counts_mt', 'pct_counts_mt', 'total_counts_ribo', 'pct_counts_ribo'\n",
       "     var: 'mt', 'ribo', 'n_cells_by_counts', 'mean_counts', 'pct_dropout_by_counts', 'total_counts',\n",
       " View of AnnData object with n_obs × n_vars = 671 × 58389\n",
       "     obs: 'Sample', 'doublet', 'n_genes', 'n_genes_by_counts', 'total_counts', 'total_counts_mt', 'pct_counts_mt', 'total_counts_ribo', 'pct_counts_ribo'\n",
       "     var: 'mt', 'ribo', 'n_cells_by_counts', 'mean_counts', 'pct_dropout_by_counts', 'total_counts',\n",
       " View of AnnData object with n_obs × n_vars = 9084 × 58389\n",
       "     obs: 'Sample', 'doublet', 'n_genes', 'n_genes_by_counts', 'total_counts', 'total_counts_mt', 'pct_counts_mt', 'total_counts_ribo', 'pct_counts_ribo'\n",
       "     var: 'mt', 'ribo', 'n_cells_by_counts', 'mean_counts', 'pct_dropout_by_counts', 'total_counts',\n",
       " View of AnnData object with n_obs × n_vars = 8420 × 58389\n",
       "     obs: 'Sample', 'doublet', 'n_genes', 'n_genes_by_counts', 'total_counts', 'total_counts_mt', 'pct_counts_mt', 'total_counts_ribo', 'pct_counts_ribo'\n",
       "     var: 'mt', 'ribo', 'n_cells_by_counts', 'mean_counts', 'pct_dropout_by_counts', 'total_counts',\n",
       " View of AnnData object with n_obs × n_vars = 8767 × 58389\n",
       "     obs: 'Sample', 'doublet', 'n_genes', 'n_genes_by_counts', 'total_counts', 'total_counts_mt', 'pct_counts_mt', 'total_counts_ribo', 'pct_counts_ribo'\n",
       "     var: 'mt', 'ribo', 'n_cells_by_counts', 'mean_counts', 'pct_dropout_by_counts', 'total_counts',\n",
       " View of AnnData object with n_obs × n_vars = 5047 × 58389\n",
       "     obs: 'Sample', 'doublet', 'n_genes', 'n_genes_by_counts', 'total_counts', 'total_counts_mt', 'pct_counts_mt', 'total_counts_ribo', 'pct_counts_ribo'\n",
       "     var: 'mt', 'ribo', 'n_cells_by_counts', 'mean_counts', 'pct_dropout_by_counts', 'total_counts',\n",
       " View of AnnData object with n_obs × n_vars = 8600 × 58389\n",
       "     obs: 'Sample', 'doublet', 'n_genes', 'n_genes_by_counts', 'total_counts', 'total_counts_mt', 'pct_counts_mt', 'total_counts_ribo', 'pct_counts_ribo'\n",
       "     var: 'mt', 'ribo', 'n_cells_by_counts', 'mean_counts', 'pct_dropout_by_counts', 'total_counts',\n",
       " View of AnnData object with n_obs × n_vars = 1261 × 58389\n",
       "     obs: 'Sample', 'doublet', 'n_genes', 'n_genes_by_counts', 'total_counts', 'total_counts_mt', 'pct_counts_mt', 'total_counts_ribo', 'pct_counts_ribo'\n",
       "     var: 'mt', 'ribo', 'n_cells_by_counts', 'mean_counts', 'pct_dropout_by_counts', 'total_counts',\n",
       " View of AnnData object with n_obs × n_vars = 6654 × 58389\n",
       "     obs: 'Sample', 'doublet', 'n_genes', 'n_genes_by_counts', 'total_counts', 'total_counts_mt', 'pct_counts_mt', 'total_counts_ribo', 'pct_counts_ribo'\n",
       "     var: 'mt', 'ribo', 'n_cells_by_counts', 'mean_counts', 'pct_dropout_by_counts', 'total_counts',\n",
       " View of AnnData object with n_obs × n_vars = 6071 × 58389\n",
       "     obs: 'Sample', 'doublet', 'n_genes', 'n_genes_by_counts', 'total_counts', 'total_counts_mt', 'pct_counts_mt', 'total_counts_ribo', 'pct_counts_ribo'\n",
       "     var: 'mt', 'ribo', 'n_cells_by_counts', 'mean_counts', 'pct_dropout_by_counts', 'total_counts',\n",
       " View of AnnData object with n_obs × n_vars = 6717 × 58389\n",
       "     obs: 'Sample', 'doublet', 'n_genes', 'n_genes_by_counts', 'total_counts', 'total_counts_mt', 'pct_counts_mt', 'total_counts_ribo', 'pct_counts_ribo'\n",
       "     var: 'mt', 'ribo', 'n_cells_by_counts', 'mean_counts', 'pct_dropout_by_counts', 'total_counts']"
      ]
     },
     "execution_count": 64,
     "metadata": {},
     "output_type": "execute_result"
    }
   ],
   "source": [
    "out"
   ]
  },
  {
   "cell_type": "code",
   "execution_count": 65,
   "id": "997d0727",
   "metadata": {},
   "outputs": [],
   "source": [
    "adata = sc.concat(out)"
   ]
  },
  {
   "cell_type": "code",
   "execution_count": 67,
   "id": "8480db60",
   "metadata": {},
   "outputs": [
    {
     "data": {
      "text/plain": [
       "<99542x58389 sparse matrix of type '<class 'numpy.float32'>'\n",
       "\twith 155437391 stored elements in Compressed Sparse Row format>"
      ]
     },
     "execution_count": 67,
     "metadata": {},
     "output_type": "execute_result"
    }
   ],
   "source": [
    "adata.X"
   ]
  },
  {
   "cell_type": "code",
   "execution_count": 68,
   "id": "6ed2a0bd",
   "metadata": {},
   "outputs": [],
   "source": [
    "sc.pp.filter_genes(adata, min_cells = 10)"
   ]
  },
  {
   "cell_type": "code",
   "execution_count": 69,
   "id": "0b6003f0",
   "metadata": {},
   "outputs": [
    {
     "data": {
      "text/plain": [
       "AnnData object with n_obs × n_vars = 99542 × 43238\n",
       "    obs: 'Sample', 'doublet', 'n_genes', 'n_genes_by_counts', 'total_counts', 'total_counts_mt', 'pct_counts_mt', 'total_counts_ribo', 'pct_counts_ribo'\n",
       "    var: 'n_cells'"
      ]
     },
     "execution_count": 69,
     "metadata": {},
     "output_type": "execute_result"
    }
   ],
   "source": [
    "adata"
   ]
  },
  {
   "cell_type": "code",
   "execution_count": 70,
   "id": "5ba67a23",
   "metadata": {},
   "outputs": [],
   "source": [
    "adata.write_h5ad('testis_combined.h5ad')"
   ]
  },
  {
   "cell_type": "code",
   "execution_count": 72,
   "id": "474b6acc",
   "metadata": {},
   "outputs": [
    {
     "data": {
      "text/plain": [
       "AnnData object with n_obs × n_vars = 99542 × 43238\n",
       "    obs: 'Sample', 'doublet', 'n_genes', 'n_genes_by_counts', 'total_counts', 'total_counts_mt', 'pct_counts_mt', 'total_counts_ribo', 'pct_counts_ribo'\n",
       "    var: 'n_cells'"
      ]
     },
     "execution_count": 72,
     "metadata": {},
     "output_type": "execute_result"
    }
   ],
   "source": [
    "adata = sc.read_h5ad('testis_combined.h5ad')\n",
    "adata"
   ]
  },
  {
   "cell_type": "code",
   "execution_count": 76,
   "id": "fe502c47",
   "metadata": {},
   "outputs": [
    {
     "data": {
      "text/html": [
       "<div>\n",
       "<style scoped>\n",
       "    .dataframe tbody tr th:only-of-type {\n",
       "        vertical-align: middle;\n",
       "    }\n",
       "\n",
       "    .dataframe tbody tr th {\n",
       "        vertical-align: top;\n",
       "    }\n",
       "\n",
       "    .dataframe thead th {\n",
       "        text-align: right;\n",
       "    }\n",
       "</style>\n",
       "<table border=\"1\" class=\"dataframe\">\n",
       "  <thead>\n",
       "    <tr style=\"text-align: right;\">\n",
       "      <th></th>\n",
       "      <th>doublet</th>\n",
       "      <th>n_genes</th>\n",
       "      <th>n_genes_by_counts</th>\n",
       "      <th>total_counts</th>\n",
       "      <th>total_counts_mt</th>\n",
       "      <th>pct_counts_mt</th>\n",
       "      <th>total_counts_ribo</th>\n",
       "      <th>pct_counts_ribo</th>\n",
       "    </tr>\n",
       "    <tr>\n",
       "      <th>Sample</th>\n",
       "      <th></th>\n",
       "      <th></th>\n",
       "      <th></th>\n",
       "      <th></th>\n",
       "      <th></th>\n",
       "      <th></th>\n",
       "      <th></th>\n",
       "      <th></th>\n",
       "    </tr>\n",
       "  </thead>\n",
       "  <tbody>\n",
       "    <tr>\n",
       "      <th>GSE112013_SRR6860519_Donor1_rep1</th>\n",
       "      <td>8600</td>\n",
       "      <td>8600</td>\n",
       "      <td>8600</td>\n",
       "      <td>8600</td>\n",
       "      <td>8600</td>\n",
       "      <td>8600</td>\n",
       "      <td>8600</td>\n",
       "      <td>8600</td>\n",
       "    </tr>\n",
       "    <tr>\n",
       "      <th>GSE112013_SRR6860520_Donor1_rep2</th>\n",
       "      <td>6654</td>\n",
       "      <td>6654</td>\n",
       "      <td>6654</td>\n",
       "      <td>6654</td>\n",
       "      <td>6654</td>\n",
       "      <td>6654</td>\n",
       "      <td>6654</td>\n",
       "      <td>6654</td>\n",
       "    </tr>\n",
       "    <tr>\n",
       "      <th>GSE112013_SRR6860521_Donor2_rep1</th>\n",
       "      <td>4311</td>\n",
       "      <td>4311</td>\n",
       "      <td>4311</td>\n",
       "      <td>4311</td>\n",
       "      <td>4311</td>\n",
       "      <td>4311</td>\n",
       "      <td>4311</td>\n",
       "      <td>4311</td>\n",
       "    </tr>\n",
       "    <tr>\n",
       "      <th>GSE112013_SRR6860522_Donor2_rep2</th>\n",
       "      <td>5047</td>\n",
       "      <td>5047</td>\n",
       "      <td>5047</td>\n",
       "      <td>5047</td>\n",
       "      <td>5047</td>\n",
       "      <td>5047</td>\n",
       "      <td>5047</td>\n",
       "      <td>5047</td>\n",
       "    </tr>\n",
       "    <tr>\n",
       "      <th>GSE112013_SRR6860523_Donor3_rep1</th>\n",
       "      <td>6009</td>\n",
       "      <td>6009</td>\n",
       "      <td>6009</td>\n",
       "      <td>6009</td>\n",
       "      <td>6009</td>\n",
       "      <td>6009</td>\n",
       "      <td>6009</td>\n",
       "      <td>6009</td>\n",
       "    </tr>\n",
       "    <tr>\n",
       "      <th>GSE112013_SRR6860524_Donor3_rep2</th>\n",
       "      <td>8420</td>\n",
       "      <td>8420</td>\n",
       "      <td>8420</td>\n",
       "      <td>8420</td>\n",
       "      <td>8420</td>\n",
       "      <td>8420</td>\n",
       "      <td>8420</td>\n",
       "      <td>8420</td>\n",
       "    </tr>\n",
       "    <tr>\n",
       "      <th>GSE153947_SRR12164933_Normal_1</th>\n",
       "      <td>9026</td>\n",
       "      <td>9026</td>\n",
       "      <td>9026</td>\n",
       "      <td>9026</td>\n",
       "      <td>9026</td>\n",
       "      <td>9026</td>\n",
       "      <td>9026</td>\n",
       "      <td>9026</td>\n",
       "    </tr>\n",
       "    <tr>\n",
       "      <th>GSE153947_SRR12164934_Normal_2</th>\n",
       "      <td>9084</td>\n",
       "      <td>9084</td>\n",
       "      <td>9084</td>\n",
       "      <td>9084</td>\n",
       "      <td>9084</td>\n",
       "      <td>9084</td>\n",
       "      <td>9084</td>\n",
       "      <td>9084</td>\n",
       "    </tr>\n",
       "    <tr>\n",
       "      <th>GSE153947_SRR12164935_Normal_3</th>\n",
       "      <td>8954</td>\n",
       "      <td>8954</td>\n",
       "      <td>8954</td>\n",
       "      <td>8954</td>\n",
       "      <td>8954</td>\n",
       "      <td>8954</td>\n",
       "      <td>8954</td>\n",
       "      <td>8954</td>\n",
       "    </tr>\n",
       "    <tr>\n",
       "      <th>GSE153947_SRR12164936_Crypto_1</th>\n",
       "      <td>6071</td>\n",
       "      <td>6071</td>\n",
       "      <td>6071</td>\n",
       "      <td>6071</td>\n",
       "      <td>6071</td>\n",
       "      <td>6071</td>\n",
       "      <td>6071</td>\n",
       "      <td>6071</td>\n",
       "    </tr>\n",
       "    <tr>\n",
       "      <th>GSE153947_SRR12164937_Crypto_2</th>\n",
       "      <td>6717</td>\n",
       "      <td>6717</td>\n",
       "      <td>6717</td>\n",
       "      <td>6717</td>\n",
       "      <td>6717</td>\n",
       "      <td>6717</td>\n",
       "      <td>6717</td>\n",
       "      <td>6717</td>\n",
       "    </tr>\n",
       "    <tr>\n",
       "      <th>GSE153947_SRR12164938_Crypto_3</th>\n",
       "      <td>8985</td>\n",
       "      <td>8985</td>\n",
       "      <td>8985</td>\n",
       "      <td>8985</td>\n",
       "      <td>8985</td>\n",
       "      <td>8985</td>\n",
       "      <td>8985</td>\n",
       "      <td>8985</td>\n",
       "    </tr>\n",
       "    <tr>\n",
       "      <th>GSE154535_SRR12234210_Donor1_iNOA</th>\n",
       "      <td>1261</td>\n",
       "      <td>1261</td>\n",
       "      <td>1261</td>\n",
       "      <td>1261</td>\n",
       "      <td>1261</td>\n",
       "      <td>1261</td>\n",
       "      <td>1261</td>\n",
       "      <td>1261</td>\n",
       "    </tr>\n",
       "    <tr>\n",
       "      <th>GSE154535_SRR12234211_Donor2_iNOA</th>\n",
       "      <td>671</td>\n",
       "      <td>671</td>\n",
       "      <td>671</td>\n",
       "      <td>671</td>\n",
       "      <td>671</td>\n",
       "      <td>671</td>\n",
       "      <td>671</td>\n",
       "      <td>671</td>\n",
       "    </tr>\n",
       "    <tr>\n",
       "      <th>GSE154535_SRR12234212_Donor3_iNOA</th>\n",
       "      <td>8767</td>\n",
       "      <td>8767</td>\n",
       "      <td>8767</td>\n",
       "      <td>8767</td>\n",
       "      <td>8767</td>\n",
       "      <td>8767</td>\n",
       "      <td>8767</td>\n",
       "      <td>8767</td>\n",
       "    </tr>\n",
       "    <tr>\n",
       "      <th>GSE154535_SRR12234213_Donor_OA</th>\n",
       "      <td>965</td>\n",
       "      <td>965</td>\n",
       "      <td>965</td>\n",
       "      <td>965</td>\n",
       "      <td>965</td>\n",
       "      <td>965</td>\n",
       "      <td>965</td>\n",
       "      <td>965</td>\n",
       "    </tr>\n",
       "  </tbody>\n",
       "</table>\n",
       "</div>"
      ],
      "text/plain": [
       "                                   doublet  n_genes  n_genes_by_counts  \\\n",
       "Sample                                                                   \n",
       "GSE112013_SRR6860519_Donor1_rep1      8600     8600               8600   \n",
       "GSE112013_SRR6860520_Donor1_rep2      6654     6654               6654   \n",
       "GSE112013_SRR6860521_Donor2_rep1      4311     4311               4311   \n",
       "GSE112013_SRR6860522_Donor2_rep2      5047     5047               5047   \n",
       "GSE112013_SRR6860523_Donor3_rep1      6009     6009               6009   \n",
       "GSE112013_SRR6860524_Donor3_rep2      8420     8420               8420   \n",
       "GSE153947_SRR12164933_Normal_1        9026     9026               9026   \n",
       "GSE153947_SRR12164934_Normal_2        9084     9084               9084   \n",
       "GSE153947_SRR12164935_Normal_3        8954     8954               8954   \n",
       "GSE153947_SRR12164936_Crypto_1        6071     6071               6071   \n",
       "GSE153947_SRR12164937_Crypto_2        6717     6717               6717   \n",
       "GSE153947_SRR12164938_Crypto_3        8985     8985               8985   \n",
       "GSE154535_SRR12234210_Donor1_iNOA     1261     1261               1261   \n",
       "GSE154535_SRR12234211_Donor2_iNOA      671      671                671   \n",
       "GSE154535_SRR12234212_Donor3_iNOA     8767     8767               8767   \n",
       "GSE154535_SRR12234213_Donor_OA         965      965                965   \n",
       "\n",
       "                                   total_counts  total_counts_mt  \\\n",
       "Sample                                                             \n",
       "GSE112013_SRR6860519_Donor1_rep1           8600             8600   \n",
       "GSE112013_SRR6860520_Donor1_rep2           6654             6654   \n",
       "GSE112013_SRR6860521_Donor2_rep1           4311             4311   \n",
       "GSE112013_SRR6860522_Donor2_rep2           5047             5047   \n",
       "GSE112013_SRR6860523_Donor3_rep1           6009             6009   \n",
       "GSE112013_SRR6860524_Donor3_rep2           8420             8420   \n",
       "GSE153947_SRR12164933_Normal_1             9026             9026   \n",
       "GSE153947_SRR12164934_Normal_2             9084             9084   \n",
       "GSE153947_SRR12164935_Normal_3             8954             8954   \n",
       "GSE153947_SRR12164936_Crypto_1             6071             6071   \n",
       "GSE153947_SRR12164937_Crypto_2             6717             6717   \n",
       "GSE153947_SRR12164938_Crypto_3             8985             8985   \n",
       "GSE154535_SRR12234210_Donor1_iNOA          1261             1261   \n",
       "GSE154535_SRR12234211_Donor2_iNOA           671              671   \n",
       "GSE154535_SRR12234212_Donor3_iNOA          8767             8767   \n",
       "GSE154535_SRR12234213_Donor_OA              965              965   \n",
       "\n",
       "                                   pct_counts_mt  total_counts_ribo  \\\n",
       "Sample                                                                \n",
       "GSE112013_SRR6860519_Donor1_rep1            8600               8600   \n",
       "GSE112013_SRR6860520_Donor1_rep2            6654               6654   \n",
       "GSE112013_SRR6860521_Donor2_rep1            4311               4311   \n",
       "GSE112013_SRR6860522_Donor2_rep2            5047               5047   \n",
       "GSE112013_SRR6860523_Donor3_rep1            6009               6009   \n",
       "GSE112013_SRR6860524_Donor3_rep2            8420               8420   \n",
       "GSE153947_SRR12164933_Normal_1              9026               9026   \n",
       "GSE153947_SRR12164934_Normal_2              9084               9084   \n",
       "GSE153947_SRR12164935_Normal_3              8954               8954   \n",
       "GSE153947_SRR12164936_Crypto_1              6071               6071   \n",
       "GSE153947_SRR12164937_Crypto_2              6717               6717   \n",
       "GSE153947_SRR12164938_Crypto_3              8985               8985   \n",
       "GSE154535_SRR12234210_Donor1_iNOA           1261               1261   \n",
       "GSE154535_SRR12234211_Donor2_iNOA            671                671   \n",
       "GSE154535_SRR12234212_Donor3_iNOA           8767               8767   \n",
       "GSE154535_SRR12234213_Donor_OA               965                965   \n",
       "\n",
       "                                   pct_counts_ribo  \n",
       "Sample                                              \n",
       "GSE112013_SRR6860519_Donor1_rep1              8600  \n",
       "GSE112013_SRR6860520_Donor1_rep2              6654  \n",
       "GSE112013_SRR6860521_Donor2_rep1              4311  \n",
       "GSE112013_SRR6860522_Donor2_rep2              5047  \n",
       "GSE112013_SRR6860523_Donor3_rep1              6009  \n",
       "GSE112013_SRR6860524_Donor3_rep2              8420  \n",
       "GSE153947_SRR12164933_Normal_1                9026  \n",
       "GSE153947_SRR12164934_Normal_2                9084  \n",
       "GSE153947_SRR12164935_Normal_3                8954  \n",
       "GSE153947_SRR12164936_Crypto_1                6071  \n",
       "GSE153947_SRR12164937_Crypto_2                6717  \n",
       "GSE153947_SRR12164938_Crypto_3                8985  \n",
       "GSE154535_SRR12234210_Donor1_iNOA             1261  \n",
       "GSE154535_SRR12234211_Donor2_iNOA              671  \n",
       "GSE154535_SRR12234212_Donor3_iNOA             8767  \n",
       "GSE154535_SRR12234213_Donor_OA                 965  "
      ]
     },
     "execution_count": 76,
     "metadata": {},
     "output_type": "execute_result"
    }
   ],
   "source": [
    "adata.obs.groupby('Sample').count()"
   ]
  },
  {
   "cell_type": "code",
   "execution_count": 77,
   "id": "68815a47",
   "metadata": {},
   "outputs": [],
   "source": [
    "#saving the raw data, scVI will use the counts layer\n",
    "adata.layers['counts'] = adata.X.copy()"
   ]
  },
  {
   "cell_type": "code",
   "execution_count": 78,
   "id": "457ae14c",
   "metadata": {},
   "outputs": [],
   "source": [
    "#normalize the concatenated data, will be used by other functions\n",
    "sc.pp.normalize_total(adata, target_sum = 1e4)\n",
    "sc.pp.log1p(adata)\n",
    "adata.raw = adata"
   ]
  },
  {
   "cell_type": "code",
   "execution_count": 79,
   "id": "d25ce269",
   "metadata": {},
   "outputs": [
    {
     "data": {
      "text/html": [
       "<div>\n",
       "<style scoped>\n",
       "    .dataframe tbody tr th:only-of-type {\n",
       "        vertical-align: middle;\n",
       "    }\n",
       "\n",
       "    .dataframe tbody tr th {\n",
       "        vertical-align: top;\n",
       "    }\n",
       "\n",
       "    .dataframe thead th {\n",
       "        text-align: right;\n",
       "    }\n",
       "</style>\n",
       "<table border=\"1\" class=\"dataframe\">\n",
       "  <thead>\n",
       "    <tr style=\"text-align: right;\">\n",
       "      <th></th>\n",
       "      <th>Sample</th>\n",
       "      <th>doublet</th>\n",
       "      <th>n_genes</th>\n",
       "      <th>n_genes_by_counts</th>\n",
       "      <th>total_counts</th>\n",
       "      <th>total_counts_mt</th>\n",
       "      <th>pct_counts_mt</th>\n",
       "      <th>total_counts_ribo</th>\n",
       "      <th>pct_counts_ribo</th>\n",
       "    </tr>\n",
       "  </thead>\n",
       "  <tbody>\n",
       "    <tr>\n",
       "      <th>AAACGGGGTCTGGAGA-1</th>\n",
       "      <td>GSE154535_SRR12234213_Donor_OA</td>\n",
       "      <td>False</td>\n",
       "      <td>460</td>\n",
       "      <td>460</td>\n",
       "      <td>1021.0</td>\n",
       "      <td>0.0</td>\n",
       "      <td>0.0</td>\n",
       "      <td>12.0</td>\n",
       "      <td>1.175318</td>\n",
       "    </tr>\n",
       "    <tr>\n",
       "      <th>AAAGATGTCCGATATG-1</th>\n",
       "      <td>GSE154535_SRR12234213_Donor_OA</td>\n",
       "      <td>False</td>\n",
       "      <td>460</td>\n",
       "      <td>460</td>\n",
       "      <td>900.0</td>\n",
       "      <td>0.0</td>\n",
       "      <td>0.0</td>\n",
       "      <td>86.0</td>\n",
       "      <td>9.555556</td>\n",
       "    </tr>\n",
       "    <tr>\n",
       "      <th>AAAGCAACAGGGTTAG-1</th>\n",
       "      <td>GSE154535_SRR12234213_Donor_OA</td>\n",
       "      <td>False</td>\n",
       "      <td>5877</td>\n",
       "      <td>5877</td>\n",
       "      <td>25996.0</td>\n",
       "      <td>0.0</td>\n",
       "      <td>0.0</td>\n",
       "      <td>1536.0</td>\n",
       "      <td>5.908601</td>\n",
       "    </tr>\n",
       "    <tr>\n",
       "      <th>AAAGCAAGTAACGACG-1</th>\n",
       "      <td>GSE154535_SRR12234213_Donor_OA</td>\n",
       "      <td>False</td>\n",
       "      <td>311</td>\n",
       "      <td>311</td>\n",
       "      <td>434.0</td>\n",
       "      <td>0.0</td>\n",
       "      <td>0.0</td>\n",
       "      <td>14.0</td>\n",
       "      <td>3.225806</td>\n",
       "    </tr>\n",
       "    <tr>\n",
       "      <th>AAAGCAAGTGAGTGAC-1</th>\n",
       "      <td>GSE154535_SRR12234213_Donor_OA</td>\n",
       "      <td>False</td>\n",
       "      <td>5672</td>\n",
       "      <td>5672</td>\n",
       "      <td>24980.0</td>\n",
       "      <td>0.0</td>\n",
       "      <td>0.0</td>\n",
       "      <td>1628.0</td>\n",
       "      <td>6.517214</td>\n",
       "    </tr>\n",
       "  </tbody>\n",
       "</table>\n",
       "</div>"
      ],
      "text/plain": [
       "                                            Sample  doublet  n_genes  \\\n",
       "AAACGGGGTCTGGAGA-1  GSE154535_SRR12234213_Donor_OA    False      460   \n",
       "AAAGATGTCCGATATG-1  GSE154535_SRR12234213_Donor_OA    False      460   \n",
       "AAAGCAACAGGGTTAG-1  GSE154535_SRR12234213_Donor_OA    False     5877   \n",
       "AAAGCAAGTAACGACG-1  GSE154535_SRR12234213_Donor_OA    False      311   \n",
       "AAAGCAAGTGAGTGAC-1  GSE154535_SRR12234213_Donor_OA    False     5672   \n",
       "\n",
       "                    n_genes_by_counts  total_counts  total_counts_mt  \\\n",
       "AAACGGGGTCTGGAGA-1                460        1021.0              0.0   \n",
       "AAAGATGTCCGATATG-1                460         900.0              0.0   \n",
       "AAAGCAACAGGGTTAG-1               5877       25996.0              0.0   \n",
       "AAAGCAAGTAACGACG-1                311         434.0              0.0   \n",
       "AAAGCAAGTGAGTGAC-1               5672       24980.0              0.0   \n",
       "\n",
       "                    pct_counts_mt  total_counts_ribo  pct_counts_ribo  \n",
       "AAACGGGGTCTGGAGA-1            0.0               12.0         1.175318  \n",
       "AAAGATGTCCGATATG-1            0.0               86.0         9.555556  \n",
       "AAAGCAACAGGGTTAG-1            0.0             1536.0         5.908601  \n",
       "AAAGCAAGTAACGACG-1            0.0               14.0         3.225806  \n",
       "AAAGCAAGTGAGTGAC-1            0.0             1628.0         6.517214  "
      ]
     },
     "execution_count": 79,
     "metadata": {},
     "output_type": "execute_result"
    }
   ],
   "source": [
    "adata.obs.head()"
   ]
  },
  {
   "cell_type": "code",
   "execution_count": 80,
   "id": "e617e167",
   "metadata": {},
   "outputs": [],
   "source": [
    "#Batch correction for combined data\n",
    "scvi.model.SCVI.setup_anndata(adata, layer = \"counts\",\n",
    "                             categorical_covariate_keys=[\"Sample\"],\n",
    "                             continuous_covariate_keys=['pct_counts_mt', 'total_counts', 'pct_counts_ribo'])\n"
   ]
  },
  {
   "cell_type": "code",
   "execution_count": 81,
   "id": "6bd19320",
   "metadata": {},
   "outputs": [],
   "source": [
    "model = scvi.model.SCVI(adata)"
   ]
  },
  {
   "cell_type": "code",
   "execution_count": 82,
   "id": "365d1c62",
   "metadata": {},
   "outputs": [
    {
     "name": "stderr",
     "output_type": "stream",
     "text": [
      "GPU available: True, used: True\n",
      "TPU available: False, using: 0 TPU cores\n",
      "IPU available: False, using: 0 IPUs\n",
      "HPU available: False, using: 0 HPUs\n",
      "LOCAL_RANK: 0 - CUDA_VISIBLE_DEVICES: [0,1]\n"
     ]
    },
    {
     "name": "stdout",
     "output_type": "stream",
     "text": [
      "Epoch 80/80: 100%|████████████████████████████| 80/80 [17:59<00:00, 13.49s/it, loss=4.8e+03, v_num=1]\n"
     ]
    }
   ],
   "source": [
    "model.train() #may take a while without GPU"
   ]
  },
  {
   "cell_type": "code",
   "execution_count": 83,
   "id": "43da6207",
   "metadata": {},
   "outputs": [],
   "source": [
    "adata.obsm['X_scVI'] = model.get_latent_representation()"
   ]
  },
  {
   "cell_type": "code",
   "execution_count": 84,
   "id": "789c313e",
   "metadata": {},
   "outputs": [],
   "source": [
    "adata.layers['scvi_normalized'] = model.get_normalized_expression(library_size = 1e4)"
   ]
  },
  {
   "cell_type": "code",
   "execution_count": 86,
   "id": "d2c5000b",
   "metadata": {},
   "outputs": [
    {
     "name": "stderr",
     "output_type": "stream",
     "text": [
      "2022-11-29 19:21:59.052004: E tensorflow/stream_executor/cuda/cuda_blas.cc:2981] Unable to register cuBLAS factory: Attempting to register factory for plugin cuBLAS when one has already been registered\n",
      "2022-11-29 19:21:59.786924: W tensorflow/stream_executor/platform/default/dso_loader.cc:64] Could not load dynamic library 'libnvinfer.so.7'; dlerror: libnvinfer.so.7: cannot open shared object file: No such file or directory; LD_LIBRARY_PATH: /apps/compiler/openmpi-3.6.1/lib64::/usr/local/cuda-10.1/lib64:/home/prakrithi/miniconda3/envs/scRNA_new/bin/:/home/prakrithi/miniconda3/envs/scRNA_new/lib/\n",
      "2022-11-29 19:21:59.787326: W tensorflow/stream_executor/platform/default/dso_loader.cc:64] Could not load dynamic library 'libnvinfer_plugin.so.7'; dlerror: libnvinfer_plugin.so.7: cannot open shared object file: No such file or directory; LD_LIBRARY_PATH: /apps/compiler/openmpi-3.6.1/lib64::/usr/local/cuda-10.1/lib64:/home/prakrithi/miniconda3/envs/scRNA_new/bin/:/home/prakrithi/miniconda3/envs/scRNA_new/lib/\n",
      "2022-11-29 19:21:59.787336: W tensorflow/compiler/tf2tensorrt/utils/py_utils.cc:38] TF-TRT Warning: Cannot dlopen some TensorRT libraries. If you would like to use Nvidia GPU with TensorRT, please make sure the missing libraries mentioned above are installed properly.\n"
     ]
    }
   ],
   "source": [
    "sc.pp.neighbors(adata, use_rep = 'X_scVI')"
   ]
  },
  {
   "cell_type": "code",
   "execution_count": 87,
   "id": "7124d52c",
   "metadata": {},
   "outputs": [],
   "source": [
    "sc.tl.umap(adata)\n",
    "sc.tl.leiden(adata, resolution = 0.5)"
   ]
  },
  {
   "cell_type": "code",
   "execution_count": 90,
   "id": "c6ee38ea",
   "metadata": {},
   "outputs": [],
   "source": [
    "sc.pl.umap(adata, color = ['leiden', 'Sample'], frameon = False)\n",
    "plt.savefig('unannotated-umap.png', dpi = 300)"
   ]
  },
  {
   "cell_type": "code",
   "execution_count": null,
   "id": "7b7abefd",
   "metadata": {},
   "outputs": [],
   "source": []
  }
 ],
 "metadata": {
  "kernelspec": {
   "display_name": "Python 3",
   "language": "python",
   "name": "python3"
  },
  "language_info": {
   "codemirror_mode": {
    "name": "ipython",
    "version": 3
   },
   "file_extension": ".py",
   "mimetype": "text/x-python",
   "name": "python",
   "nbconvert_exporter": "python",
   "pygments_lexer": "ipython3",
   "version": "3.7.0"
  }
 },
 "nbformat": 4,
 "nbformat_minor": 5
}
