{
 "cells": [
  {
   "cell_type": "code",
   "execution_count": 1,
   "id": "3b71c656",
   "metadata": {},
   "outputs": [],
   "source": [
    "import scanpy as sc\n",
    "from scipy import io"
   ]
  },
  {
   "cell_type": "code",
   "execution_count": 2,
   "id": "cd4700d7",
   "metadata": {},
   "outputs": [],
   "source": [
    "!mkdir matrix_files"
   ]
  },
  {
   "cell_type": "code",
   "execution_count": 5,
   "id": "cf1da99a",
   "metadata": {},
   "outputs": [
    {
     "name": "stdout",
     "output_type": "stream",
     "text": [
      "/nfs_master/prakrithi/abhay/testis_scripts\r\n"
     ]
    }
   ],
   "source": [
    "!pwd\n"
   ]
  },
  {
   "cell_type": "code",
   "execution_count": 6,
   "id": "d906a552",
   "metadata": {},
   "outputs": [],
   "source": [
    "adata = sc.read_h5ad('/nfs_master/prakrithi/abhay/testis_allfiles/GSE112013_SRR6860519_Donor1_rep1.h5ad')"
   ]
  },
  {
   "cell_type": "code",
   "execution_count": 9,
   "id": "b7cd6560",
   "metadata": {},
   "outputs": [
    {
     "data": {
      "text/plain": [
       "AnnData object with n_obs × n_vars = 10000 × 58389"
      ]
     },
     "execution_count": 9,
     "metadata": {},
     "output_type": "execute_result"
    }
   ],
   "source": [
    "adata "
   ]
  },
  {
   "cell_type": "code",
   "execution_count": 13,
   "id": "8aafea4d",
   "metadata": {},
   "outputs": [],
   "source": [
    "with open('matrix_files/barcodes.tsv' , 'w') as f:\n",
    "    for item in adata.obs_names:\n",
    "        f.write(item + '\\n')"
   ]
  },
  {
   "cell_type": "code",
   "execution_count": 14,
   "id": "5de1ea81",
   "metadata": {},
   "outputs": [],
   "source": [
    "with open('matrix_files/features.tsv', 'w') as f:\n",
    "    for item in ['\\t'.join([x,x,'Gene Expression']) for x in adata.var_names]:\n",
    "        f.write(item + '\\n')"
   ]
  },
  {
   "cell_type": "code",
   "execution_count": 15,
   "id": "68615f94",
   "metadata": {},
   "outputs": [],
   "source": [
    "io.mmwrite('matrix_files/matrix', adata.X.T)\n"
   ]
  },
  {
   "cell_type": "code",
   "execution_count": 16,
   "id": "2958ec21",
   "metadata": {},
   "outputs": [
    {
     "name": "stdout",
     "output_type": "stream",
     "text": [
      "barcodes.tsv  features.tsv  matrix.mtx\r\n"
     ]
    }
   ],
   "source": [
    "!ls matrix_files/\n"
   ]
  },
  {
   "cell_type": "code",
   "execution_count": 18,
   "id": "a9c0ea35",
   "metadata": {},
   "outputs": [],
   "source": [
    "!gzip matrix_files/*"
   ]
  },
  {
   "cell_type": "code",
   "execution_count": 17,
   "id": "9eedd490",
   "metadata": {},
   "outputs": [],
   "source": [
    "adata.obs.to_csv('metadata.csv')"
   ]
  },
  {
   "cell_type": "code",
   "execution_count": null,
   "id": "b4e44959",
   "metadata": {},
   "outputs": [],
   "source": []
  }
 ],
 "metadata": {
  "kernelspec": {
   "display_name": "Python 3",
   "language": "python",
   "name": "python3"
  },
  "language_info": {
   "codemirror_mode": {
    "name": "ipython",
    "version": 3
   },
   "file_extension": ".py",
   "mimetype": "text/x-python",
   "name": "python",
   "nbconvert_exporter": "python",
   "pygments_lexer": "ipython3",
   "version": "3.7.0"
  }
 },
 "nbformat": 4,
 "nbformat_minor": 5
}
