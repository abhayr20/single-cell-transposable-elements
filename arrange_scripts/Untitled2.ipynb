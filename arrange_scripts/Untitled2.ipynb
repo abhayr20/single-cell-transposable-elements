{
 "cells": [
  {
   "cell_type": "code",
   "execution_count": 1,
   "id": "8fd9e205",
   "metadata": {},
   "outputs": [],
   "source": [
    "import squidpy as sq"
   ]
  },
  {
   "cell_type": "code",
   "execution_count": 2,
   "id": "22c0c2ca",
   "metadata": {},
   "outputs": [
    {
     "name": "stderr",
     "output_type": "stream",
     "text": [
      "100%|█████████████████████████████████████████████████████████████| 314M/314M [01:00<00:00, 5.45MB/s]\n",
      "100%|█████████████████████████████████████████████████████████████| 380M/380M [00:29<00:00, 13.3MB/s]\n"
     ]
    }
   ],
   "source": [
    "adata = sq.datasets.visium_hne_adata()\n",
    "img = sq.datasets.visium_hne_image()"
   ]
  },
  {
   "cell_type": "code",
   "execution_count": 5,
   "id": "4d870bd0",
   "metadata": {},
   "outputs": [
    {
     "name": "stderr",
     "output_type": "stream",
     "text": [
      "WARNING: QXcbConnection: XCB error: 3 (BadWindow), sequence: 12129, resource id: 0, major code: 148 (Unknown), minor code: 3\n",
      "WARNING: QXcbConnection: XCB error: 9 (BadDrawable), sequence: 12130, resource id: 0, major code: 55 (CreateGC), minor code: 0\n",
      "WARNING: QXcbConnection: XCB error: 13 (BadGC), sequence: 12136, resource id: 46137909, major code: 60 (FreeGC), minor code: 0\n",
      "WARNING: QXcbConnection: XCB error: 13 (BadGC), sequence: 12137, resource id: 46137910, major code: 60 (FreeGC), minor code: 0\n",
      "WARNING: QXcbConnection: XCB error: 3 (BadWindow), sequence: 12139, resource id: 0, major code: 148 (Unknown), minor code: 3\n",
      "WARNING: QXcbConnection: XCB error: 9 (BadDrawable), sequence: 12140, resource id: 0, major code: 55 (CreateGC), minor code: 0\n",
      "WARNING: QXcbConnection: XCB error: 9 (BadDrawable), sequence: 12141, resource id: 0, major code: 55 (CreateGC), minor code: 0\n",
      "WARNING: QXcbConnection: XCB error: 3 (BadWindow), sequence: 12178, resource id: 0, major code: 148 (Unknown), minor code: 3\n",
      "WARNING: QXcbConnection: XCB error: 9 (BadDrawable), sequence: 12179, resource id: 0, major code: 55 (CreateGC), minor code: 0\n",
      "WARNING: QXcbConnection: XCB error: 13 (BadGC), sequence: 12185, resource id: 46137925, major code: 60 (FreeGC), minor code: 0\n",
      "WARNING: QXcbConnection: XCB error: 13 (BadGC), sequence: 12186, resource id: 46137926, major code: 60 (FreeGC), minor code: 0\n",
      "WARNING: QXcbConnection: XCB error: 3 (BadWindow), sequence: 12188, resource id: 0, major code: 148 (Unknown), minor code: 3\n",
      "WARNING: QXcbConnection: XCB error: 9 (BadDrawable), sequence: 12189, resource id: 0, major code: 55 (CreateGC), minor code: 0\n",
      "WARNING: QXcbConnection: XCB error: 9 (BadDrawable), sequence: 12190, resource id: 0, major code: 55 (CreateGC), minor code: 0\n",
      "WARNING: QXcbConnection: XCB error: 3 (BadWindow), sequence: 12286, resource id: 0, major code: 148 (Unknown), minor code: 3\n",
      "WARNING: QXcbConnection: XCB error: 9 (BadDrawable), sequence: 12287, resource id: 0, major code: 55 (CreateGC), minor code: 0\n",
      "WARNING: QXcbConnection: XCB error: 13 (BadGC), sequence: 12293, resource id: 46137952, major code: 60 (FreeGC), minor code: 0\n",
      "WARNING: QXcbConnection: XCB error: 13 (BadGC), sequence: 12294, resource id: 46137953, major code: 60 (FreeGC), minor code: 0\n",
      "WARNING: QXcbConnection: XCB error: 3 (BadWindow), sequence: 12296, resource id: 0, major code: 148 (Unknown), minor code: 3\n",
      "WARNING: QXcbConnection: XCB error: 9 (BadDrawable), sequence: 12297, resource id: 0, major code: 55 (CreateGC), minor code: 0\n",
      "WARNING: QXcbConnection: XCB error: 9 (BadDrawable), sequence: 12298, resource id: 0, major code: 55 (CreateGC), minor code: 0\n",
      "WARNING: QXcbConnection: XCB error: 3 (BadWindow), sequence: 12336, resource id: 0, major code: 148 (Unknown), minor code: 3\n",
      "WARNING: QXcbConnection: XCB error: 9 (BadDrawable), sequence: 12337, resource id: 0, major code: 55 (CreateGC), minor code: 0\n",
      "WARNING: QXcbConnection: XCB error: 13 (BadGC), sequence: 12343, resource id: 46137968, major code: 60 (FreeGC), minor code: 0\n",
      "WARNING: QXcbConnection: XCB error: 13 (BadGC), sequence: 12344, resource id: 46137969, major code: 60 (FreeGC), minor code: 0\n",
      "WARNING: QXcbConnection: XCB error: 3 (BadWindow), sequence: 12346, resource id: 0, major code: 148 (Unknown), minor code: 3\n",
      "WARNING: QXcbConnection: XCB error: 9 (BadDrawable), sequence: 12347, resource id: 0, major code: 55 (CreateGC), minor code: 0\n",
      "WARNING: QXcbConnection: XCB error: 9 (BadDrawable), sequence: 12348, resource id: 0, major code: 55 (CreateGC), minor code: 0\n",
      "WARNING: QXcbConnection: XCB error: 9 (BadDrawable), sequence: 12353, resource id: 0, major code: 72 (PutImage), minor code: 0\n",
      "WARNING: QXcbConnection: XCB error: 9 (BadDrawable), sequence: 12386, resource id: 0, major code: 72 (PutImage), minor code: 0\n",
      "WARNING: failed to create compose table\n",
      "/home/prakrithi/miniconda3/envs/squidpy/lib/python3.9/site-packages/numpy/core/numeric.py:2449: FutureWarning: elementwise comparison failed; returning scalar instead, but in the future will perform elementwise comparison\n",
      "  return bool(asarray(a1 == a2).all())\n"
     ]
    }
   ],
   "source": [
    "viewer = img.interactive(adata)"
   ]
  },
  {
   "cell_type": "code",
   "execution_count": null,
   "id": "0e45e5c0",
   "metadata": {},
   "outputs": [],
   "source": []
  },
  {
   "cell_type": "code",
   "execution_count": null,
   "id": "1c134888",
   "metadata": {},
   "outputs": [],
   "source": []
  },
  {
   "cell_type": "code",
   "execution_count": null,
   "id": "53fcbad7",
   "metadata": {},
   "outputs": [],
   "source": []
  },
  {
   "cell_type": "code",
   "execution_count": null,
   "id": "55e4846b",
   "metadata": {},
   "outputs": [],
   "source": []
  },
  {
   "cell_type": "code",
   "execution_count": null,
   "id": "179feb36",
   "metadata": {},
   "outputs": [],
   "source": []
  },
  {
   "cell_type": "code",
   "execution_count": null,
   "id": "de7baef3",
   "metadata": {},
   "outputs": [],
   "source": []
  },
  {
   "cell_type": "code",
   "execution_count": null,
   "id": "fcda7b1a",
   "metadata": {},
   "outputs": [],
   "source": []
  },
  {
   "cell_type": "code",
   "execution_count": null,
   "id": "3b011d8c",
   "metadata": {},
   "outputs": [],
   "source": []
  }
 ],
 "metadata": {
  "kernelspec": {
   "display_name": "Python 3 (ipykernel)",
   "language": "python",
   "name": "python3"
  },
  "language_info": {
   "codemirror_mode": {
    "name": "ipython",
    "version": 3
   },
   "file_extension": ".py",
   "mimetype": "text/x-python",
   "name": "python",
   "nbconvert_exporter": "python",
   "pygments_lexer": "ipython3",
   "version": "3.9.16"
  }
 },
 "nbformat": 4,
 "nbformat_minor": 5
}
