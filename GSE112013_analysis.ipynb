{
 "cells": [
  {
   "cell_type": "markdown",
   "id": "5226831f",
   "metadata": {},
   "source": [
    "# Loading Packages and Datasets"
   ]
  },
  {
   "cell_type": "code",
   "execution_count": 1,
   "id": "47927e28",
   "metadata": {},
   "outputs": [],
   "source": [
    "import numpy as np\n",
    "import pandas as pd\n",
    "import scanpy as sc\n",
    "import scrublet as scr\n",
    "import scipy.io\n",
    "import matplotlib.pyplot as plt\n",
    "import os\n",
    "import scvelo as scv\n",
    "import harmonypy as hm\n",
    "from matplotlib.pyplot import rc_context\n",
    "import re"
   ]
  },
  {
   "cell_type": "code",
   "execution_count": 2,
   "id": "46d1ad78",
   "metadata": {},
   "outputs": [],
   "source": [
    "sc.settings.set_figure_params(dpi=150,fontsize=8) #change global figure resolution\n"
   ]
  },
  {
   "cell_type": "code",
   "execution_count": 3,
   "id": "5b0c3488",
   "metadata": {},
   "outputs": [],
   "source": [
    "#load all dataset\n",
    "\n",
    "donor1_r1 = sc.read_h5ad(r'/nfs_master/prakrithi/abhay/testis_allfiles/GSE112013_SRR6860519_Donor1_rep1.h5ad')\n",
    "donor1_r2 = sc.read_h5ad(r'/nfs_master/prakrithi/abhay/testis_allfiles/GSE112013_SRR6860520_Donor1_rep2.h5ad')\n",
    "donor2_r1 = sc.read_h5ad(r'/nfs_master/prakrithi/abhay/testis_allfiles/GSE112013_SRR6860521_Donor2_rep1.h5ad')\n",
    "donor2_r2 = sc.read_h5ad(r'/nfs_master/prakrithi/abhay/testis_allfiles/GSE112013_SRR6860522_Donor2_rep2.h5ad')\n",
    "donor3_r1 = sc.read_h5ad(r'/nfs_master/prakrithi/abhay/testis_allfiles/GSE112013_SRR6860523_Donor3_rep1.h5ad')\n",
    "donor3_r2 = sc.read_h5ad(r'/nfs_master/prakrithi/abhay/testis_allfiles/GSE112013_SRR6860524_Donor3_rep2.h5ad')\n"
   ]
  },
  {
   "cell_type": "code",
   "execution_count": 4,
   "id": "ce9ffb52",
   "metadata": {},
   "outputs": [],
   "source": [
    "adata=donor1_r1.concatenate(donor1_r2,donor2_r1,donor2_r2,donor3_r1,donor3_r2,\n",
    "                            join=\"outer\",\n",
    "                            batch_categories=['Donor1_r1', 'Donor1_r2', 'Donor2_r1',\n",
    "                                              'Donor2_r2', 'Donor3_r1', 'Donor3_r2'],\n",
    "                           batch_key = \"samples\")"
   ]
  },
  {
   "cell_type": "code",
   "execution_count": 5,
   "id": "afceecc1",
   "metadata": {},
   "outputs": [
    {
     "data": {
      "text/plain": [
       "AnnData object with n_obs × n_vars = 45488 × 58389\n",
       "    obs: 'samples'"
      ]
     },
     "execution_count": 5,
     "metadata": {},
     "output_type": "execute_result"
    }
   ],
   "source": [
    "adata"
   ]
  },
  {
   "cell_type": "code",
   "execution_count": null,
   "id": "5a1c1cc8",
   "metadata": {},
   "outputs": [],
   "source": []
  },
  {
   "cell_type": "markdown",
   "id": "11564e83",
   "metadata": {},
   "source": [
    "# Add metadata for TE elements"
   ]
  },
  {
   "cell_type": "code",
   "execution_count": 6,
   "id": "0e094a7f",
   "metadata": {},
   "outputs": [],
   "source": [
    "#load list of human TEs\n",
    "all_te = pd.read_csv('/nfs_master/prakrithi/abhay/testis_scripts/extra_files/all_TE.csv')"
   ]
  },
  {
   "cell_type": "code",
   "execution_count": 7,
   "id": "21260b74",
   "metadata": {},
   "outputs": [],
   "source": [
    "all_te = all_te['All_TEs'].tolist()\n"
   ]
  },
  {
   "cell_type": "code",
   "execution_count": 8,
   "id": "1cd60222",
   "metadata": {},
   "outputs": [],
   "source": [
    "gene_list = list(adata.var.index)\n"
   ]
  },
  {
   "cell_type": "code",
   "execution_count": 9,
   "id": "28f74127",
   "metadata": {},
   "outputs": [],
   "source": [
    "te_list = list(set(all_te).intersection(gene_list))"
   ]
  },
  {
   "cell_type": "code",
   "execution_count": 10,
   "id": "b249ef75",
   "metadata": {},
   "outputs": [],
   "source": [
    "Alu  = list(filter(lambda x:'Alu' in x, te_list))\n",
    "AluY = list(filter(lambda x:'AluY' in x, te_list))\n",
    "L1   = list(filter(lambda x:'L1' in x, te_list))\n",
    "LINE = list(filter(lambda x:'LINE' in x, te_list))\n",
    "LTR  = list(filter(lambda x:'LTR' in x, te_list))\n",
    "SVA  = list(filter(lambda x:'SVA' in x, te_list))\n"
   ]
  },
  {
   "cell_type": "code",
   "execution_count": 11,
   "id": "48abb81c",
   "metadata": {},
   "outputs": [],
   "source": [
    "adata.obs['percent_TE']   = np.sum(adata[:, te_list].X, axis=1).A1 / np.sum(adata.X, axis=1).A1\n",
    "adata.obs['percent_Alu']  = np.sum(adata[:, Alu].X, axis=1).A1 / np.sum(adata.X, axis=1).A1\n",
    "adata.obs['percent_AluY'] = np.sum(adata[:, AluY].X, axis=1).A1 / np.sum(adata.X, axis=1).A1\n",
    "adata.obs['percent_L1']   = np.sum(adata[:, L1].X, axis=1).A1 / np.sum(adata.X, axis=1).A1\n",
    "adata.obs['percent_LINE'] = np.sum(adata[:, LINE].X, axis=1).A1 / np.sum(adata.X, axis=1).A1\n",
    "adata.obs['percent_LTR']  = np.sum(adata[:, LTR].X, axis=1).A1 / np.sum(adata.X, axis=1).A1\n",
    "adata.obs['percent_SVA']  = np.sum(adata[:, SVA].X, axis=1).A1 / np.sum(adata.X, axis=1).A1"
   ]
  },
  {
   "cell_type": "code",
   "execution_count": 12,
   "id": "a8d748cb",
   "metadata": {},
   "outputs": [
    {
     "data": {
      "text/html": [
       "<div>\n",
       "<style scoped>\n",
       "    .dataframe tbody tr th:only-of-type {\n",
       "        vertical-align: middle;\n",
       "    }\n",
       "\n",
       "    .dataframe tbody tr th {\n",
       "        vertical-align: top;\n",
       "    }\n",
       "\n",
       "    .dataframe thead th {\n",
       "        text-align: right;\n",
       "    }\n",
       "</style>\n",
       "<table border=\"1\" class=\"dataframe\">\n",
       "  <thead>\n",
       "    <tr style=\"text-align: right;\">\n",
       "      <th></th>\n",
       "      <th>samples</th>\n",
       "      <th>percent_TE</th>\n",
       "      <th>percent_Alu</th>\n",
       "      <th>percent_AluY</th>\n",
       "      <th>percent_L1</th>\n",
       "      <th>percent_LINE</th>\n",
       "      <th>percent_LTR</th>\n",
       "      <th>percent_SVA</th>\n",
       "    </tr>\n",
       "  </thead>\n",
       "  <tbody>\n",
       "    <tr>\n",
       "      <th>AAACCTGAGAAACCTA-1-Donor1_r1</th>\n",
       "      <td>Donor1_r1</td>\n",
       "      <td>0.310769</td>\n",
       "      <td>0.215581</td>\n",
       "      <td>0.034718</td>\n",
       "      <td>0.043784</td>\n",
       "      <td>0.000100</td>\n",
       "      <td>0.007920</td>\n",
       "      <td>0.001893</td>\n",
       "    </tr>\n",
       "    <tr>\n",
       "      <th>AAACCTGAGAAAGTGG-1-Donor1_r1</th>\n",
       "      <td>Donor1_r1</td>\n",
       "      <td>0.158619</td>\n",
       "      <td>0.110893</td>\n",
       "      <td>0.012914</td>\n",
       "      <td>0.020307</td>\n",
       "      <td>0.000094</td>\n",
       "      <td>0.001591</td>\n",
       "      <td>0.001778</td>\n",
       "    </tr>\n",
       "    <tr>\n",
       "      <th>AAACCTGAGACAAAGG-1-Donor1_r1</th>\n",
       "      <td>Donor1_r1</td>\n",
       "      <td>0.088608</td>\n",
       "      <td>0.070323</td>\n",
       "      <td>0.002813</td>\n",
       "      <td>0.004219</td>\n",
       "      <td>0.000000</td>\n",
       "      <td>0.000000</td>\n",
       "      <td>0.000000</td>\n",
       "    </tr>\n",
       "    <tr>\n",
       "      <th>AAACCTGAGACTGGGT-1-Donor1_r1</th>\n",
       "      <td>Donor1_r1</td>\n",
       "      <td>0.131544</td>\n",
       "      <td>0.100671</td>\n",
       "      <td>0.005369</td>\n",
       "      <td>0.005369</td>\n",
       "      <td>0.000000</td>\n",
       "      <td>0.001342</td>\n",
       "      <td>0.000000</td>\n",
       "    </tr>\n",
       "    <tr>\n",
       "      <th>AAACCTGAGATCCTGT-1-Donor1_r1</th>\n",
       "      <td>Donor1_r1</td>\n",
       "      <td>0.111072</td>\n",
       "      <td>0.065378</td>\n",
       "      <td>0.003163</td>\n",
       "      <td>0.006327</td>\n",
       "      <td>0.000000</td>\n",
       "      <td>0.003515</td>\n",
       "      <td>0.000000</td>\n",
       "    </tr>\n",
       "    <tr>\n",
       "      <th>...</th>\n",
       "      <td>...</td>\n",
       "      <td>...</td>\n",
       "      <td>...</td>\n",
       "      <td>...</td>\n",
       "      <td>...</td>\n",
       "      <td>...</td>\n",
       "      <td>...</td>\n",
       "      <td>...</td>\n",
       "    </tr>\n",
       "    <tr>\n",
       "      <th>TTTGTCAGTTCGGCAC-1-Donor3_r2</th>\n",
       "      <td>Donor3_r2</td>\n",
       "      <td>0.230022</td>\n",
       "      <td>0.142644</td>\n",
       "      <td>0.021658</td>\n",
       "      <td>0.041822</td>\n",
       "      <td>0.000000</td>\n",
       "      <td>0.003734</td>\n",
       "      <td>0.002240</td>\n",
       "    </tr>\n",
       "    <tr>\n",
       "      <th>TTTGTCAGTTCTCATT-1-Donor3_r2</th>\n",
       "      <td>Donor3_r2</td>\n",
       "      <td>0.064646</td>\n",
       "      <td>0.046465</td>\n",
       "      <td>0.002020</td>\n",
       "      <td>0.006061</td>\n",
       "      <td>0.000000</td>\n",
       "      <td>0.000000</td>\n",
       "      <td>0.000000</td>\n",
       "    </tr>\n",
       "    <tr>\n",
       "      <th>TTTGTCATCCTCTAGC-1-Donor3_r2</th>\n",
       "      <td>Donor3_r2</td>\n",
       "      <td>0.062385</td>\n",
       "      <td>0.055046</td>\n",
       "      <td>0.007339</td>\n",
       "      <td>0.001835</td>\n",
       "      <td>0.000000</td>\n",
       "      <td>0.000000</td>\n",
       "      <td>0.000000</td>\n",
       "    </tr>\n",
       "    <tr>\n",
       "      <th>TTTGTCATCCTGCCAT-1-Donor3_r2</th>\n",
       "      <td>Donor3_r2</td>\n",
       "      <td>0.266294</td>\n",
       "      <td>0.175047</td>\n",
       "      <td>0.018622</td>\n",
       "      <td>0.042365</td>\n",
       "      <td>0.000000</td>\n",
       "      <td>0.005587</td>\n",
       "      <td>0.000466</td>\n",
       "    </tr>\n",
       "    <tr>\n",
       "      <th>TTTGTCATCGTGGGAA-1-Donor3_r2</th>\n",
       "      <td>Donor3_r2</td>\n",
       "      <td>0.037545</td>\n",
       "      <td>0.018773</td>\n",
       "      <td>0.000722</td>\n",
       "      <td>0.000000</td>\n",
       "      <td>0.000000</td>\n",
       "      <td>0.003610</td>\n",
       "      <td>0.000000</td>\n",
       "    </tr>\n",
       "  </tbody>\n",
       "</table>\n",
       "<p>45488 rows × 8 columns</p>\n",
       "</div>"
      ],
      "text/plain": [
       "                                samples  percent_TE  percent_Alu  \\\n",
       "AAACCTGAGAAACCTA-1-Donor1_r1  Donor1_r1    0.310769     0.215581   \n",
       "AAACCTGAGAAAGTGG-1-Donor1_r1  Donor1_r1    0.158619     0.110893   \n",
       "AAACCTGAGACAAAGG-1-Donor1_r1  Donor1_r1    0.088608     0.070323   \n",
       "AAACCTGAGACTGGGT-1-Donor1_r1  Donor1_r1    0.131544     0.100671   \n",
       "AAACCTGAGATCCTGT-1-Donor1_r1  Donor1_r1    0.111072     0.065378   \n",
       "...                                 ...         ...          ...   \n",
       "TTTGTCAGTTCGGCAC-1-Donor3_r2  Donor3_r2    0.230022     0.142644   \n",
       "TTTGTCAGTTCTCATT-1-Donor3_r2  Donor3_r2    0.064646     0.046465   \n",
       "TTTGTCATCCTCTAGC-1-Donor3_r2  Donor3_r2    0.062385     0.055046   \n",
       "TTTGTCATCCTGCCAT-1-Donor3_r2  Donor3_r2    0.266294     0.175047   \n",
       "TTTGTCATCGTGGGAA-1-Donor3_r2  Donor3_r2    0.037545     0.018773   \n",
       "\n",
       "                              percent_AluY  percent_L1  percent_LINE  \\\n",
       "AAACCTGAGAAACCTA-1-Donor1_r1      0.034718    0.043784      0.000100   \n",
       "AAACCTGAGAAAGTGG-1-Donor1_r1      0.012914    0.020307      0.000094   \n",
       "AAACCTGAGACAAAGG-1-Donor1_r1      0.002813    0.004219      0.000000   \n",
       "AAACCTGAGACTGGGT-1-Donor1_r1      0.005369    0.005369      0.000000   \n",
       "AAACCTGAGATCCTGT-1-Donor1_r1      0.003163    0.006327      0.000000   \n",
       "...                                    ...         ...           ...   \n",
       "TTTGTCAGTTCGGCAC-1-Donor3_r2      0.021658    0.041822      0.000000   \n",
       "TTTGTCAGTTCTCATT-1-Donor3_r2      0.002020    0.006061      0.000000   \n",
       "TTTGTCATCCTCTAGC-1-Donor3_r2      0.007339    0.001835      0.000000   \n",
       "TTTGTCATCCTGCCAT-1-Donor3_r2      0.018622    0.042365      0.000000   \n",
       "TTTGTCATCGTGGGAA-1-Donor3_r2      0.000722    0.000000      0.000000   \n",
       "\n",
       "                              percent_LTR  percent_SVA  \n",
       "AAACCTGAGAAACCTA-1-Donor1_r1     0.007920     0.001893  \n",
       "AAACCTGAGAAAGTGG-1-Donor1_r1     0.001591     0.001778  \n",
       "AAACCTGAGACAAAGG-1-Donor1_r1     0.000000     0.000000  \n",
       "AAACCTGAGACTGGGT-1-Donor1_r1     0.001342     0.000000  \n",
       "AAACCTGAGATCCTGT-1-Donor1_r1     0.003515     0.000000  \n",
       "...                                   ...          ...  \n",
       "TTTGTCAGTTCGGCAC-1-Donor3_r2     0.003734     0.002240  \n",
       "TTTGTCAGTTCTCATT-1-Donor3_r2     0.000000     0.000000  \n",
       "TTTGTCATCCTCTAGC-1-Donor3_r2     0.000000     0.000000  \n",
       "TTTGTCATCCTGCCAT-1-Donor3_r2     0.005587     0.000466  \n",
       "TTTGTCATCGTGGGAA-1-Donor3_r2     0.003610     0.000000  \n",
       "\n",
       "[45488 rows x 8 columns]"
      ]
     },
     "execution_count": 12,
     "metadata": {},
     "output_type": "execute_result"
    }
   ],
   "source": [
    "adata.obs"
   ]
  },
  {
   "cell_type": "code",
   "execution_count": 13,
   "id": "627118a5",
   "metadata": {},
   "outputs": [
    {
     "data": {
      "text/html": [
       "<div>\n",
       "<style scoped>\n",
       "    .dataframe tbody tr th:only-of-type {\n",
       "        vertical-align: middle;\n",
       "    }\n",
       "\n",
       "    .dataframe tbody tr th {\n",
       "        vertical-align: top;\n",
       "    }\n",
       "\n",
       "    .dataframe thead th {\n",
       "        text-align: right;\n",
       "    }\n",
       "</style>\n",
       "<table border=\"1\" class=\"dataframe\">\n",
       "  <thead>\n",
       "    <tr style=\"text-align: right;\">\n",
       "      <th></th>\n",
       "    </tr>\n",
       "  </thead>\n",
       "  <tbody>\n",
       "    <tr>\n",
       "      <th>AluSq10</th>\n",
       "    </tr>\n",
       "    <tr>\n",
       "      <th>AluSg7</th>\n",
       "    </tr>\n",
       "    <tr>\n",
       "      <th>AluY</th>\n",
       "    </tr>\n",
       "    <tr>\n",
       "      <th>AluYg6</th>\n",
       "    </tr>\n",
       "    <tr>\n",
       "      <th>AluSq4</th>\n",
       "    </tr>\n",
       "    <tr>\n",
       "      <th>AluYf1</th>\n",
       "    </tr>\n",
       "    <tr>\n",
       "      <th>AluYb9</th>\n",
       "    </tr>\n",
       "    <tr>\n",
       "      <th>AluSc</th>\n",
       "    </tr>\n",
       "    <tr>\n",
       "      <th>AluYe5</th>\n",
       "    </tr>\n",
       "    <tr>\n",
       "      <th>AluSp</th>\n",
       "    </tr>\n",
       "    <tr>\n",
       "      <th>AluSx1</th>\n",
       "    </tr>\n",
       "    <tr>\n",
       "      <th>AluSx</th>\n",
       "    </tr>\n",
       "    <tr>\n",
       "      <th>AluSq</th>\n",
       "    </tr>\n",
       "    <tr>\n",
       "      <th>AluSg</th>\n",
       "    </tr>\n",
       "    <tr>\n",
       "      <th>AluYk12</th>\n",
       "    </tr>\n",
       "    <tr>\n",
       "      <th>AluJr</th>\n",
       "    </tr>\n",
       "    <tr>\n",
       "      <th>AluSq2</th>\n",
       "    </tr>\n",
       "    <tr>\n",
       "      <th>AluJo</th>\n",
       "    </tr>\n",
       "    <tr>\n",
       "      <th>AluYa8</th>\n",
       "    </tr>\n",
       "    <tr>\n",
       "      <th>AluJr4</th>\n",
       "    </tr>\n",
       "    <tr>\n",
       "      <th>AluSx4</th>\n",
       "    </tr>\n",
       "    <tr>\n",
       "      <th>AluSc5</th>\n",
       "    </tr>\n",
       "    <tr>\n",
       "      <th>AluJb</th>\n",
       "    </tr>\n",
       "    <tr>\n",
       "      <th>AluSz6</th>\n",
       "    </tr>\n",
       "    <tr>\n",
       "      <th>AluYi6</th>\n",
       "    </tr>\n",
       "    <tr>\n",
       "      <th>AluSx3</th>\n",
       "    </tr>\n",
       "    <tr>\n",
       "      <th>AluSz</th>\n",
       "    </tr>\n",
       "    <tr>\n",
       "      <th>AluSc8</th>\n",
       "    </tr>\n",
       "    <tr>\n",
       "      <th>AluYd8</th>\n",
       "    </tr>\n",
       "    <tr>\n",
       "      <th>AluSg4</th>\n",
       "    </tr>\n",
       "    <tr>\n",
       "      <th>AluYh9</th>\n",
       "    </tr>\n",
       "    <tr>\n",
       "      <th>AluYa5</th>\n",
       "    </tr>\n",
       "    <tr>\n",
       "      <th>AluYb8</th>\n",
       "    </tr>\n",
       "    <tr>\n",
       "      <th>AluYk11</th>\n",
       "    </tr>\n",
       "  </tbody>\n",
       "</table>\n",
       "</div>"
      ],
      "text/plain": [
       "Empty DataFrameView\n",
       "Columns: []\n",
       "Index: [AluSq10, AluSg7, AluY, AluYg6, AluSq4, AluYf1, AluYb9, AluSc, AluYe5, AluSp, AluSx1, AluSx, AluSq, AluSg, AluYk12, AluJr, AluSq2, AluJo, AluYa8, AluJr4, AluSx4, AluSc5, AluJb, AluSz6, AluYi6, AluSx3, AluSz, AluSc8, AluYd8, AluSg4, AluYh9, AluYa5, AluYb8, AluYk11]"
      ]
     },
     "execution_count": 13,
     "metadata": {},
     "output_type": "execute_result"
    }
   ],
   "source": [
    "adata[:,Alu].var"
   ]
  },
  {
   "cell_type": "code",
   "execution_count": null,
   "id": "bf421a82",
   "metadata": {},
   "outputs": [],
   "source": []
  },
  {
   "cell_type": "markdown",
   "id": "fe97e09d",
   "metadata": {},
   "source": [
    "# Doublet Removal"
   ]
  },
  {
   "cell_type": "code",
   "execution_count": 14,
   "id": "0dbf600e",
   "metadata": {},
   "outputs": [
    {
     "name": "stdout",
     "output_type": "stream",
     "text": [
      "Preprocessing...\n",
      "Simulating doublets...\n",
      "Embedding transcriptomes using PCA...\n",
      "Calculating doublet scores...\n",
      "Warning: failed to automatically identify doublet score threshold. Run `call_doublets` with user-specified threshold.\n",
      "Elapsed time: 116.2 seconds\n"
     ]
    }
   ],
   "source": [
    "counts_matrix = adata.X\n",
    "genes = adata.var_names\n",
    "scrub = scr.Scrublet(counts_matrix, expected_doublet_rate=0.06)\n",
    "doublet_scores, predicted_doublets = scrub.scrub_doublets(min_counts=2, \n",
    "                                                         min_cells=3,\n",
    "                                                         min_gene_variability_pctl=85,\n",
    "                                                         n_prin_comps=30)\n"
   ]
  },
  {
   "cell_type": "code",
   "execution_count": 15,
   "id": "312fea48",
   "metadata": {},
   "outputs": [
    {
     "name": "stdout",
     "output_type": "stream",
     "text": [
      "Detected doublet rate = 0.6%\n",
      "Estimated detectable doublet fraction = 7.0%\n",
      "Overall doublet rate:\n",
      "\tExpected   = 6.0%\n",
      "\tEstimated  = 8.5%\n"
     ]
    }
   ],
   "source": [
    "scrub.call_doublets(threshold=0.25)\n",
    "adata.obs['doublet']=doublet_scores\n",
    "adata.obs['predicted']=predicted_doublets\n",
    "scrub.plot_histogram();\n",
    "adata = adata[adata.obs['doublet'] < 0.25, :]"
   ]
  },
  {
   "cell_type": "code",
   "execution_count": null,
   "id": "63a39401",
   "metadata": {},
   "outputs": [],
   "source": []
  },
  {
   "cell_type": "markdown",
   "id": "ca66416d",
   "metadata": {},
   "source": [
    "# Calculating QC "
   ]
  },
  {
   "cell_type": "markdown",
   "id": "ce9cb8ab",
   "metadata": {},
   "source": [
    "#### Basic filtering"
   ]
  },
  {
   "cell_type": "code",
   "execution_count": null,
   "id": "7faa2896",
   "metadata": {},
   "outputs": [],
   "source": [
    "sc.pp.filter_cells(adata, min_genes=500)\n",
    "sc.pp.filter_genes(adata, min_cells=3)"
   ]
  },
  {
   "cell_type": "code",
   "execution_count": null,
   "id": "f716d3ca",
   "metadata": {},
   "outputs": [],
   "source": [
    "mito_genes = adata.var_names.str.startswith('MT-')\n",
    "adata.obs['percent_mito'] = np.sum(adata[:, mito_genes].X, axis=1).A1 / np.sum(adata.X, axis=1).A1"
   ]
  },
  {
   "cell_type": "code",
   "execution_count": null,
   "id": "dc5b9e3a",
   "metadata": {},
   "outputs": [],
   "source": [
    "ribo_genes = adata.var_names.str.startswith('RBS','RPL')\n",
    "adata.obs['percent_ribo'] = np.sum(adata[:, ribo_genes].X, axis=1).A1 / np.sum(adata.X, axis=1).A1"
   ]
  },
  {
   "cell_type": "code",
   "execution_count": null,
   "id": "495595ae",
   "metadata": {},
   "outputs": [],
   "source": [
    "sc.pp.calculate_qc_metrics(adata, percent_top=None, log1p=False, inplace=True)"
   ]
  },
  {
   "cell_type": "code",
   "execution_count": null,
   "id": "a470ec9b",
   "metadata": {},
   "outputs": [],
   "source": [
    "sc.pl.violin(adata, ['n_genes_by_counts', 'total_counts', 'percent_mito', 'percent_ribo'],\n",
    "             jitter=0.4, multi_panel=True)\n",
    "\n",
    "plt.savefig(pre-filter_violin.png)"
   ]
  },
  {
   "cell_type": "code",
   "execution_count": null,
   "id": "6f65485e",
   "metadata": {},
   "outputs": [],
   "source": [
    "sc.pl.scatter(adata, x='total_counts', y='percent_mito')\n",
    "sc.pl.scatter(adata, x='total_counts', y='n_genes_by_counts')\n"
   ]
  },
  {
   "cell_type": "code",
   "execution_count": null,
   "id": "8e97e9cb",
   "metadata": {},
   "outputs": [],
   "source": [
    "print(adata)"
   ]
  },
  {
   "cell_type": "code",
   "execution_count": null,
   "id": "85dc8871",
   "metadata": {},
   "outputs": [],
   "source": [
    "adata.obs"
   ]
  },
  {
   "cell_type": "code",
   "execution_count": null,
   "id": "5c33d34c",
   "metadata": {},
   "outputs": [],
   "source": []
  },
  {
   "cell_type": "markdown",
   "id": "3ef8283c",
   "metadata": {},
   "source": [
    "# Filtering Data"
   ]
  },
  {
   "cell_type": "markdown",
   "id": "33104982",
   "metadata": {},
   "source": [
    "#### Filtering based on mito and ribosomal content"
   ]
  },
  {
   "cell_type": "code",
   "execution_count": null,
   "id": "71dc34b2",
   "metadata": {},
   "outputs": [],
   "source": [
    "adata2 = adata[adata.obs.n_genes < 4000, :]\n",
    "adata2 "
   ]
  },
  {
   "cell_type": "code",
   "execution_count": null,
   "id": "c3fd7b97",
   "metadata": {},
   "outputs": [],
   "source": [
    "adata2 = adata2[adata2.obs.percent_mito < 0.2, :]\n",
    "adata2"
   ]
  },
  {
   "cell_type": "code",
   "execution_count": null,
   "id": "a294a977",
   "metadata": {},
   "outputs": [],
   "source": [
    "sc.pl.violin(adata2, ['n_genes_by_counts', 'total_counts', 'percent_mito', 'percent_ribo'],\n",
    "             jitter=0.4, multi_panel=True)"
   ]
  },
  {
   "cell_type": "code",
   "execution_count": null,
   "id": "986806f1",
   "metadata": {},
   "outputs": [],
   "source": [
    "sc.pp.normalize_total(adata2, target_sum=1e4)"
   ]
  },
  {
   "cell_type": "code",
   "execution_count": null,
   "id": "67f7ca1c",
   "metadata": {},
   "outputs": [],
   "source": [
    "sc.pp.log1p(adata2)"
   ]
  },
  {
   "cell_type": "code",
   "execution_count": null,
   "id": "1de23a0d",
   "metadata": {},
   "outputs": [],
   "source": [
    "adata2.raw=adata2"
   ]
  },
  {
   "cell_type": "code",
   "execution_count": null,
   "id": "f177cb47",
   "metadata": {},
   "outputs": [],
   "source": []
  },
  {
   "cell_type": "markdown",
   "id": "2a7efbe3",
   "metadata": {},
   "source": [
    "# Dimensionality Reduction"
   ]
  },
  {
   "cell_type": "markdown",
   "id": "69a5114e",
   "metadata": {},
   "source": [
    "#### Calculate highly variable genes"
   ]
  },
  {
   "cell_type": "code",
   "execution_count": null,
   "id": "77d19eec",
   "metadata": {},
   "outputs": [],
   "source": [
    "sc.pp.highly_variable_genes(adata2,n_top_genes=3000)"
   ]
  },
  {
   "cell_type": "code",
   "execution_count": null,
   "id": "8f2dce91",
   "metadata": {},
   "outputs": [],
   "source": [
    "adata_hvg = adata2[:, adata2.var['highly_variable']].copy()"
   ]
  },
  {
   "cell_type": "code",
   "execution_count": null,
   "id": "cdeda6f1",
   "metadata": {},
   "outputs": [],
   "source": [
    "sc.tl.pca(adata_hvg, svd_solver='arpack', n_comps=100)"
   ]
  },
  {
   "cell_type": "code",
   "execution_count": null,
   "id": "33558085",
   "metadata": {},
   "outputs": [],
   "source": [
    "sc.pp.neighbors(adata_hvg,n_neighbors=30)"
   ]
  },
  {
   "cell_type": "code",
   "execution_count": null,
   "id": "ffd3ed5c",
   "metadata": {},
   "outputs": [],
   "source": [
    "sc.tl.umap(adata_hvg,spread=0.7,min_dist=0.2)"
   ]
  },
  {
   "cell_type": "code",
   "execution_count": null,
   "id": "3e600f44",
   "metadata": {},
   "outputs": [],
   "source": [
    "sc.tl.leiden(adata_hvg,resolution=0.30,n_iterations=-1)"
   ]
  },
  {
   "cell_type": "code",
   "execution_count": null,
   "id": "d53f86ef",
   "metadata": {},
   "outputs": [],
   "source": [
    "sc.pl.pca_variance_ratio(adata_hvg, log=False)"
   ]
  },
  {
   "cell_type": "code",
   "execution_count": null,
   "id": "bef8ea2b",
   "metadata": {},
   "outputs": [],
   "source": [
    "sc.pl.umap(adata_hvg,color=[\"leiden\"],cmap=\"plasma_r\")\n",
    "sc.pl.umap(adata_hvg,color=[\"samples\"],cmap=\"plasma_r\")"
   ]
  },
  {
   "cell_type": "code",
   "execution_count": null,
   "id": "52483bfb",
   "metadata": {},
   "outputs": [],
   "source": [
    "sc.tl.rank_genes_groups(adata_hvg,pts=True,groupby='leiden',n_genes=100,method='wilcoxon',corr_method='bonferroni')"
   ]
  },
  {
   "cell_type": "code",
   "execution_count": null,
   "id": "d358b144",
   "metadata": {},
   "outputs": [],
   "source": [
    "sc.tl.dendrogram(adata_hvg,groupby=\"leiden\")"
   ]
  },
  {
   "cell_type": "code",
   "execution_count": null,
   "id": "67bac308",
   "metadata": {},
   "outputs": [],
   "source": [
    "with rc_context({'figure.figsize': (8, 8)}):\n",
    "    sc.pl.rank_genes_groups_dotplot(adata_hvg,n_genes=7,\n",
    "                                    groupby=\"leiden\",color_map=\"plasma_r\")"
   ]
  },
  {
   "cell_type": "code",
   "execution_count": null,
   "id": "c5b78f32",
   "metadata": {},
   "outputs": [],
   "source": []
  },
  {
   "cell_type": "markdown",
   "id": "87cbc1a7",
   "metadata": {},
   "source": [
    "# Cluster Annotation"
   ]
  },
  {
   "cell_type": "code",
   "execution_count": null,
   "id": "08259061",
   "metadata": {},
   "outputs": [],
   "source": [
    "# Main markers for clustering at resolution = 0.30\n",
    "\n",
    "macrophage_markers = ['CD14', 'CD163', 'S100A4'] # Cluster 6\n",
    "endothelial_markers = ['PALMD', 'VWF', 'CDH5'] # Cluster 7\n",
    "other=['RBP1', 'INSL3', 'MYL9'] #cluster 9 missing\n",
    "lydig_markers = ['DLK1','IGF1','CFD'] # Cluster 1\n",
    "myoid_markers = ['MYH11','ACTA2', \"TPM1\"] # Cluster 4\n",
    "spermatid_markers = ['SPATA18', 'HOOK1', 'SPATA12'] #cluster 0 and 3\n",
    "sertoli_markers = ['SOX9', 'WT1', 'HMGN5'] # cluster 8\n",
    "immature_spermatid_markers = ['ZPBP', 'ZPBP2', 'SPAG6'] # Cluster 2\n",
    "spermatogonia_markers = ['UTF1', 'ID4', 'SOHLH1'] # Cluster 4\n",
    "\n",
    "# spermatocytes ??\n",
    "# what is cluster 9 ??"
   ]
  },
  {
   "cell_type": "code",
   "execution_count": null,
   "id": "7b665a00",
   "metadata": {},
   "outputs": [],
   "source": [
    "all_markers = macrophage_markers + endothelial_markers + other + lydig_markers + myoid_markers + spermatid_markers + sertoli_markers + immature_spermatid_markers + spermatogonia_markers\n",
    "\n",
    "niche_markers = macrophage_markers + endothelial_markers + other + lydig_markers + myoid_markers + sertoli_markers\n",
    "\n",
    "germcell_markers = spermatid_markers + immature_spermatid_markers + spermatogonia_markers"
   ]
  },
  {
   "cell_type": "code",
   "execution_count": null,
   "id": "f5c972dc",
   "metadata": {},
   "outputs": [],
   "source": [
    "sc.pl.dotplot(adata_hvg, all_markers, groupby='leiden', dendrogram=True)\n",
    "plt.savefig('GSE112013-test-umap.png')\n",
    "\n",
    "#spermatids    : 1,3\n",
    "#macrophage    : 6\n",
    "#endothelial   : 7\n",
    "#lydig         : 0\n",
    "#myoid         : 0\n",
    "#sertoli.      : 8\n",
    "#imm_sperm     : 2\n",
    "#spermatogonia : 4\n",
    "#unknown       : 5\n",
    "\n"
   ]
  },
  {
   "cell_type": "code",
   "execution_count": null,
   "id": "9c8c2394",
   "metadata": {},
   "outputs": [],
   "source": [
    "label_dict = {'0': 'Spermatids',\n",
    "              '1': 'Lydig_cells',\n",
    "              '2': 'Immature_sperm_cells',\n",
    "              '3': \"Spermatids_2\",\n",
    "              '4': \"Myoid_cells\",\n",
    "              '5': \"Spermatogonia\",\n",
    "              '6': \"Macrophages\",\n",
    "              '7': \"Endothelial_cells\",\n",
    "              '8': \"Sertoli_cells\",\n",
    "              '9': \"Unknown\"}\n",
    "adata_hvg.obs['clusters'] = adata_hvg.obs['leiden'].map(label_dict).astype('category')\n"
   ]
  },
  {
   "cell_type": "code",
   "execution_count": null,
   "id": "4e18a5a5",
   "metadata": {},
   "outputs": [],
   "source": [
    "SVA_DEG = ['SVA_B', 'SVA_A', 'SVA_F', 'SVA_E', 'SVA_D', 'SVA_C']"
   ]
  },
  {
   "cell_type": "code",
   "execution_count": null,
   "id": "09a9715b",
   "metadata": {},
   "outputs": [],
   "source": [
    "sc.pl.umap(adata_hvg,color=[\"clusters\"],cmap=\"plasma_r\")\n",
    "\n",
    "sc.pl.umap(adata_hvg,color=[\"Alu\" ],cmap=\"plasma_r\")\n",
    "sc.pl.umap(adata_hvg,color=[\"AluY\"],cmap=\"plasma_r\")\n",
    "#sc.pl.umap(adata_hvg,color=[\"L1\"],cmap=\"plasma_r\")\n",
    "#sc.pl.umap(adata_hvg,color=[\"LINE\"],cmap=\"plasma_r\")\n",
    "#sc.pl.umap(adata_hvg,color=[\"LTR\" ],cmap=\"plasma_r\")\n",
    "#sc.pl.umap(adata_hvg,color=[\"SVA\" ],cmap=\"plasma_r\")\n",
    "plt.savefig('GSE112013-umap.png')\n"
   ]
  },
  {
   "cell_type": "code",
   "execution_count": null,
   "id": "b79787d5",
   "metadata": {},
   "outputs": [],
   "source": [
    "sc.pl.dotplot(adata_hvg, all_markers, groupby='clusters', dendrogram=True)\n",
    "plt.savefig('GSE112013-dotplot.png')"
   ]
  },
  {
   "cell_type": "code",
   "execution_count": null,
   "id": "e8695810",
   "metadata": {},
   "outputs": [],
   "source": [
    "sc.pl.correlation_matrix(adata_hvg, 'clusters', figsize=(5,3.5))"
   ]
  },
  {
   "cell_type": "code",
   "execution_count": null,
   "id": "c12735f7",
   "metadata": {},
   "outputs": [],
   "source": [
    "sc.pl.dotplot(adata_hvg, Alu, groupby='clusters', dendrogram=True)"
   ]
  },
  {
   "cell_type": "code",
   "execution_count": null,
   "id": "3d82ec7f",
   "metadata": {},
   "outputs": [],
   "source": [
    "sc.pl.dotplot(adata_hvg, AluY, groupby='clusters', dendrogram=True)"
   ]
  },
  {
   "cell_type": "code",
   "execution_count": null,
   "id": "1f1b478c",
   "metadata": {},
   "outputs": [],
   "source": [
    "Alu_int = ['AluJr', 'AluJo', 'AluJb', 'AluSz6', 'AluSx1', \"AluSz\", \"AluSq\", \"AluSx4\"] + AluY[0:5] + AluY[6:-1]\n",
    "sc.pl.dotplot(adata_hvg, Alu_int, groupby='clusters', dendrogram=True)"
   ]
  },
  {
   "cell_type": "code",
   "execution_count": null,
   "id": "75ba10f8",
   "metadata": {},
   "outputs": [],
   "source": [
    "sc.pl.dotplot(adata_hvg, L1, groupby='clusters', dendrogram=True)\n",
    "sc.pl.dotplot(adata_hvg, L1[5:10], groupby='clusters', dendrogram=True)"
   ]
  },
  {
   "cell_type": "code",
   "execution_count": null,
   "id": "696939ef",
   "metadata": {},
   "outputs": [],
   "source": [
    "LTR_1 = LTR[0:60]\n",
    "LTR_2 = LTR[61:120]\n",
    "LTR_3 = LTR[121:180]\n",
    "LTR_4 = LTR[181:242]"
   ]
  },
  {
   "cell_type": "code",
   "execution_count": null,
   "id": "8ebe4dc5",
   "metadata": {},
   "outputs": [],
   "source": [
    "sc.pl.dotplot(adata_hvg, LTR_1, groupby='clusters', dendrogram=True)\n",
    "sc.pl.dotplot(adata_hvg, LTR_2, groupby='clusters', dendrogram=True)\n",
    "sc.pl.dotplot(adata_hvg, LTR_3, groupby='clusters', dendrogram=True)\n",
    "sc.pl.dotplot(adata_hvg, LTR_4, groupby='clusters', dendrogram=True)"
   ]
  },
  {
   "cell_type": "code",
   "execution_count": null,
   "id": "f2b86b40",
   "metadata": {},
   "outputs": [],
   "source": [
    "sc.pl.dotplot(adata_hvg, LINE, groupby='clusters', dendrogram=True)"
   ]
  },
  {
   "cell_type": "code",
   "execution_count": null,
   "id": "b711947c",
   "metadata": {},
   "outputs": [],
   "source": [
    "sc.pl.dotplot(adata_hvg, SVA, groupby='clusters', dendrogram=True)"
   ]
  },
  {
   "cell_type": "code",
   "execution_count": null,
   "id": "ea6bba4d",
   "metadata": {},
   "outputs": [],
   "source": [
    "sc.pl.umap(adata_hvg,color=[\"clusters\"],cmap=\"plasma_r\")\n",
    "\n",
    "sc.pl.umap(adata_hvg,color=[\"Alu\" ],cmap=\"plasma_r\")\n",
    "sc.pl.umap(adata_hvg,color=[\"AluY\"],cmap=\"plasma_r\")\n",
    "#sc.pl.umap(adata_hvg,color=[\"L1\"],cmap=\"plasma_r\")\n",
    "#sc.pl.umap(adata_hvg,color=[\"LINE\"],cmap=\"plasma_r\")\n",
    "#sc.pl.umap(adata_hvg,color=[\"LTR\" ],cmap=\"plasma_r\")\n",
    "#sc.pl.umap(adata_hvg,color=[\"SVA\" ],cmap=\"plasma_r\")\n"
   ]
  },
  {
   "cell_type": "code",
   "execution_count": null,
   "id": "0746f70d",
   "metadata": {},
   "outputs": [],
   "source": [
    "sub_adata = sc.pp.subsample[adata_hvg]\n",
    "sub_adata"
   ]
  },
  {
   "cell_type": "markdown",
   "id": "e7715dcf",
   "metadata": {},
   "source": [
    "# Save objects for subclustering"
   ]
  },
  {
   "cell_type": "code",
   "execution_count": null,
   "id": "bbdbe2cb",
   "metadata": {},
   "outputs": [],
   "source": [
    "#Subsetting for subclustering\n",
    "\n",
    "germ_cells = adata_hvg[adata_hvg.obs['clusters'].isin(['Spermatids','Immature_sperm_cells', 'Spermatids_2', 'Spermatogonia'])]\n",
    "niche_cells = adata_hvg[adata_hvg.obs['clusters'].isin(['Lydig_cells','Myoid_cells', 'Macrophages', 'Endothelial_cells', 'Sertoli_cells', 'Unknown'])]"
   ]
  },
  {
   "cell_type": "code",
   "execution_count": null,
   "id": "ad1048c0",
   "metadata": {},
   "outputs": [],
   "source": [
    "germ_cells"
   ]
  },
  {
   "cell_type": "code",
   "execution_count": null,
   "id": "88beeb95",
   "metadata": {},
   "outputs": [],
   "source": [
    "!pwd"
   ]
  },
  {
   "cell_type": "code",
   "execution_count": null,
   "id": "4e5ac397",
   "metadata": {},
   "outputs": [],
   "source": [
    "germ_cells.write_h5ad(\"/home/user/abhay/scTE_gonads/GSE112013/donor/GSE112013_germ_cells.h5ad\")"
   ]
  },
  {
   "cell_type": "code",
   "execution_count": null,
   "id": "1be58218",
   "metadata": {},
   "outputs": [],
   "source": [
    "niche_cells.write_h5ad(\"/home/user/abhay/scTE_gonads/GSE112013/donor/GSE112013_niche_cells.h5ad\")"
   ]
  },
  {
   "cell_type": "code",
   "execution_count": null,
   "id": "5a26aa7f",
   "metadata": {},
   "outputs": [],
   "source": []
  },
  {
   "cell_type": "code",
   "execution_count": null,
   "id": "75559f35",
   "metadata": {},
   "outputs": [],
   "source": []
  },
  {
   "cell_type": "markdown",
   "id": "90108537",
   "metadata": {},
   "source": [
    "# Marker Analysis"
   ]
  },
  {
   "cell_type": "code",
   "execution_count": null,
   "id": "10e1c6ce",
   "metadata": {},
   "outputs": [],
   "source": [
    "somatic_markers = ['VIM']\n",
    "\n",
    "stemcell_markers = ['GFRA1', 'FGFR3', 'ETV5', 'ID4', 'UTF1', 'ZBTB16']\n",
    "\n",
    "diff_prolif = ['KIT', 'DMRT1', 'MKI67', 'SOHLH1', 'SOHLH2']\n",
    "\n",
    "meosis = ['CHEK1', 'BRCA1', 'SPO11', 'DMC1', 'ATM'] #, 'SYCP1', 'SYCP2'\n",
    "\n",
    "mitochondrial_translation = ['MRPL2','MRPL3','MRPL14','MRPL17','MRPL21','MRPL22']\n",
    "\n",
    "gametogenesis = stemcell_markers + diff_prolif + meosis "
   ]
  },
  {
   "cell_type": "code",
   "execution_count": null,
   "id": "1c6f9b3d",
   "metadata": {},
   "outputs": [],
   "source": [
    "sc.pl.dotplot(adata_hvg, gametogenesis, groupby='clusters', dendrogram=True)"
   ]
  },
  {
   "cell_type": "code",
   "execution_count": null,
   "id": "7a398473",
   "metadata": {},
   "outputs": [],
   "source": [
    "sc.pl.umap(adata_hvg,color=stemcell_markers,cmap=\"plasma_r\")\n",
    "sc.pl.umap(adata_hvg,color=diff_prolif,cmap=\"plasma_r\")\n",
    "sc.pl.umap(adata_hvg,color=meosis,cmap=\"plasma_r\")\n",
    "sc.pl.umap(adata_hvg,color=mitochondrial_translation,cmap=\"plasma_r\")"
   ]
  },
  {
   "cell_type": "code",
   "execution_count": null,
   "id": "d26fa565",
   "metadata": {},
   "outputs": [],
   "source": [
    "sc.pl.umap(adata_hvg,color=[\"clusters\"],cmap=\"plasma_r\")"
   ]
  },
  {
   "cell_type": "markdown",
   "id": "d5ad616a",
   "metadata": {},
   "source": [
    "# Marker lit review"
   ]
  },
  {
   "cell_type": "code",
   "execution_count": null,
   "id": "1e25e7e0",
   "metadata": {},
   "outputs": [],
   "source": [
    "# More relevant markers\n",
    "\n",
    "# markers = ['CD163','S100A4','CD14',  #Macrophages\n",
    "#            'PECAM1','VWF','CDH5',    #Endothelial cells\n",
    "#            'MYH11','ACTA2','TPM4',   #Myoid cells\n",
    "#            'SOX9','WFDC2','BEX2',    #Sertoli cells\n",
    "#            'DLK1','IGF1','CFD',      #Leydig cells\n",
    "#            'UTF1','ID4','FGFR3',\n",
    "#            'KIT', 'STRA8',\n",
    "#            'TNP1', 'PRM2', 'ZPBP',\n",
    "#            'SYCP3', 'SPO11', 'MLH3']\n",
    "   "
   ]
  },
  {
   "cell_type": "code",
   "execution_count": null,
   "id": "060d7fc0",
   "metadata": {},
   "outputs": [],
   "source": [
    "#Germ Cells\n",
    "\n",
    "# transcription = ['GFRA1', 'FGFR3', 'ETV5', 'ID4', 'UTF1', 'ZBTB16']\n",
    "# diff_prolif = ['KIT', 'DMRT1', 'MKI67', 'SOHLH1', 'SOHLH2']\n",
    "# meosis = ['CHEK1', 'BRCA1', 'SPO11', 'DMC1', 'ATM', 'SYCP1', 'SYCP2']\n",
    "# late_pachynema = ['MLH3']\n",
    "# round_spermatid = ['SPAG6']\n",
    "# elongating_spermatid = ['ZPBP', 'ZPBP2', 'DNAH6', 'DNAH7', 'DNAH14', 'CATSPER1', 'CATSPER4', 'CAMK4', 'CREM', 'MYO1D']\n",
    "# sperm = ['TNP2', 'HOOK1', 'SPATA7', 'SPATA32', 'SPATA33', 'PRM3', 'SPATA12', 'SPATA18', 'SPATA20']\n",
    "# late_spermatid = ['CREM', 'MYO1D']\n",
    "\n",
    "# total_germ = transcription + diff_prolif + meosis + late_pachynema + round_spermatid + elongating_spermatid + sperm\n",
    "\n",
    "# all_sperm = round_spermatid + elongating_spermatid + sperm + late_spermatid\n",
    "\n"
   ]
  },
  {
   "cell_type": "code",
   "execution_count": null,
   "id": "265894c9",
   "metadata": {},
   "outputs": [],
   "source": [
    "# Global DGE dotplot\n",
    "\n",
    "# sc.pl.dotplot(adata_hvg, all_markers, groupby='leiden', dendrogram=True)\n",
    "# sc.pl.dotplot(adata_hvg, niche_markers, groupby='leiden', dendrogram=True)\n",
    "# sc.pl.dotplot(adata_hvg, germcell_markers, groupby='leiden', dendrogram=True)\n"
   ]
  },
  {
   "cell_type": "code",
   "execution_count": null,
   "id": "aad16728",
   "metadata": {},
   "outputs": [],
   "source": [
    "# Plotting DGEs on UMAP\n",
    "\n",
    "# sc.pl.umap(adata_hvg,color=macrophage_markers,cmap=\"plasma_r\")\n",
    "# sc.pl.umap(adata_hvg,color=endothelial_markers,cmap=\"plasma_r\")\n",
    "# sc.pl.umap(adata_hvg,color=other,cmap=\"plasma_r\")\n",
    "# sc.pl.umap(adata_hvg,color=lydig_markers,cmap=\"plasma_r\")\n",
    "# sc.pl.umap(adata_hvg,color=myoid_markers,cmap=\"plasma_r\")\n",
    "# sc.pl.umap(adata_hvg,color=spermatid_markers,cmap=\"plasma_r\")\n",
    "# sc.pl.umap(adata_hvg,color=sertoli_markers,cmap=\"plasma_r\")\n",
    "# sc.pl.umap(adata_hvg,color=immature_spermatid_markers,cmap=\"plasma_r\")\n",
    "# sc.pl.umap(adata_hvg,color=spermatogonia_markers,cmap=\"plasma_r\")\n"
   ]
  }
 ],
 "metadata": {
  "kernelspec": {
   "display_name": "Python 3 (ipykernel)",
   "language": "python",
   "name": "python3"
  },
  "language_info": {
   "codemirror_mode": {
    "name": "ipython",
    "version": 3
   },
   "file_extension": ".py",
   "mimetype": "text/x-python",
   "name": "python",
   "nbconvert_exporter": "python",
   "pygments_lexer": "ipython3",
   "version": "3.11.5"
  }
 },
 "nbformat": 4,
 "nbformat_minor": 5
}
